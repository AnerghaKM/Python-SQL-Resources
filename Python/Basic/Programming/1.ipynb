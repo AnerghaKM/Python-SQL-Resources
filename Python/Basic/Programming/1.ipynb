{
 "cells": [
  {
   "cell_type": "code",
   "execution_count": 2,
   "id": "63aa02a3",
   "metadata": {},
   "outputs": [
    {
     "name": "stdout",
     "output_type": "stream",
     "text": [
      "Hello Python\n"
     ]
    }
   ],
   "source": [
    "#1.Write a Python program to print \"Hello Python\"?\n",
    "print(\"Hello Python\")"
   ]
  },
  {
   "cell_type": "code",
   "execution_count": 5,
   "id": "5ae49740",
   "metadata": {},
   "outputs": [
    {
     "name": "stdout",
     "output_type": "stream",
     "text": [
      "enter first number4\n",
      "enter second number5\n",
      "sum =  9\n",
      "div =  0.8\n"
     ]
    }
   ],
   "source": [
    "#2.Write a Python program to do arithmetical operations addition and division.?\n",
    "a=int(input(\"enter first number\"))\n",
    "b=int(input(\"enter second number\"))\n",
    "summ=a+b\n",
    "div=a/b\n",
    "print(\"sum = \",summ)\n",
    "print(\"div = \",div)"
   ]
  },
  {
   "cell_type": "code",
   "execution_count": 11,
   "id": "844a65de",
   "metadata": {},
   "outputs": [
    {
     "name": "stdout",
     "output_type": "stream",
     "text": [
      "enter height5\n",
      "enter breadth6\n",
      "area of triangle with height 5 and breadth 6 is 15.0 \n"
     ]
    }
   ],
   "source": [
    "#3.\tWrite a Python program to find the area of a triangle?\n",
    "h=int(input(\"enter height\"))\n",
    "b=int(input(\"enter breadth\"))\n",
    "area=(b*h)/2\n",
    "print(\"area of triangle with height {} and breadth {} is {} \".format(h,b,area))"
   ]
  },
  {
   "cell_type": "code",
   "execution_count": 9,
   "id": "6a9ae685",
   "metadata": {},
   "outputs": [
    {
     "name": "stdout",
     "output_type": "stream",
     "text": [
      "enter first number3\n",
      "enter second number5\n",
      "before swapping =  3   5\n",
      "after swapping =  5   3\n"
     ]
    }
   ],
   "source": [
    "#4.\tWrite a Python program to swap two variables?\n",
    "a=int(input(\"enter first number\"))\n",
    "b=int(input(\"enter second number\"))\n",
    "print(\"before swapping = \",a , \" \",b)\n",
    "c=a\n",
    "a=b\n",
    "b=c\n",
    "print(\"after swapping = \",a , \" \",b)"
   ]
  },
  {
   "cell_type": "code",
   "execution_count": 14,
   "id": "5af69f7b",
   "metadata": {},
   "outputs": [
    {
     "data": {
      "text/plain": [
       "401"
      ]
     },
     "execution_count": 14,
     "metadata": {},
     "output_type": "execute_result"
    }
   ],
   "source": [
    "#5.\tWrite a Python program to generate a random number?\n",
    "import random\n",
    "random_int = random.randint(0,500)\n",
    "random_int"
   ]
  },
  {
   "cell_type": "code",
   "execution_count": null,
   "id": "ddd0cd1f",
   "metadata": {},
   "outputs": [],
   "source": []
  }
 ],
 "metadata": {
  "kernelspec": {
   "display_name": "Python 3 (ipykernel)",
   "language": "python",
   "name": "python3"
  },
  "language_info": {
   "codemirror_mode": {
    "name": "ipython",
    "version": 3
   },
   "file_extension": ".py",
   "mimetype": "text/x-python",
   "name": "python",
   "nbconvert_exporter": "python",
   "pygments_lexer": "ipython3",
   "version": "3.9.7"
  }
 },
 "nbformat": 4,
 "nbformat_minor": 5
}
