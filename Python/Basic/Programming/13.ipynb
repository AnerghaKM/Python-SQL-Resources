{
 "cells": [
  {
   "cell_type": "raw",
   "id": "799464c0",
   "metadata": {},
   "source": [
    "Question 1:\n",
    "Write a program that calculates and prints the value according to the given formula:\n",
    "Q = Square root of [(2 * C * D)/H]\n",
    "Following are the fixed values of C and H:\n",
    "C is 50. H is 30.\n",
    "D is the variable whose values should be input to your program in a comma-separated\n",
    "sequence.\n",
    "Example\n",
    "Let us assume the following comma separated input sequence is given to the program:\n",
    "100,150,180\n",
    "The output of the program should be:\n",
    "18,22,24"
   ]
  },
  {
   "cell_type": "code",
   "execution_count": 8,
   "id": "1592c348",
   "metadata": {},
   "outputs": [
    {
     "name": "stdout",
     "output_type": "stream",
     "text": [
      "Enter the count of variables : 3\n",
      "enter the values : \n",
      "100\n",
      "150\n",
      "180\n",
      "D =  ['100', '150', '180']  ,  C = 50  ,  H = 30\n",
      "Output is :  [18, 22, 24]\n"
     ]
    }
   ],
   "source": [
    "import math\n",
    "a=int(input(\"Enter the count of variables : \"))\n",
    "print(\"enter the values : \")\n",
    "D=[]\n",
    "for i in range(1,a+1):\n",
    "    b=input()\n",
    "    D.append(b)\n",
    "print(\"D = \",D,\" , \",\"C = 50\",\" , \",\"H = 30\")\n",
    "q=[]\n",
    "def sqr(i):\n",
    "    i=int(i)\n",
    "    m=(100*i)/30\n",
    "    Q=round(math.sqrt(m))\n",
    "    q.append(Q)\n",
    "for i in D:\n",
    "    sqr(i)\n",
    "print(\"Output is : \",q)"
   ]
  },
  {
   "cell_type": "raw",
   "id": "2a91ab36",
   "metadata": {},
   "source": [
    "Question 2:\n",
    "Write a program which takes 2 digits, X,Y as input and generates a 2-dimensional array. The\n",
    "element value in the i-th row and j-th column of the array should be i*j.\n",
    "Note: i=0,1.., X-1; j=0,1,¡Y-1.\n",
    "Example\n",
    "Suppose the following inputs are given to the program:\n",
    "3,5\n",
    "Then, the output of the program should be:\n",
    "[[0, 0, 0, 0, 0], [0, 1, 2, 3, 4], [0, 2, 4, 6, 8]]"
   ]
  },
  {
   "cell_type": "code",
   "execution_count": 9,
   "id": "43c1f424",
   "metadata": {},
   "outputs": [
    {
     "name": "stdout",
     "output_type": "stream",
     "text": [
      "Input number of rows: 3\n",
      "Input number of columns: 5\n",
      "[[0, 0, 0, 0, 0], [0, 1, 2, 3, 4], [0, 2, 4, 6, 8]]\n"
     ]
    }
   ],
   "source": [
    "row_num = int(input(\"Input number of rows: \"))\n",
    "col_num = int(input(\"Input number of columns: \"))\n",
    "multi_list = [[0 for col in range(col_num)] for row in range(row_num)]\n",
    "for row in range(row_num):\n",
    "    for col in range(col_num):\n",
    "        multi_list[row][col]= row*col\n",
    "        #print(\"r :\",row,\"c=\",col)\n",
    "        #print(multi_list)\n",
    "print(multi_list)"
   ]
  },
  {
   "cell_type": "raw",
   "id": "1b256d93",
   "metadata": {},
   "source": [
    "Question 3:\n",
    "Write a program that accepts a comma separated sequence of words as input and prints the\n",
    "words in a comma-separated sequence after sorting them alphabetically.\n",
    "Suppose the following input is supplied to the program:\n",
    "without,hello,bag,world\n",
    "Then, the output should be:\n",
    "bag,hello,without,world"
   ]
  },
  {
   "cell_type": "code",
   "execution_count": 13,
   "id": "b1138ca4",
   "metadata": {},
   "outputs": [
    {
     "name": "stdout",
     "output_type": "stream",
     "text": [
      "enter the string : without,hello,bag,world\n",
      "['without', 'hello', 'bag', 'world']\n",
      "['bag', 'hello', 'without', 'world']\n"
     ]
    }
   ],
   "source": [
    "i=input(\"enter the string : \").split(\",\")\n",
    "print(i)\n",
    "i.sort()\n",
    "print(i)"
   ]
  },
  {
   "cell_type": "raw",
   "id": "f273e9bf",
   "metadata": {},
   "source": [
    "Question 4:\n",
    "Write a program that accepts a sequence of whitespace separated words as input and prints\n",
    "the words after removing all duplicate words and sorting them alphanumerically.\n",
    "Suppose the following input is supplied to the program:\n",
    "hello world and practice makes perfect and hello world again\n",
    "Then, the output should be:\n",
    "again and hello makes perfect practice world"
   ]
  },
  {
   "cell_type": "code",
   "execution_count": 12,
   "id": "6512f958",
   "metadata": {},
   "outputs": [
    {
     "name": "stdout",
     "output_type": "stream",
     "text": [
      "enter the string : hello world and practice makes perfect and hello world again\n"
     ]
    },
    {
     "data": {
      "text/plain": [
       "['again', 'and', 'hello', 'makes', 'perfect', 'practice', 'world']"
      ]
     },
     "execution_count": 12,
     "metadata": {},
     "output_type": "execute_result"
    }
   ],
   "source": [
    "s=input(\"enter the string : \").split(\" \")\n",
    "s=list(set(s))\n",
    "s.sort()\n",
    "s"
   ]
  },
  {
   "cell_type": "code",
   "execution_count": 11,
   "id": "90574b31",
   "metadata": {},
   "outputs": [
    {
     "name": "stdout",
     "output_type": "stream",
     "text": [
      "enter the string : hello world and practice makes perfect and hello world again\n"
     ]
    },
    {
     "data": {
      "text/plain": [
       "['and', 'again', 'makes', 'world', 'hello', 'perfect', 'practice']"
      ]
     },
     "execution_count": 11,
     "metadata": {},
     "output_type": "execute_result"
    }
   ],
   "source": [
    "#sort based on string length\n",
    "s=input(\"enter the string : \").split(\" \")\n",
    "s=list(set(s))\n",
    "s.sort(key=len)\n",
    "s"
   ]
  },
  {
   "cell_type": "raw",
   "id": "1531c8f2",
   "metadata": {},
   "source": [
    "Question 5:\n",
    "Write a program that accepts a sentence and calculate the number of letters and digits.\n",
    "Suppose the following input is supplied to the program:\n",
    "hello world! 123\n",
    "Then, the output should be:\n",
    "LETTERS 10\n",
    "DIGITS 3"
   ]
  },
  {
   "cell_type": "code",
   "execution_count": 49,
   "id": "c5560169",
   "metadata": {},
   "outputs": [
    {
     "name": "stdout",
     "output_type": "stream",
     "text": [
      "enter the string : hello world! 123\n",
      "LETTERS  10\n",
      "DIGITS  3\n"
     ]
    }
   ],
   "source": [
    "s=input(\"enter the string : \")\n",
    "d=0\n",
    "l=0\n",
    "for i in s:\n",
    "    if i.isdigit():\n",
    "        d+=1\n",
    "    elif i.isalpha():\n",
    "        l+=1\n",
    "print(\"LETTERS \",l)\n",
    "print(\"DIGITS \",d)        "
   ]
  },
  {
   "cell_type": "code",
   "execution_count": 68,
   "id": "83f6f56d",
   "metadata": {},
   "outputs": [
    {
     "name": "stdout",
     "output_type": "stream",
     "text": [
      "enter the string : hello world! 123\n",
      "LETTERS  10\n",
      "DIGITS  3\n"
     ]
    }
   ],
   "source": [
    "import re\n",
    "string=input(\"enter the string : \")\n",
    "d=0\n",
    "l=0\n",
    "a=re.findall('[0-9]',string)\n",
    "b=re.findall('[a-zA-Z]',string)\n",
    "for i in string:\n",
    "    if i in a:\n",
    "        d+=1\n",
    "    elif i in b:\n",
    "        l+=1\n",
    "print(\"LETTERS \",l)\n",
    "print(\"DIGITS \",d)  "
   ]
  },
  {
   "cell_type": "code",
   "execution_count": 70,
   "id": "0f32475e",
   "metadata": {},
   "outputs": [
    {
     "name": "stdout",
     "output_type": "stream",
     "text": [
      "enter the string : hello world! 123\n",
      "LETTERS :  10\n",
      "DIGITS :  3\n"
     ]
    }
   ],
   "source": [
    "import re\n",
    "string =input(\"enter the string : \")\n",
    "# initialized value\n",
    "total_digits = len(re.findall('[0-9]',string))\n",
    "total_letters = len(re.findall('[A-z]', string))\n",
    "# iterate through all characters\n",
    "print(\"LETTERS : \", total_letters)\n",
    "print(\"DIGITS : \", total_digits)"
   ]
  },
  {
   "cell_type": "raw",
   "id": "001d2e53",
   "metadata": {},
   "source": [
    "Question 6:\n",
    "A website requires the users to input username and password to register. Write a program to\n",
    "check the validity of password input by users.\n",
    "Following are the criteria for checking the password:\n",
    "1. At least 1 letter between [a-z]\n",
    "2. At least 1 number between [0-9]\n",
    "1. At least 1 letter between [A-Z]\n",
    "3. At least 1 character from [$#@]\n",
    "4. Minimum length of transaction password: 6\n",
    "5. Maximum length of transaction password: 12\n",
    "Your program should accept a sequence of comma separated passwords and will check them\n",
    "according to the above criteria. Passwords that match the criteria are to be printed, each\n",
    "separated by a comma.\n",
    "Example\n",
    "If the following passwords are given as input to the program:\n",
    "ABd1234@1,a F1#,2w3E*,2We3345\n",
    "Then, the output of the program should be:\n",
    "ABd1234@1"
   ]
  },
  {
   "cell_type": "code",
   "execution_count": 138,
   "id": "f2b75396",
   "metadata": {},
   "outputs": [
    {
     "name": "stdout",
     "output_type": "stream",
     "text": [
      "enter the passwords : ABd1234@1,a F1#,2w3E*,2We3345\n",
      "['ABd1234@1', 'a F1#', '2w3E*', '2We3345']\n",
      "ABd1234@1\n"
     ]
    }
   ],
   "source": [
    "import re\n",
    "p=input(\"enter the passwords : \").split(\",\")\n",
    "print(p)\n",
    "for i in p:\n",
    "    if (6<=len(i)<=12):\n",
    "        if re.search(\"([a-z])+\", i):\n",
    "            if re.search(\"([A-Z])+\", i):\n",
    "                if re.search(\"([0-9])+\", i):\n",
    "                    if re.search(\"([#,@,$])+\", i):\n",
    "                        print(i)"
   ]
  }
 ],
 "metadata": {
  "kernelspec": {
   "display_name": "Python 3 (ipykernel)",
   "language": "python",
   "name": "python3"
  },
  "language_info": {
   "codemirror_mode": {
    "name": "ipython",
    "version": 3
   },
   "file_extension": ".py",
   "mimetype": "text/x-python",
   "name": "python",
   "nbconvert_exporter": "python",
   "pygments_lexer": "ipython3",
   "version": "3.9.7"
  }
 },
 "nbformat": 4,
 "nbformat_minor": 5
}
