{
 "cells": [
  {
   "cell_type": "raw",
   "id": "1cdae8dc",
   "metadata": {},
   "source": [
    "Question 1:\n",
    "Define a class with a generator which can iterate the numbers, which are divisible by\n",
    "7, between a given range 0 and n."
   ]
  },
  {
   "cell_type": "code",
   "execution_count": 40,
   "id": "e0b756d7",
   "metadata": {},
   "outputs": [
    {
     "name": "stdout",
     "output_type": "stream",
     "text": [
      "0 7 14 21 28 35 42 49 56 63 70 77 84 91 98 105 112 119 126 133 140 147 154 161 168 175 182 189 196 203 210 217 224 231 238 245 252 259 266 273 280 287 294 301 308 315 322 329 336 343 350 "
     ]
    }
   ],
   "source": [
    "class div_generator:\n",
    "    def __init__(self,in_num):\n",
    "        self.in_num = in_num\n",
    "    def get_numbers(self):\n",
    "        for ele in range(0,self.in_num+1):\n",
    "            if ele%7 == 0:\n",
    "                yield ele\n",
    "                \n",
    "output = div_generator(350)\n",
    "for ele in output.get_numbers():\n",
    "   print(ele,end=' ')"
   ]
  },
  {
   "cell_type": "raw",
   "id": "5203ff30",
   "metadata": {},
   "source": [
    "Question 2:\n",
    "Write a program to compute the frequency of the words from the input. The output\n",
    "should output after sorting the key alphanumerically.\n",
    "Suppose the following input is supplied to the program:\n",
    "New to Python or choosing between Python 2 and Python 3? Read Python 2 or\n",
    "Python 3.\n",
    "Then, the output should be:\n",
    "2:2\n",
    "3.:1\n",
    "3?:1\n",
    "New:1\n",
    "Python:5\n",
    "Read:1\n",
    "and:1\n",
    "between:1\n",
    "choosing:1\n",
    "or:2\n",
    "to:1"
   ]
  },
  {
   "cell_type": "code",
   "execution_count": 22,
   "id": "8e1f107e",
   "metadata": {},
   "outputs": [
    {
     "name": "stdout",
     "output_type": "stream",
     "text": [
      "enter the string : New to Python or choosing between Python 2 and Python 3? Read Python 2 or Python 3.\n",
      "2 : 1\n",
      "3. : 2\n",
      "3? : 2\n",
      "New : 3\n",
      "Python : 6\n",
      "Read : 4\n",
      "and : 3\n",
      "between : 7\n",
      "choosing : 8\n",
      "or : 2\n",
      "to : 2\n"
     ]
    }
   ],
   "source": [
    "string=input(\"enter the string : \").split(\" \")\n",
    "for i in sorted(set(string)):\n",
    "    print(i,\":\",len(i))      "
   ]
  },
  {
   "cell_type": "raw",
   "id": "df4da2a2",
   "metadata": {},
   "source": [
    "Question 3:\n",
    "\n",
    "Define a class Person and its two child classes: Male and Female. All classes have a method \"getGender\" which can print \"Male\" for Male class and \"Female\" for Female class. ?"
   ]
  },
  {
   "cell_type": "code",
   "execution_count": 24,
   "id": "68ca111e",
   "metadata": {},
   "outputs": [
    {
     "name": "stdout",
     "output_type": "stream",
     "text": [
      "Male\n",
      "Female\n"
     ]
    }
   ],
   "source": [
    "class Person:\n",
    "    def getGender():\n",
    "        pass\n",
    "    \n",
    "class Male:\n",
    "    def getGender():\n",
    "        print(\"Male\")\n",
    "    \n",
    "class Female:\n",
    "    def getGender():\n",
    "        print(\"Female\")\n",
    "    \n",
    "Male.getGender()\n",
    "Female.getGender()"
   ]
  },
  {
   "cell_type": "raw",
   "id": "dbe1fc52",
   "metadata": {},
   "source": [
    "Question 4:\n",
    "Please write a program to generate all sentences where subject is in [\"I\", \"You\"] and verb is in [\"Play\", \"Love\"] and the object is in [\"Hockey\",\"Football\"] ?"
   ]
  },
  {
   "cell_type": "code",
   "execution_count": 27,
   "id": "7d208305",
   "metadata": {},
   "outputs": [
    {
     "name": "stdout",
     "output_type": "stream",
     "text": [
      "I   Play   Hockey\n",
      "I   Play   Football\n",
      "I   Love   Hockey\n",
      "I   Love   Football\n",
      "You   Play   Hockey\n",
      "You   Play   Football\n",
      "You   Love   Hockey\n",
      "You   Love   Football\n"
     ]
    }
   ],
   "source": [
    "def sentence():\n",
    "    sub=[\"I\", \"You\"]\n",
    "    verb=[\"Play\", \"Love\"]\n",
    "    obj=[\"Hockey\",\"Football\"]\n",
    "    for i in sub:\n",
    "        for j in verb:\n",
    "            for k in obj:\n",
    "                print(i,\" \",j,\" \",k)\n",
    "    \n",
    "sentence()"
   ]
  },
  {
   "cell_type": "raw",
   "id": "675ce72c",
   "metadata": {},
   "source": [
    "Question 5:\n",
    "Please write a program to compress and decompress the string \"hello world!hello world!hello world!hello world!\" ?"
   ]
  },
  {
   "cell_type": "code",
   "execution_count": 31,
   "id": "b75de5f2",
   "metadata": {},
   "outputs": [
    {
     "ename": "TypeError",
     "evalue": "a bytes-like object is required, not 'str'",
     "output_type": "error",
     "traceback": [
      "\u001b[1;31m---------------------------------------------------------------------------\u001b[0m",
      "\u001b[1;31mTypeError\u001b[0m                                 Traceback (most recent call last)",
      "\u001b[1;32mC:\\Users\\ANERGH~1\\AppData\\Local\\Temp/ipykernel_19336/1190895335.py\u001b[0m in \u001b[0;36m<module>\u001b[1;34m\u001b[0m\n\u001b[0;32m      1\u001b[0m \u001b[1;32mimport\u001b[0m \u001b[0mzlib\u001b[0m\u001b[1;33m\u001b[0m\u001b[1;33m\u001b[0m\u001b[0m\n\u001b[0;32m      2\u001b[0m \u001b[0ms\u001b[0m \u001b[1;33m=\u001b[0m \u001b[1;34m'hello world!hello world!hello world!hello world!'\u001b[0m\u001b[1;33m\u001b[0m\u001b[1;33m\u001b[0m\u001b[0m\n\u001b[1;32m----> 3\u001b[1;33m \u001b[0mt\u001b[0m \u001b[1;33m=\u001b[0m \u001b[0mzlib\u001b[0m\u001b[1;33m.\u001b[0m\u001b[0mcompress\u001b[0m\u001b[1;33m(\u001b[0m\u001b[0ms\u001b[0m\u001b[1;33m)\u001b[0m\u001b[1;33m\u001b[0m\u001b[1;33m\u001b[0m\u001b[0m\n\u001b[0m\u001b[0;32m      4\u001b[0m \u001b[0mprint\u001b[0m \u001b[1;33m(\u001b[0m\u001b[0mt\u001b[0m\u001b[1;33m)\u001b[0m\u001b[1;33m\u001b[0m\u001b[1;33m\u001b[0m\u001b[0m\n\u001b[0;32m      5\u001b[0m \u001b[0mprint\u001b[0m \u001b[1;33m(\u001b[0m\u001b[0mzlib\u001b[0m\u001b[1;33m.\u001b[0m\u001b[0mdecompress\u001b[0m\u001b[1;33m(\u001b[0m\u001b[0mt\u001b[0m\u001b[1;33m)\u001b[0m\u001b[1;33m)\u001b[0m\u001b[1;33m\u001b[0m\u001b[1;33m\u001b[0m\u001b[0m\n",
      "\u001b[1;31mTypeError\u001b[0m: a bytes-like object is required, not 'str'"
     ]
    }
   ],
   "source": [
    "import zlib\n",
    "s = 'hello world!hello world!hello world!hello world!'\n",
    "t = zlib.compress(s)\n",
    "print (t)\n",
    "print (zlib.decompress(t))"
   ]
  },
  {
   "cell_type": "code",
   "execution_count": 32,
   "id": "6aace02d",
   "metadata": {},
   "outputs": [
    {
     "name": "stdout",
     "output_type": "stream",
     "text": [
      "b'x\\x9c\\xcbH\\xcd\\xc9\\xc9W(\\xcf/\\xcaIQ\\xcc \\x82\\r\\x00\\xbd[\\x11\\xf5'\n",
      "b'hello world!hello world!hello world!hello world!'\n"
     ]
    }
   ],
   "source": [
    "import zlib\n",
    "s = 'hello world!hello world!hello world!hello world!'\n",
    "# In Python 3 zlib.compress() accepts only DataType <bytes>\n",
    "y = bytes(s, 'utf-8')\n",
    "x = zlib.compress(y)\n",
    "print(x)\n",
    "print(zlib.decompress(x))"
   ]
  },
  {
   "cell_type": "raw",
   "id": "1cc6317d",
   "metadata": {},
   "source": [
    "Question 6:\n",
    "Please write a binary search function which searches an item in a sorted list. The\n",
    "function should return the index of element to be searched in the list."
   ]
  },
  {
   "cell_type": "code",
   "execution_count": 48,
   "id": "59157899",
   "metadata": {},
   "outputs": [
    {
     "name": "stdout",
     "output_type": "stream",
     "text": [
      "enter the limit of elements in list : 6\n",
      "45\n",
      "90\n",
      "36\n",
      "61\n",
      "28\n",
      "88\n",
      "list is : [45, 90, 36, 61, 28, 88]\n",
      "sorted list is  [28, 36, 45, 61, 88, 90]\n",
      "enter the element to search : 88\n",
      "index of element is  4\n"
     ]
    }
   ],
   "source": [
    "def binary(s):\n",
    "    low = 0\n",
    "    high = len(l)-1\n",
    "    while low <= high:\n",
    "        mid = high+low//2\n",
    "        if l[mid] < s:\n",
    "            low = mid+1\n",
    "        elif l[mid] > s:\n",
    "            high = mid-1\n",
    "        else:\n",
    "            return mid    \n",
    "k=int(input(\"enter the limit of elements in list : \"))\n",
    "l=[]\n",
    "for i in range(0,k):\n",
    "    n=int(input())\n",
    "    l.append(n)\n",
    "print(\"list is :\",l)\n",
    "l.sort()\n",
    "print(\"sorted list is \",l)\n",
    "s=int(input(\"enter the element to search : \"))\n",
    "print(\"index of element is \",binary(s))"
   ]
  },
  {
   "cell_type": "code",
   "execution_count": 45,
   "id": "92a15eb8",
   "metadata": {},
   "outputs": [
    {
     "name": "stdout",
     "output_type": "stream",
     "text": [
      "enter the limit of elements in list : 5\n",
      "90\n",
      "83\n",
      "45\n",
      "12\n",
      "34\n",
      "list is : [90, 83, 45, 12, 34]\n",
      "sorted list is  [12, 34, 45, 83, 90]\n",
      "enter the element to search : 34\n",
      "index of the element  34  is  1\n"
     ]
    }
   ],
   "source": [
    "def binary(s):\n",
    "    print(\"index of the element \",s,\" is \",l.index(s))    \n",
    "k=int(input(\"enter the limit of elements in list : \"))\n",
    "l=[]\n",
    "for i in range(0,k):\n",
    "    n=int(input())\n",
    "    l.append(n)\n",
    "print(\"list is :\",l)\n",
    "l.sort()\n",
    "print(\"sorted list is \",l)\n",
    "s=int(input(\"enter the element to search : \"))\n",
    "binary(s)"
   ]
  },
  {
   "cell_type": "code",
   "execution_count": null,
   "id": "e85560bb",
   "metadata": {},
   "outputs": [],
   "source": []
  }
 ],
 "metadata": {
  "kernelspec": {
   "display_name": "Python 3 (ipykernel)",
   "language": "python",
   "name": "python3"
  },
  "language_info": {
   "codemirror_mode": {
    "name": "ipython",
    "version": 3
   },
   "file_extension": ".py",
   "mimetype": "text/x-python",
   "name": "python",
   "nbconvert_exporter": "python",
   "pygments_lexer": "ipython3",
   "version": "3.9.7"
  }
 },
 "nbformat": 4,
 "nbformat_minor": 5
}
