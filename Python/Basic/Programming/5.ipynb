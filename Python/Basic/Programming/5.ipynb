{
 "cells": [
  {
   "cell_type": "code",
   "execution_count": 2,
   "id": "65c6f552",
   "metadata": {},
   "outputs": [
    {
     "name": "stdout",
     "output_type": "stream",
     "text": [
      "enter number 1 : 16\n",
      "enter number 2 : 20\n",
      "LCM of numbers  4 0  is  80.0\n",
      "HCF of numbers  4 0  is  4\n"
     ]
    }
   ],
   "source": [
    "#1.\tWrite a Python Program to Find LCM?\n",
    "n1=int(input(\"enter number 1 : \"))\n",
    "n2=int(input(\"enter number 2 : \"))\n",
    "a=n1\n",
    "b=n2\n",
    "while(n2!=0):\n",
    "    temp=n2\n",
    "    n2=n1%n2\n",
    "    n1=temp\n",
    "hcf=n1\n",
    "lcm=((a*b)/hcf)\n",
    "print(\"LCM of numbers \",n1,n2,\" is \",lcm)\n",
    "print(\"HCF of numbers \",n1,n2,\" is \",hcf)\n"
   ]
  },
  {
   "cell_type": "code",
   "execution_count": 6,
   "id": "b191a125",
   "metadata": {},
   "outputs": [
    {
     "name": "stdout",
     "output_type": "stream",
     "text": [
      "Enter the first number:16\n",
      "Enter the second number:20\n",
      "LCM is: 80\n"
     ]
    }
   ],
   "source": [
    "a=int(input(\"Enter the first number:\"))\n",
    "b=int(input(\"Enter the second number:\"))\n",
    "if(a>b):\n",
    "    min1=a\n",
    "else:\n",
    "    min1=b\n",
    "while(1):\n",
    "    if(min1%a==0 and min1%b==0):\n",
    "        print(\"LCM is:\",min1)\n",
    "        break\n",
    "    min1=min1+1"
   ]
  },
  {
   "cell_type": "code",
   "execution_count": 8,
   "id": "3df19cae",
   "metadata": {},
   "outputs": [
    {
     "name": "stdout",
     "output_type": "stream",
     "text": [
      "enter number1 : 16\n",
      "enter number2 : 20\n",
      "The H.C.F. is 4\n"
     ]
    }
   ],
   "source": [
    "#2.\tWrite a Python Program to Find HCF?\n",
    "def compute_hcf(x, y):\n",
    "    if x > y:\n",
    "        smaller = y\n",
    "    else:\n",
    "        smaller = x\n",
    "    for i in range(1, smaller+1):\n",
    "        if((x % i == 0) and (y % i == 0)):\n",
    "            hcf = i \n",
    "    return hcf\n",
    "\n",
    "num1 = int(input(\"enter number1 : \"))\n",
    "num2 = int(input(\"enter number2 : \"))\n",
    "\n",
    "print(\"The H.C.F. is\", compute_hcf(num1, num2))\n"
   ]
  },
  {
   "cell_type": "code",
   "execution_count": 2,
   "id": "0c899a02",
   "metadata": {},
   "outputs": [
    {
     "name": "stdout",
     "output_type": "stream",
     "text": [
      "Enter a Number: 23\n",
      "Binary Number -> 0b10111\n",
      "Octal Number -> 0o27\n",
      "Hexadecimal Number -> 0x17\n"
     ]
    }
   ],
   "source": [
    "#3.\tWrite a Python Program to Convert Decimal to Binary, Octal and Hexadecimal?\n",
    "def decimalConverter():\n",
    "    num = int(input('Enter a Number: '))\n",
    "    print(f'Binary Number -> {bin(num)}')\n",
    "    print(f'Octal Number -> {oct(num)}')    \n",
    "    print(f'Hexadecimal Number -> {hex(num)}')    \n",
    "\n",
    "decimalConverter()"
   ]
  },
  {
   "cell_type": "code",
   "execution_count": 18,
   "id": "9f7c37fc",
   "metadata": {},
   "outputs": [
    {
     "name": "stdout",
     "output_type": "stream",
     "text": [
      "r\n",
      "The ASCII value of 'r' is 114\n"
     ]
    }
   ],
   "source": [
    "#4.\tWrite a Python Program To Find ASCII value of a character?\n",
    "\n",
    "character = input()\n",
    "print(\"The ASCII value of '\" + character + \"' is\", ord(character))"
   ]
  },
  {
   "cell_type": "code",
   "execution_count": 15,
   "id": "3c1a5901",
   "metadata": {},
   "outputs": [
    {
     "name": "stdout",
     "output_type": "stream",
     "text": [
      "enter the number1 : 45\n",
      "enter the number2 : 45\n",
      "Enter 1 - addition , 2 - difference , 3 - division , 4 - multiplication \n",
      "1\n",
      "sum is  90\n"
     ]
    }
   ],
   "source": [
    "#5.\tWrite a Python Program to Make a Simple Calculator with 4 basic mathematical operations?\n",
    "num1=int(input(\"enter the number1 : \"))\n",
    "num2=int(input(\"enter the number2 : \"))\n",
    "print(\"Enter 1 - addition , 2 - difference , 3 - division , 4 - multiplication \")\n",
    "cal=int(input())\n",
    "if cal==1:\n",
    "    sum=num1+num2\n",
    "    print(\"sum is \",sum)\n",
    "elif cal==2:\n",
    "    diff=num1-num2\n",
    "    print(\"difference is \",diff)\n",
    "elif cal==3:\n",
    "    quo=num1/num2\n",
    "    print(\"quotient is \",quo)\n",
    "elif cal==4:\n",
    "    pro=num1*num2\n",
    "    print(\"product is \",pro)"
   ]
  },
  {
   "cell_type": "code",
   "execution_count": null,
   "id": "6988d769",
   "metadata": {},
   "outputs": [],
   "source": []
  }
 ],
 "metadata": {
  "kernelspec": {
   "display_name": "Python 3 (ipykernel)",
   "language": "python",
   "name": "python3"
  },
  "language_info": {
   "codemirror_mode": {
    "name": "ipython",
    "version": 3
   },
   "file_extension": ".py",
   "mimetype": "text/x-python",
   "name": "python",
   "nbconvert_exporter": "python",
   "pygments_lexer": "ipython3",
   "version": "3.9.7"
  }
 },
 "nbformat": 4,
 "nbformat_minor": 5
}
