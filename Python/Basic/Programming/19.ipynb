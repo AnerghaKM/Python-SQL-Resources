{
 "cells": [
  {
   "cell_type": "markdown",
   "id": "0511deeb",
   "metadata": {},
   "source": [
    "Question1\n",
    "Create a function that takes a string and returns a string in which each character is repeated\n",
    "once.\n",
    "Examples\n",
    "\n",
    "double_char(&quot;String&quot;) ➞ &quot;SSttrriinngg&quot;\n",
    "\n",
    "double_char(&quot;Hello World!&quot;) ➞ &quot;HHeelllloo WWoorrlldd!!&quot;\n",
    "\n",
    "double_char(&quot;1234!_ &quot;) ➞ &quot;11223344!!__ &quot;"
   ]
  },
  {
   "cell_type": "code",
   "execution_count": 12,
   "id": "611e5d61",
   "metadata": {},
   "outputs": [
    {
     "name": "stdout",
     "output_type": "stream",
     "text": [
      "enter the string : Hello World!\n",
      "HHeelllloo  WWoorrlldd!!"
     ]
    }
   ],
   "source": [
    "def st(n):\n",
    "    for i in n:\n",
    "        print(i*2,end=\"\")\n",
    "n=input(\"enter the string : \")\n",
    "st(n)"
   ]
  },
  {
   "cell_type": "code",
   "execution_count": 13,
   "id": "afe1eba0",
   "metadata": {},
   "outputs": [
    {
     "name": "stdout",
     "output_type": "stream",
     "text": [
      "➞ SSttrriinngg\n",
      "➞ HHeelllloo  WWoorrlldd!!\n",
      "➞ 11223344!!__\n"
     ]
    }
   ],
   "source": [
    "def double_char(in_string):\n",
    "    out_string = ''\n",
    "    for ele in in_string:\n",
    "        out_string += ele*2\n",
    "        #print(out_string)\n",
    "    return out_string\n",
    "\n",
    "print(f'➞ {double_char(\"String\")}')\n",
    "print(f'➞ {double_char(\"Hello World!\")}')\n",
    "print(f'➞ {double_char(\"1234!_\")}')"
   ]
  },
  {
   "cell_type": "markdown",
   "id": "02cacd97",
   "metadata": {},
   "source": [
    "Question2\n",
    "Create a function that reverses a boolean value and returns the string &quot;boolean expected&quot;\n",
    "if another variable type is given.\n",
    "Examples\n",
    "\n",
    "reverse(True) ➞ False\n",
    "\n",
    "reverse(False) ➞ True\n",
    "\n",
    "reverse(0) ➞ &quot;boolean expected&quot;\n",
    "\n",
    "reverse(None) ➞ &quot;boolean expected&quot;"
   ]
  },
  {
   "cell_type": "code",
   "execution_count": 30,
   "id": "db62c602",
   "metadata": {},
   "outputs": [
    {
     "name": "stdout",
     "output_type": "stream",
     "text": [
      "reverse(True) ➞ False\n",
      "reverse(False) ➞ True\n",
      "reverse(0) ➞ Boolean Expected\n",
      "reverse(None) ➞ Boolean Expected\n"
     ]
    }
   ],
   "source": [
    "def reverse(n):\n",
    "    if type(n) == bool:\n",
    "        return not n\n",
    "    else:\n",
    "        return \"Boolean Expected\"\n",
    "\n",
    "print(f'reverse(True) ➞ {reverse(True)}')\n",
    "print(f'reverse(False) ➞ {reverse(False)}')\n",
    "print(f'reverse(0) ➞ {reverse(0)}')\n",
    "print(f'reverse(None) ➞ {reverse(None)}')"
   ]
  },
  {
   "cell_type": "markdown",
   "id": "fd588139",
   "metadata": {},
   "source": [
    "Question3\n",
    "Create a function that returns the thickness (in meters) of a piece of paper after folding it n\n",
    "number of times. The paper starts off with a thickness of 0.5mm.\n",
    "Examples\n",
    "num_layers(1) ➞ &quot;0.001m&quot;\n",
    "\n",
    " Paper folded once is 1mm (equal to 0.001m)\n",
    " \n",
    "num_layers(4) ➞ &quot;0.008m&quot;\n",
    "\n",
    " Paper folded 4 times is 8mm (equal to 0.008m)\n",
    " \n",
    "num_layers(21) ➞ &quot;1048.576m&quot;\n",
    "\n",
    " Paper folded 21 times is 1048576mm (equal to 1048.576m)"
   ]
  },
  {
   "cell_type": "code",
   "execution_count": 36,
   "id": "bf676d76",
   "metadata": {},
   "outputs": [
    {
     "name": "stdout",
     "output_type": "stream",
     "text": [
      "enter the number of times to fold : 1\n",
      "num_layers(1) ➞ 0.001 m\n",
      "enter the number of times to fold : 4\n",
      "num_layers(4) ➞ 0.008 m\n",
      "enter the number of times to fold : 21\n",
      "num_layers(21) ➞ 1048.576 m\n"
     ]
    }
   ],
   "source": [
    "def thickness(n):\n",
    "    initial=0.5\n",
    "    for i in range(n):\n",
    "        initial=initial*2\n",
    "    print(f\"num_layers({n}) ➞ {initial/1000} m\")\n",
    "for i in range(3):\n",
    "    n=int(input(\"enter the number of times to fold : \"))\n",
    "    thickness(n)"
   ]
  },
  {
   "cell_type": "markdown",
   "id": "4b63ffd9",
   "metadata": {},
   "source": [
    "Question4\n",
    "\n",
    "Create a function that takes a single string as argument and returns an ordered list containing\n",
    "the indices of all capital letters in the string.\n",
    "Examples\n",
    "\n",
    "index_of_caps(&quot;eDaBiT&quot;) ➞ [1, 3, 5]\n",
    "\n",
    "index_of_caps(&quot;eQuINoX&quot;) ➞ [1, 3, 4, 6]\n",
    "\n",
    "index_of_caps(&quot;determine&quot;) ➞ []\n",
    "\n",
    "index_of_caps(&quot;STRIKE&quot;) ➞ [0, 1, 2, 3, 4, 5]\n",
    "\n",
    "index_of_caps(&quot;sUn&quot;) ➞ [1]"
   ]
  },
  {
   "cell_type": "code",
   "execution_count": 44,
   "id": "815a3928",
   "metadata": {},
   "outputs": [
    {
     "name": "stdout",
     "output_type": "stream",
     "text": [
      "enter the stringeDaBiT\n",
      "index_of_caps(eDaBiT) ➞ [1, 3, 5]\n",
      "enter the stringeQuINoX\n",
      "index_of_caps(eQuINoX) ➞ [1, 3, 4, 6]\n",
      "enter the stringdetermine\n",
      "index_of_caps(determine) ➞ []\n",
      "enter the stringSTRIKE\n",
      "index_of_caps(STRIKE) ➞ [0, 1, 2, 3, 4, 5]\n",
      "enter the stringsUn\n",
      "index_of_caps(sUn) ➞ [1]\n"
     ]
    }
   ],
   "source": [
    "import re\n",
    "def caps(n):\n",
    "    l=[]\n",
    "    for i in n:\n",
    "        if i.isupper():\n",
    "            l.append(n.index(i)) \n",
    "    print(f\"index_of_caps({n}) ➞ {l}\")\n",
    "for i in range(5):\n",
    "    n=input(\"enter the string\")\n",
    "    caps(n)"
   ]
  },
  {
   "cell_type": "markdown",
   "id": "02869aa1",
   "metadata": {},
   "source": [
    "Question5\n",
    "Using list comprehensions, create a function that finds all even numbers from 1 to the given\n",
    "number.\n",
    "Examples\n",
    "\n",
    "find_even_nums(8) ➞ [2, 4, 6, 8]\n",
    "\n",
    "find_even_nums(4) ➞ [2, 4]\n",
    "\n",
    "find_even_nums(2) ➞ [2]"
   ]
  },
  {
   "cell_type": "code",
   "execution_count": 53,
   "id": "1a3c9d7b",
   "metadata": {},
   "outputs": [
    {
     "name": "stdout",
     "output_type": "stream",
     "text": [
      "enter the number : 8\n",
      "find_even_nums(8) ➞ [2, 4, 6, 8]\n",
      "enter the number : 4\n",
      "find_even_nums(4) ➞ [2, 4]\n",
      "enter the number : 2\n",
      "find_even_nums(2) ➞ [2]\n"
     ]
    }
   ],
   "source": [
    "def even(n):\n",
    "    e=[i for i in range(1,n+1) if i%2==0]\n",
    "    print(f\"find_even_nums({n}) ➞ {e}\")\n",
    "for i in range(3):\n",
    "    n=int(input(\"enter the number : \"))\n",
    "    even(n)"
   ]
  }
 ],
 "metadata": {
  "kernelspec": {
   "display_name": "Python 3 (ipykernel)",
   "language": "python",
   "name": "python3"
  },
  "language_info": {
   "codemirror_mode": {
    "name": "ipython",
    "version": 3
   },
   "file_extension": ".py",
   "mimetype": "text/x-python",
   "name": "python",
   "nbconvert_exporter": "python",
   "pygments_lexer": "ipython3",
   "version": "3.9.7"
  }
 },
 "nbformat": 4,
 "nbformat_minor": 5
}
