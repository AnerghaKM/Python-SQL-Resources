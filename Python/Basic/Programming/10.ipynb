{
 "cells": [
  {
   "cell_type": "code",
   "execution_count": 9,
   "id": "619e25fa",
   "metadata": {},
   "outputs": [
    {
     "name": "stdout",
     "output_type": "stream",
     "text": [
      "enter the limit : 4\n",
      "enter the elements :\n",
      "5\n",
      "6\n",
      "9\n",
      "1\n",
      "entered elements are : ['5', '6', '9', '1']\n",
      "sum of elements in array is  21\n"
     ]
    }
   ],
   "source": [
    "#1. Write a Python program to find sum of elements in list?\n",
    "n=int(input(\"enter the limit : \"))\n",
    "l=[]\n",
    "print(\"enter the elements :\")\n",
    "for i in range(1,n+1):\n",
    "    ele=input()\n",
    "    l.append(ele)\n",
    "print(\"entered elements are :\",l)\n",
    "sum=0\n",
    "for j in l:\n",
    "    j=int(j)\n",
    "    sum=sum+j\n",
    "print(\"sum of elements in array is \",sum)    "
   ]
  },
  {
   "cell_type": "code",
   "execution_count": 11,
   "id": "64591272",
   "metadata": {},
   "outputs": [
    {
     "name": "stdout",
     "output_type": "stream",
     "text": [
      "enter the limit : 3\n",
      "enter the elements :\n",
      "6\n",
      "7\n",
      "8\n",
      "entered elements are : ['6', '7', '8']\n",
      "product of elements in array is  336\n"
     ]
    }
   ],
   "source": [
    "## 2. Write a Python program to Multiply all numbers in the list?\n",
    "n=int(input(\"enter the limit : \"))\n",
    "l=[]\n",
    "print(\"enter the elements :\")\n",
    "for i in range(1,n+1):\n",
    "    ele=input()\n",
    "    l.append(ele)\n",
    "print(\"entered elements are :\",l)\n",
    "mul=1\n",
    "for j in l:\n",
    "    j=int(j)\n",
    "    mul=mul*j\n",
    "print(\"product of elements in array is \",mul)    "
   ]
  },
  {
   "cell_type": "code",
   "execution_count": 21,
   "id": "650cb5dc",
   "metadata": {},
   "outputs": [
    {
     "name": "stdout",
     "output_type": "stream",
     "text": [
      "enter the limit : 5\n",
      "enter the elements :\n",
      "23\n",
      "45\n",
      "67\n",
      "09\n",
      "18\n",
      "entered elements are : ['23', '45', '67', '09', '18']\n",
      "smallest of element in array is  9\n"
     ]
    }
   ],
   "source": [
    "#3. Write a Python program to find smallest number in a list?\n",
    "n=int(input(\"enter the limit : \"))\n",
    "l=[]\n",
    "print(\"enter the elements :\")\n",
    "for i in range(1,n+1):\n",
    "    ele=input()\n",
    "    l.append(ele)\n",
    "print(\"entered elements are :\",l)\n",
    "small=int(l[0])\n",
    "for j in l:\n",
    "    j=int(j)\n",
    "    if(j<small):\n",
    "        small=j       \n",
    "print(\"smallest of element in array is \",small)"
   ]
  },
  {
   "cell_type": "code",
   "execution_count": 23,
   "id": "2ace0f54",
   "metadata": {},
   "outputs": [
    {
     "name": "stdout",
     "output_type": "stream",
     "text": [
      "enter the limit : 4\n",
      "enter the elements :\n",
      "12\n",
      "89\n",
      "65\n",
      "34\n",
      "entered elements are : ['12', '89', '65', '34']\n",
      "largest of element in array is  89\n"
     ]
    }
   ],
   "source": [
    "### 4. Write a Python program to find largest number in a list?\n",
    "n=int(input(\"enter the limit : \"))\n",
    "l=[]\n",
    "large=0\n",
    "print(\"enter the elements :\")\n",
    "for i in range(1,n+1):\n",
    "    ele=input()\n",
    "    l.append(ele)\n",
    "print(\"entered elements are :\",l)\n",
    "for j in l:\n",
    "    #print(j)\n",
    "    j=int(j)\n",
    "    if(j>large):\n",
    "        large=j\n",
    "\n",
    "print(\"largest of element in array is \",large)    \n"
   ]
  },
  {
   "cell_type": "code",
   "execution_count": 22,
   "id": "808de30a",
   "metadata": {},
   "outputs": [
    {
     "name": "stdout",
     "output_type": "stream",
     "text": [
      "enter the limit : 5\n",
      "enter the elements :\n",
      "12\n",
      "34\n",
      "78\n",
      "95\n",
      "64\n",
      "entered elements are : ['12', '34', '78', '95', '64']\n",
      "largest of element in array is  95\n"
     ]
    }
   ],
   "source": [
    "#3. Write a Python program to find smallest number in a list?\n",
    "n=int(input(\"enter the limit : \"))\n",
    "l=[]\n",
    "print(\"enter the elements :\")\n",
    "for i in range(1,n+1):\n",
    "    ele=input()\n",
    "    l.append(ele)\n",
    "print(\"entered elements are :\",l)\n",
    "large=int(l[0])\n",
    "for j in l:\n",
    "    j=int(j)\n",
    "    if(j>large):\n",
    "        large=j       \n",
    "print(\"largest of element in array is \",large)"
   ]
  },
  {
   "cell_type": "code",
   "execution_count": 30,
   "id": "e0518aeb",
   "metadata": {},
   "outputs": [
    {
     "name": "stdout",
     "output_type": "stream",
     "text": [
      "enter the limit : 4\n",
      "enter the elements :\n",
      "52\n",
      "78\n",
      "34\n",
      "91\n",
      "entered elements are : ['52', '78', '34', '91']\n",
      "['91', '78', '52', '34']\n",
      "Second largest number in a list is  78\n"
     ]
    }
   ],
   "source": [
    "#5. Write a Python program to find second largest number in a list?\n",
    "n=int(input(\"enter the limit : \"))\n",
    "l=[]\n",
    "print(\"enter the elements :\")\n",
    "for i in range(1,n+1):\n",
    "    ele=input()\n",
    "    l.append(ele)\n",
    "print(\"entered elements are :\",l)\n",
    "l.sort(reverse=True)\n",
    "print(l)\n",
    "print(\"Second largest number in a list is \",l[1])"
   ]
  },
  {
   "cell_type": "code",
   "execution_count": 34,
   "id": "fe2b8097",
   "metadata": {},
   "outputs": [
    {
     "name": "stdout",
     "output_type": "stream",
     "text": [
      "enter the limit : 5\n",
      "enter the elements :\n",
      "23\n",
      "56\n",
      "73\n",
      "89\n",
      "91\n",
      "entered elements are : ['23', '56', '73', '89', '91']\n",
      "Enter N : 3\n",
      "Top 3  largest elements are  ['91', '89', '73']\n"
     ]
    }
   ],
   "source": [
    "#6. Write a Python program to find N largest elements from a list?\n",
    "n=int(input(\"enter the limit : \"))\n",
    "l=[]\n",
    "print(\"enter the elements :\")\n",
    "for i in range(1,n+1):\n",
    "    ele=input()\n",
    "    l.append(ele)\n",
    "print(\"entered elements are :\",l)\n",
    "l.sort(reverse=True)\n",
    "#print(l)\n",
    "N=int(input(\"Enter N : \"))\n",
    "print(\"Top\",N,\" largest elements are \",l[:N])\n"
   ]
  },
  {
   "cell_type": "code",
   "execution_count": 36,
   "id": "b0e33170",
   "metadata": {},
   "outputs": [
    {
     "name": "stdout",
     "output_type": "stream",
     "text": [
      "enter the limit : 4\n",
      "enter the elements :\n",
      "12\n",
      "33\n",
      "45\n",
      "68\n",
      "entered elements are : ['12', '33', '45', '68']\n",
      "even elements in list are : \n",
      "12\n",
      "68\n"
     ]
    }
   ],
   "source": [
    "#7. Write a Python program to print even numbers in a list?\n",
    "n=int(input(\"enter the limit : \"))\n",
    "l=[]\n",
    "print(\"enter the elements :\")\n",
    "for i in range(1,n+1):\n",
    "    ele=input()\n",
    "    l.append(ele)\n",
    "print(\"entered elements are :\",l)\n",
    "print(\"even elements in list are : \")\n",
    "for j in l:\n",
    "    j=int(j)\n",
    "    if(j%2==0):\n",
    "        print(j)\n",
    "        "
   ]
  },
  {
   "cell_type": "code",
   "execution_count": 37,
   "id": "efd37ab5",
   "metadata": {},
   "outputs": [
    {
     "name": "stdout",
     "output_type": "stream",
     "text": [
      "enter the limit : 5\n",
      "enter the elements :\n",
      "12\n",
      "34\n",
      "56\n",
      "78\n",
      "99\n",
      "entered elements are : ['12', '34', '56', '78', '99']\n",
      "odd elements in list are : \n",
      "99\n"
     ]
    }
   ],
   "source": [
    "#8. Write a Python program to print odd numbers in a List?\n",
    "n=int(input(\"enter the limit : \"))\n",
    "l=[]\n",
    "print(\"enter the elements :\")\n",
    "for i in range(1,n+1):\n",
    "    ele=input()\n",
    "    l.append(ele)\n",
    "print(\"entered elements are :\",l)\n",
    "print(\"odd elements in list are : \")\n",
    "for j in l:\n",
    "    j=int(j)\n",
    "    if(j%2!=0):\n",
    "        print(j)"
   ]
  },
  {
   "cell_type": "code",
   "execution_count": 55,
   "id": "c83fe738",
   "metadata": {},
   "outputs": [
    {
     "name": "stdout",
     "output_type": "stream",
     "text": [
      "enter the limit : 3\n",
      "enter the elements :\n",
      "ann\n",
      "1\n",
      "[]\n",
      "entered elements are : ['ann', '1', '[]']\n",
      "after removing empty list : \n",
      "['ann', '1']\n"
     ]
    }
   ],
   "source": [
    "#9. Write a Python program to Remove empty List from List?\n",
    "\n",
    "n=int(input(\"enter the limit : \"))\n",
    "l=[]\n",
    "print(\"enter the elements :\")\n",
    "for i in range(1,n+1):\n",
    "    ele=input()\n",
    "    l.append(ele)\n",
    "print(\"entered elements are :\",l)\n",
    "print(\"after removing empty list : \")\n",
    "\n",
    "while '[]' in l:\n",
    "    l.remove('[]')\n",
    "print(l)"
   ]
  },
  {
   "cell_type": "code",
   "execution_count": 56,
   "id": "413badb8",
   "metadata": {},
   "outputs": [
    {
     "name": "stdout",
     "output_type": "stream",
     "text": [
      "enter the limit : 3\n",
      "enter the elements :\n",
      "ann\n",
      "1\n",
      "90\n",
      "entered elements are : ['ann', '1', '90']\n",
      "['ann', '1', '90']\n"
     ]
    }
   ],
   "source": [
    "#10. Write a Python program to Cloning or Copying a list?\n",
    "n=int(input(\"enter the limit : \"))\n",
    "l=[]\n",
    "print(\"enter the elements :\")\n",
    "for i in range(1,n+1):\n",
    "    ele=input()\n",
    "    l.append(ele)\n",
    "print(\"entered elements are :\",l)\n",
    "s=[]\n",
    "for j in l:\n",
    "    s.append(j)\n",
    "print(s)"
   ]
  },
  {
   "cell_type": "code",
   "execution_count": 58,
   "id": "215dbccf",
   "metadata": {},
   "outputs": [
    {
     "name": "stdout",
     "output_type": "stream",
     "text": [
      "enter the limit : 3\n",
      "enter the elements :\n",
      "abc\n",
      "1\n",
      "eat\n",
      "entered elements are : ['abc', '1', 'eat']\n",
      "new list is  ['abc', '1', 'eat']\n"
     ]
    }
   ],
   "source": [
    "n=int(input(\"enter the limit : \"))\n",
    "l=[]\n",
    "print(\"enter the elements :\")\n",
    "for i in range(1,n+1):\n",
    "    ele=input()\n",
    "    l.append(ele)\n",
    "print(\"entered elements are :\",l)\n",
    "s[:]=l[:]\n",
    "print(\"new list is \",s)\n"
   ]
  },
  {
   "cell_type": "code",
   "execution_count": 1,
   "id": "473e9ca7",
   "metadata": {},
   "outputs": [
    {
     "name": "stdout",
     "output_type": "stream",
     "text": [
      "enter the limit : 3\n",
      "enter the elements :\n",
      "abc\n",
      "45\n",
      "56\n",
      "entered elements are : ['abc', '45', '56']\n",
      "new list is : ['abc', '45', '56']\n"
     ]
    }
   ],
   "source": [
    "n=int(input(\"enter the limit : \"))\n",
    "l=[]\n",
    "print(\"enter the elements :\")\n",
    "for i in range(1,n+1):\n",
    "    ele=input()\n",
    "    l.append(ele)\n",
    "print(\"entered elements are :\",l)\n",
    "s=[]\n",
    "s.extend(l)\n",
    "print(\"new list is :\",s)"
   ]
  },
  {
   "cell_type": "code",
   "execution_count": 19,
   "id": "236a5c25",
   "metadata": {},
   "outputs": [
    {
     "name": "stdout",
     "output_type": "stream",
     "text": [
      "enter the limit : 6\n",
      "enter the elements :\n",
      "1\n",
      "5\n",
      "abc\n",
      "aaa\n",
      "abc\n",
      "abc\n",
      "entered elements are  ['1', '5', 'abc', 'aaa', 'abc', 'abc']\n",
      "enter the element to checkabc\n",
      "no of occurrences of  abc is  3\n"
     ]
    }
   ],
   "source": [
    "#11. Write a Python program to Count occurrences of an element in a list?\n",
    "n=int(input(\"enter the limit : \"))\n",
    "l=[]\n",
    "print(\"enter the elements :\")\n",
    "for i in range(1,n+1):\n",
    "    ele=input()\n",
    "    l.append(ele)\n",
    "print(\"entered elements are \",l)\n",
    "count=0\n",
    "c=input(\"enter the element to check\")\n",
    "for i in l:\n",
    "    if(i==c):\n",
    "        count+=1\n",
    "print(\"no of occurrences of \",c,\"is \",count)"
   ]
  },
  {
   "cell_type": "code",
   "execution_count": null,
   "id": "8ef35d5b",
   "metadata": {},
   "outputs": [],
   "source": []
  }
 ],
 "metadata": {
  "kernelspec": {
   "display_name": "Python 3 (ipykernel)",
   "language": "python",
   "name": "python3"
  },
  "language_info": {
   "codemirror_mode": {
    "name": "ipython",
    "version": 3
   },
   "file_extension": ".py",
   "mimetype": "text/x-python",
   "name": "python",
   "nbconvert_exporter": "python",
   "pygments_lexer": "ipython3",
   "version": "3.9.7"
  }
 },
 "nbformat": 4,
 "nbformat_minor": 5
}
