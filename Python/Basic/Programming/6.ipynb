{
 "cells": [
  {
   "cell_type": "code",
   "execution_count": 43,
   "id": "41003200",
   "metadata": {},
   "outputs": [
    {
     "name": "stdout",
     "output_type": "stream",
     "text": [
      "Object `Recursion` not found.\n",
      "Enter number of terms:10\n",
      "0\n",
      "1\n",
      "1\n",
      "2\n",
      "3\n",
      "5\n",
      "8\n",
      "13\n",
      "21\n",
      "34\n"
     ]
    }
   ],
   "source": [
    "#1. Write a Python Program to Display Fibonacci Sequence Using Recursion?\n",
    "def fib(n):\n",
    "    if n==0:\n",
    "        return 0\n",
    "    elif n==1:\n",
    "        return 1\n",
    "    else:\n",
    "        return(fib(n-1) + fib(n-2))\n",
    "n = int(input(\"Enter number of terms:\"))\n",
    "for i in range(n):\n",
    "    print(fib(i))"
   ]
  },
  {
   "cell_type": "code",
   "execution_count": 10,
   "id": "38853038",
   "metadata": {},
   "outputs": [
    {
     "name": "stdout",
     "output_type": "stream",
     "text": [
      "Object `Recursion` not found.\n",
      "enter the number5\n",
      "Factorial :  120\n"
     ]
    }
   ],
   "source": [
    "#2. Write a Python Program to Find Factorial of Number Using Recursion?\n",
    "\n",
    "def factorial(n):\n",
    "    if(n<=1):\n",
    "        return 1\n",
    "    else:\n",
    "        return (n * factorial(n - 1))\n",
    "num = int(input(\"enter the number\"))\n",
    "print(\"Factorial : \",factorial(num))\n"
   ]
  },
  {
   "cell_type": "code",
   "execution_count": 32,
   "id": "9742d14a",
   "metadata": {},
   "outputs": [
    {
     "name": "stdout",
     "output_type": "stream",
     "text": [
      "Object `Index` not found.\n",
      "enter your height190\n",
      "enter your weight50\n",
      "13.85\n"
     ]
    }
   ],
   "source": [
    "#3. Write a Python Program to calculate your Body Mass Index?\n",
    "h = int(input(\"enter your height\"))\n",
    "w = int(input(\"enter your weight\"))\n",
    "bmi=(w/(h**2))*10000\n",
    "b=round(bmi,2)\n",
    "print(b)"
   ]
  },
  {
   "cell_type": "code",
   "execution_count": 1,
   "id": "7e96608b",
   "metadata": {},
   "outputs": [
    {
     "name": "stdout",
     "output_type": "stream",
     "text": [
      "enter the number2\n",
      "Log value:  0.6931471805599453\n"
     ]
    }
   ],
   "source": [
    "#4. Write a Python Program to calculate the natural logarithm of any number?\n",
    "import math \n",
    "n=int(input(\"enter the number\"))\n",
    "print(\"Log value: \", math.log(n))"
   ]
  },
  {
   "cell_type": "code",
   "execution_count": 23,
   "id": "0f8dec3a",
   "metadata": {},
   "outputs": [
    {
     "name": "stdout",
     "output_type": "stream",
     "text": [
      "enter the number4\n",
      "[1, 8, 27, 64]\n",
      "sum of  4  natural numbers is  100\n"
     ]
    }
   ],
   "source": [
    "#5. Write a Python Program for cube sum of first n natural numbers?\n",
    "n=int(input(\"enter the number\"))\n",
    "l=[]\n",
    "for i in range(1,n+1):\n",
    "    c=i**3\n",
    "    l.append(c)\n",
    "print(l)\n",
    "sum=0\n",
    "for i in l:\n",
    "    s=sum+i\n",
    "    sum=s\n",
    "print(\"sum of \",n,\" natural numbers is \",s)   \n",
    "    "
   ]
  },
  {
   "cell_type": "code",
   "execution_count": 78,
   "id": "1e47e92e",
   "metadata": {},
   "outputs": [
    {
     "name": "stdout",
     "output_type": "stream",
     "text": [
      "enter the number5\n",
      "factorial of 5 is  120\n"
     ]
    }
   ],
   "source": [
    "#factorial\n",
    "fact=1\n",
    "n=int(input(\"enter the number\"))\n",
    "for i in range(1,n+1):\n",
    "    f1=fact*i\n",
    "    fact=f1\n",
    "print(\"factorial of\",n ,\"is \",f1)"
   ]
  },
  {
   "cell_type": "code",
   "execution_count": null,
   "id": "8a84d05b",
   "metadata": {},
   "outputs": [],
   "source": [
    "#fibonacci\n",
    "fib1=1\n",
    "fib2=1\n",
    "n=int(input(\"enter the number\"))\n",
    "print(0)\n",
    "print(1)\n",
    "for i in range(n-2):\n",
    "    fib=fib1+fib2\n",
    "    fib1=fib2\n",
    "    fib2=fib\n",
    "    print(fib)"
   ]
  }
 ],
 "metadata": {
  "kernelspec": {
   "display_name": "Python 3 (ipykernel)",
   "language": "python",
   "name": "python3"
  },
  "language_info": {
   "codemirror_mode": {
    "name": "ipython",
    "version": 3
   },
   "file_extension": ".py",
   "mimetype": "text/x-python",
   "name": "python",
   "nbconvert_exporter": "python",
   "pygments_lexer": "ipython3",
   "version": "3.9.7"
  }
 },
 "nbformat": 4,
 "nbformat_minor": 5
}
