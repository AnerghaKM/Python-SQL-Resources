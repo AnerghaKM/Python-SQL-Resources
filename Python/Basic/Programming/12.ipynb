{
 "cells": [
  {
   "cell_type": "code",
   "execution_count": 15,
   "id": "40c59b40",
   "metadata": {},
   "outputs": [
    {
     "name": "stdout",
     "output_type": "stream",
     "text": [
      "enter the number of keys : 5\n",
      "enter the elements : \n",
      "enter the key : key1\n",
      "enter the value : abc\n",
      "enter the key : key2\n",
      "enter the value : abc\n",
      "enter the key : key3\n",
      "enter the value : xyz\n",
      "enter the key : key4\n",
      "enter the value : abc\n",
      "enter the key : key5\n",
      "enter the value : 96\n",
      "given dictionary is :  {'key1': 'abc', 'key2': 'abc', 'key3': 'xyz', 'key4': 'abc', 'key5': '96'}\n",
      "unique values are :  ['xyz', '96']\n"
     ]
    }
   ],
   "source": [
    "#1. Write a Python program to Extract Unique values dictionary values?\n",
    "n=int(input(\"enter the number of keys : \"))\n",
    "d={}\n",
    "print(\"enter the elements : \")\n",
    "for i in range(1,n+1):\n",
    "    k=input(\"enter the key : \")\n",
    "    v=input(\"enter the value : \")\n",
    "    d[k]=v\n",
    "print(\"given dictionary is : \",d)\n",
    "l=[]\n",
    "m=[]      \n",
    "for i in d.values():\n",
    "    #print(i)\n",
    "    l.append(i)\n",
    "for i in l:\n",
    "      if l.count(i)==1:\n",
    "          m.append(i)\n",
    "print(\"unique values are : \",m)     "
   ]
  },
  {
   "cell_type": "code",
   "execution_count": 16,
   "id": "0dc6a1d3",
   "metadata": {},
   "outputs": [
    {
     "name": "stdout",
     "output_type": "stream",
     "text": [
      "enter the number of keys : 3\n",
      "enter the elements : \n",
      "enter the key : key1\n",
      "enter the value : 1\n",
      "enter the key : key2\n",
      "enter the value : 2\n",
      "enter the key : key3\n",
      "enter the value : 3\n",
      "given dictionary is :  {'key1': 1, 'key2': 2, 'key3': 3}\n",
      "sum of items in dictionary is :  6\n"
     ]
    }
   ],
   "source": [
    "#2. Write a Python program to find the sum of all items in a dictionary?\n",
    "n=int(input(\"enter the number of keys : \"))\n",
    "d={}\n",
    "print(\"enter the elements : \")\n",
    "for i in range(1,n+1):\n",
    "    k=input(\"enter the key : \")\n",
    "    v=int(input(\"enter the value : \"))\n",
    "    d[k]=v\n",
    "print(\"given dictionary is : \",d)\n",
    "l=[]\n",
    "for i in d.values():\n",
    "    #print(i)\n",
    "    l.append(i)\n",
    "sum=0\n",
    "for i in l:\n",
    "    s=sum+i\n",
    "    sum=s\n",
    "print(\"sum of items in dictionary is : \",s)"
   ]
  },
  {
   "cell_type": "code",
   "execution_count": 14,
   "id": "40249130",
   "metadata": {},
   "outputs": [
    {
     "name": "stdout",
     "output_type": "stream",
     "text": [
      "enter the number of keys : 3\n",
      "enter the elements : \n",
      "enter the key : key1\n",
      "enter the value : abc\n",
      "enter the key : key2\n",
      "enter the value : aaa\n",
      "enter the key : key3\n",
      "enter the value : xyz\n",
      "enter the number of keys : 2\n",
      "enter the elements : \n",
      "enter the key : xxx\n",
      "enter the value : a12\n",
      "enter the key : ooo\n",
      "enter the value : 00\n",
      "first dictionary is :  {'key1': 'abc', 'key2': 'aaa', 'key3': 'xyz'}\n",
      "second dictionary is :  {'xxx': 'a12', 'ooo': '00'}\n",
      "merged dictionary is :  {'key1': 'abc', 'key2': 'aaa', 'key3': 'xyz', 'xxx': 'a12', 'ooo': '00'}\n"
     ]
    }
   ],
   "source": [
    "# 3. Write a Python program to Merging two Dictionaries?\n",
    "n=int(input(\"enter the number of keys : \"))\n",
    "d={}\n",
    "print(\"enter the elements : \")\n",
    "for i in range(1,n+1):\n",
    "    k=input(\"enter the key : \")\n",
    "    v=input(\"enter the value : \")\n",
    "    d[k]=v\n",
    "n2=int(input(\"enter the number of keys : \"))\n",
    "d2={}\n",
    "print(\"enter the elements : \")\n",
    "for i in range(1,n2+1):\n",
    "    k2=input(\"enter the key : \")\n",
    "    v2=input(\"enter the value : \")\n",
    "    d2[k2]=v2  \n",
    "print(\"first dictionary is : \",d)\n",
    "print(\"second dictionary is : \",d2)\n",
    "print(\"merged dictionary is : \",d | d2)"
   ]
  },
  {
   "cell_type": "code",
   "execution_count": 2,
   "id": "2b7d9692",
   "metadata": {},
   "outputs": [
    {
     "name": "stdout",
     "output_type": "stream",
     "text": [
      "Original dictionary:  {'id': [1, 2, 3], 'name': ['Ann', 'Abc', 'Xyz']}\n",
      "FLATTENED DICTIONARY:  {1: 'Ann', 2: 'Abc', 3: 'Xyz'}\n"
     ]
    }
   ],
   "source": [
    "#4. Write a Python program to convert key-values list to flat dictionary?\n",
    "dic= { \"id\": [1, 2, 3], \"name\": ['Ann', 'Abc', 'Xyz' ] }\n",
    "print(\"Original dictionary: \",dic)\n",
    "\n",
    "# convert to flat dictionary\n",
    "\n",
    "flat_dic= dict(zip(dic[\"id\"], dic[\"name\"]))\n",
    "print(\"FLATTENED DICTIONARY: \", flat_dic)"
   ]
  },
  {
   "cell_type": "code",
   "execution_count": 8,
   "id": "8571d660",
   "metadata": {},
   "outputs": [
    {
     "name": "stdout",
     "output_type": "stream",
     "text": [
      "enter the number of keys : 2\n",
      "enter the elements : \n",
      "enter the key : 1\n",
      "enter the value : a\n",
      "enter the key : 2\n",
      "enter the value : b\n",
      "enter the element to insert at the beginning : \n",
      "enter the key : 3\n",
      "enter the value : c\n"
     ]
    },
    {
     "data": {
      "text/plain": [
       "OrderedDict([('3', 'c'), ('1', 'a'), ('2', 'b')])"
      ]
     },
     "execution_count": 8,
     "metadata": {},
     "output_type": "execute_result"
    }
   ],
   "source": [
    "#5. Write a Python program to insertion at the beginning in OrderedDict?\n",
    "from collections import OrderedDict\n",
    "n=int(input(\"enter the number of keys : \"))\n",
    "d={}\n",
    "print(\"enter the elements : \")\n",
    "for i in range(1,n+1):\n",
    "    k=input(\"enter the key : \")\n",
    "    v=input(\"enter the value : \")\n",
    "    d[k]=v\n",
    "a=OrderedDict(d)\n",
    "b={}\n",
    "print(\"enter the element to insert at the beginning : \")\n",
    "k=input(\"enter the key : \")\n",
    "v=input(\"enter the value : \")\n",
    "b[k]=v\n",
    "new = OrderedDict(list(b.items()) + list(a.items()))\n",
    "new"
   ]
  },
  {
   "cell_type": "code",
   "execution_count": 10,
   "id": "e1c80355",
   "metadata": {},
   "outputs": [
    {
     "name": "stdout",
     "output_type": "stream",
     "text": [
      "Enter the stringthis is a python program\n",
      "Enter the patternis\n",
      "True\n"
     ]
    }
   ],
   "source": [
    "#6. Write a Python program to check order of character in string using OrderedDict()?\n",
    "\n",
    "from collections import OrderedDict \n",
    "def checkOrder(string, pattern): \n",
    "    dic = OrderedDict.fromkeys(string) \n",
    "    ptr = 0\n",
    "    for key,value in dic.items(): \n",
    "        if (key == pattern[ptr]): \n",
    "            ptr = ptr + 1\n",
    "        if (ptr == (len(pattern))): \n",
    "            return 'True'\n",
    "    return 'False'\n",
    "\n",
    "string = input(\"Enter the string\")\n",
    "pattern = input(\"Enter the pattern\")\n",
    "print (checkOrder(string,pattern))"
   ]
  },
  {
   "cell_type": "code",
   "execution_count": 2,
   "id": "82956d20",
   "metadata": {},
   "outputs": [
    {
     "name": "stdout",
     "output_type": "stream",
     "text": [
      "enter the number of keys : 3\n",
      "enter the elements : \n",
      "enter the key : an\n",
      "enter the value : 1\n",
      "enter the key : abc\n",
      "enter the value : 2\n",
      "enter the key : po\n",
      "enter the value : 3\n",
      "{'an': '1', 'abc': '2', 'po': '3'}\n",
      "{'abc': '2', 'an': '1', 'po': '3'}\n"
     ]
    }
   ],
   "source": [
    "#7. Write a Python program to sort Python Dictionaries by Key or Value?\n",
    "\n",
    "n=int(input(\"enter the number of keys : \"))\n",
    "d={}\n",
    "print(\"enter the elements : \")\n",
    "for i in range(1,n+1):\n",
    "    k=input(\"enter the key : \")\n",
    "    v=input(\"enter the value : \")\n",
    "    d[k]=v\n",
    "print(d)\n",
    "\n",
    "l = list(d.keys())\n",
    "l.sort()\n",
    "sorted_dict = {i: d[i] for i in l}\n",
    "\n",
    "print(sorted_dict)\n"
   ]
  },
  {
   "cell_type": "code",
   "execution_count": null,
   "id": "01f180e6",
   "metadata": {},
   "outputs": [],
   "source": []
  }
 ],
 "metadata": {
  "kernelspec": {
   "display_name": "Python 3 (ipykernel)",
   "language": "python",
   "name": "python3"
  },
  "language_info": {
   "codemirror_mode": {
    "name": "ipython",
    "version": 3
   },
   "file_extension": ".py",
   "mimetype": "text/x-python",
   "name": "python",
   "nbconvert_exporter": "python",
   "pygments_lexer": "ipython3",
   "version": "3.9.7"
  }
 },
 "nbformat": 4,
 "nbformat_minor": 5
}
