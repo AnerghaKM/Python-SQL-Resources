{
 "cells": [
  {
   "cell_type": "markdown",
   "id": "8b235539",
   "metadata": {},
   "source": [
    "Question1\n",
    "Write a function that takes a list and a number as arguments. Add the number to the end of\n",
    "the list, then remove the first element of the list. The function should then return the updated\n",
    "list.\n",
    "Examples\n",
    "\n",
    "next_in_line([5, 6, 7, 8, 9], 1) ➞ [6, 7, 8, 9, 1]\n",
    "\n",
    "next_in_line([7, 6, 3, 23, 17], 10) ➞ [6, 3, 23, 17, 10]\n",
    "\n",
    "next_in_line([1, 10, 20, 42 ], 6) ➞ [10, 20, 42, 6]\n",
    "\n",
    "next_in_line([], 6) ➞ &quot;No list has been selected&quot;"
   ]
  },
  {
   "cell_type": "code",
   "execution_count": 11,
   "id": "01d758de",
   "metadata": {},
   "outputs": [
    {
     "name": "stdout",
     "output_type": "stream",
     "text": [
      "enter the limit : 4\n",
      "enter the elements : 1\n",
      "enter the elements : 2\n",
      "enter the elements : 3\n",
      "enter the elements : 4\n",
      "[1, 2, 3, 4]\n",
      "enter the number : 6\n",
      "[2, 3, 4, 6]\n"
     ]
    }
   ],
   "source": [
    "def updated_list(l,num):\n",
    "    l.append(num)\n",
    "    l.pop(0)\n",
    "    print(l)\n",
    "    \n",
    "limit=int(input(\"enter the limit : \"))\n",
    "l=[]\n",
    "for i in range (limit):\n",
    "    e=int(input(\"enter the elements : \"))\n",
    "    l.append(e)\n",
    "print(l)\n",
    "nl=l\n",
    "num=int(input(\"enter the number : \"))\n",
    "if len(l)==0:\n",
    "    print(f\"next_in_line({l}, {num}) ➞ No list has been selected\")\n",
    "else :\n",
    "    updated_list(l,num)\n",
    "    \n",
    "    "
   ]
  },
  {
   "cell_type": "code",
   "execution_count": 5,
   "id": "2d5d5566",
   "metadata": {},
   "outputs": [
    {
     "data": {
      "text/plain": [
       "[2, 3, 4]"
      ]
     },
     "execution_count": 5,
     "metadata": {},
     "output_type": "execute_result"
    }
   ],
   "source": [
    "l=[1,2,3]\n",
    "l.append(4)\n",
    "l\n",
    "l.pop(0)\n",
    "l"
   ]
  },
  {
   "cell_type": "markdown",
   "id": "babfb55f",
   "metadata": {},
   "source": [
    "Question2\n",
    "Create the function that takes a list of dictionaries and returns the sum of people&#39;s budgets.\n",
    "Examples\n",
    "\n",
    "get_budgets([{ &quot;name&quot;: &quot;John&quot;, &quot;age&quot;: 21, &quot;budget&quot;: 23000 },\n",
    "\n",
    "{ &quot;name&quot;: &quot;Steve&quot;, &quot;age&quot;: 32, &quot;budget&quot;: 40000 },\n",
    "\n",
    "{ &quot;name&quot;: &quot;Martin&quot;, &quot;age&quot;: 16, &quot;budget&quot;: 2700 }\n",
    "\n",
    "]) ➞ 65700\n",
    "\n",
    "get_budgets([{ &quot;name&quot;: &quot;John&quot;, &quot;age&quot;: 21, &quot;budget&quot;: 29000 },\n",
    "\n",
    "{ &quot;name&quot;: &quot;Steve&quot;, &quot;age&quot;: 32, &quot;budget&quot;: 32000 },\n",
    "\n",
    "{ &quot;name&quot;: &quot;Martin&quot;, &quot;age&quot;: 16, &quot;budget&quot;: 1600 }\n",
    "\n",
    "]) ➞ 62600"
   ]
  },
  {
   "cell_type": "code",
   "execution_count": 29,
   "id": "9451c18a",
   "metadata": {},
   "outputs": [
    {
     "name": "stdout",
     "output_type": "stream",
     "text": [
      "Enter the no of lists in a dictionary : 3\n",
      "Enter the no of key value pair in a dictionary3\n",
      "enter the key : name\n",
      "enter the value : John\n",
      "enter the key : age\n",
      "enter the value : 21\n",
      "enter the key : budget\n",
      "enter the value : 29000\n",
      "enter the key : name\n",
      "enter the value : Steve\n",
      "enter the key : age\n",
      "enter the value : 32\n",
      "enter the key : budget\n",
      "enter the value : 32000\n",
      "enter the key : name\n",
      "enter the value : Martin\n",
      "enter the key : age\n",
      "enter the value : 16\n",
      "enter the key : budget\n",
      "enter the value : 1600\n",
      "get_budgets([[{'name': 'John', 'age': '21', 'budget': '29000'}, {'name': 'Steve', 'age': '32', 'budget': '32000'}, {'name': 'Martin', 'age': '16', 'budget': '1600'}]])  ➞ 62600\n"
     ]
    }
   ],
   "source": [
    "def budgetsum(l):\n",
    "    sum=0\n",
    "    for i in range(len(l)):\n",
    "        sum+=int(l[i]['budget'])    \n",
    "    print(f\"get_budgets([{l}])  ➞ {sum}\")\n",
    "\n",
    "list_limit= int(input(\"Enter the no of lists in a dictionary : \"))\n",
    "limit=int(input(\"Enter the no of key value pair in a dictionary\"))\n",
    "l=[]\n",
    "for i in range(list_limit):\n",
    "    d={}  \n",
    "    for i in range (limit):\n",
    "        k=input(\"enter the key : \")\n",
    "        v=input(\"enter the value : \")\n",
    "        d[k]=v\n",
    "    l.append(d)\n",
    "#print(l)\n",
    "budgetsum(l)"
   ]
  },
  {
   "cell_type": "code",
   "execution_count": 30,
   "id": "bbde2930",
   "metadata": {},
   "outputs": [
    {
     "name": "stdout",
     "output_type": "stream",
     "text": [
      "Output ➞ 65700\n",
      "Output ➞ 62600\n"
     ]
    }
   ],
   "source": [
    "def get_budgets(in_dict):\n",
    "    sum = 0\n",
    "    for ele in in_dict:\n",
    "        sum += ele[\"budget\"]\n",
    "    print(f'Output ➞ {sum}')\n",
    "    \n",
    "get_budgets([\n",
    "{ \"name\": \"John\", \"age\": 21, \"budget\": 23000 },\n",
    "{ \"name\": \"Steve\", \"age\": 32, \"budget\": 40000 },\n",
    "{ \"name\": \"Martin\", \"age\": 16, \"budget\": 2700 }\n",
    "])\n",
    "\n",
    "get_budgets([\n",
    "{ \"name\": \"John\", \"age\": 21, \"budget\": 29000 },\n",
    "{ \"name\": \"Steve\", \"age\": 32, \"budget\": 32000 },\n",
    "{ \"name\": \"Martin\", \"age\": 16, \"budget\": 1600 }\n",
    "])"
   ]
  },
  {
   "cell_type": "code",
   "execution_count": 24,
   "id": "ab8d7c6b",
   "metadata": {},
   "outputs": [
    {
     "data": {
      "text/plain": [
       "['1000', '200']"
      ]
     },
     "execution_count": 24,
     "metadata": {},
     "output_type": "execute_result"
    }
   ],
   "source": [
    "d=[{'name': 'a', 'budget': '1000'}, {'name': 'b', 'budget': '200'}]\n",
    "p=[]\n",
    "for i in range(len(d)):\n",
    "    p.append(d[i]['budget'])\n",
    "p    "
   ]
  },
  {
   "cell_type": "code",
   "execution_count": 34,
   "id": "618fb6c3",
   "metadata": {},
   "outputs": [
    {
     "name": "stdout",
     "output_type": "stream",
     "text": [
      "Enter the no of key value pair in a dictionary2\n",
      "Enter the key: a\n",
      "Enter the value: 1\n",
      "Enter the key: b\n",
      "Enter the value: 2\n",
      "{'a': '1', 'b': '2'}\n"
     ]
    }
   ],
   "source": [
    "# Create dictionary class \n",
    "class my_dictionary(dict): \n",
    "    # __init__ function \n",
    "    def __init__(self): \n",
    "        self = dict()   \n",
    "    # Function to add key:value \n",
    "    def add(self, key, value): \n",
    "        self[key] = value \n",
    "        \n",
    "# Main Function \n",
    "dict_obj = my_dictionary() \n",
    "limit = int(input(\"Enter the no of key value pair in a dictionary\"))\n",
    "c=0\n",
    "while c < limit :   \n",
    "    dict_obj.key = input(\"Enter the key: \") \n",
    "    dict_obj.value = input(\"Enter the value: \") \n",
    "    dict_obj.add(dict_obj.key, dict_obj.value) \n",
    "    c += 1\n",
    "print(dict_obj)"
   ]
  },
  {
   "cell_type": "markdown",
   "id": "b8ec3932",
   "metadata": {},
   "source": [
    "Question3\n",
    "Create a function that takes a string and returns a string with its letters in alphabetical order.\n",
    "Examples\n",
    "\n",
    "alphabet_soup(&quot;hello&quot;) ➞ &quot;ehllo&quot;\n",
    "\n",
    "alphabet_soup(&quot;edabit&quot;) ➞ &quot;abdeit&quot;\n",
    "\n",
    "alphabet_soup(&quot;hacker&quot;) ➞ &quot;acehkr&quot;\n",
    "\n",
    "alphabet_soup(&quot;geek&quot;) ➞ &quot;eegk&quot;\n",
    "\n",
    "alphabet_soup(&quot;javascript&quot;) ➞ &quot;aacijprstv&quot;"
   ]
  },
  {
   "cell_type": "code",
   "execution_count": 43,
   "id": "e3688ece",
   "metadata": {},
   "outputs": [
    {
     "name": "stdout",
     "output_type": "stream",
     "text": [
      "enter the stringhello\n",
      "alphabet_soup(hello) ➞ ehllo\n",
      "enter the stringedabit\n",
      "alphabet_soup(edabit) ➞ abdeit\n",
      "enter the stringhacker\n",
      "alphabet_soup(hacker) ➞ acehkr\n",
      "enter the stringgeek\n",
      "alphabet_soup(geek) ➞ eegk\n",
      "enter the stringjavascript\n",
      "alphabet_soup(javascript) ➞ aacijprstv\n"
     ]
    }
   ],
   "source": [
    "for i in range(5):\n",
    "    s=input(\"enter the string\")\n",
    "    p=\"\"\n",
    "    #print(sorted(s))\n",
    "    for i in sorted(s):\n",
    "        p+=i\n",
    "    print(f\"alphabet_soup({s}) ➞ {p}\")"
   ]
  },
  {
   "cell_type": "code",
   "execution_count": 1,
   "id": "3e8b3dd9",
   "metadata": {},
   "outputs": [
    {
     "name": "stdout",
     "output_type": "stream",
     "text": [
      "enter the stringikkiiee\n",
      "alphabet_soup(ikkiiee) ➞ eeiiikk\n"
     ]
    }
   ],
   "source": [
    "s=input(\"enter the string\")\n",
    "#print(sorted(s))\n",
    "p=(''.join(sorted(s)))\n",
    "print(f\"alphabet_soup({s}) ➞ {p}\")"
   ]
  },
  {
   "cell_type": "markdown",
   "id": "3110ef77",
   "metadata": {},
   "source": [
    "Question4\n",
    "Suppose that you invest $10,000 for 10 years at an interest rate of 6% compounded monthly.\n",
    "What will be the value of your investment at the end of the 10 year period?\n",
    "Create a function that accepts the principal p, the term in years t, the interest rate r, and the\n",
    "number of compounding periods per year n. The function returns the value at the end of term\n",
    "rounded to the nearest cent.\n",
    "\n",
    "For the example above:\n",
    "\n",
    "compound_interest(10000, 10, 0.06, 12) ➞ 18193.97\n",
    "\n",
    "Note that the interest rate is given as a decimal and n=12 because with monthly compounding\n",
    "there are 12 periods per year. Compounding can also be done annually, quarterly, weekly, or\n",
    "daily.\n",
    "Examples\n",
    "\n",
    "compound_interest(100, 1, 0.05, 1) ➞ 105.0\n",
    "\n",
    "compound_interest(3500, 15, 0.1, 4) ➞ 15399.26\n",
    "\n",
    "compound_interest(100000, 20, 0.15, 365) ➞ 2007316.26"
   ]
  },
  {
   "cell_type": "code",
   "execution_count": 2,
   "id": "cb84a825",
   "metadata": {},
   "outputs": [
    {
     "name": "stdout",
     "output_type": "stream",
     "text": [
      "Output ➞ 105.00\n",
      "Output ➞ 15399.26\n",
      "Output ➞ 2007316.26\n"
     ]
    }
   ],
   "source": [
    "def compound_interest(principal,years,roi,cp):\n",
    "    ci = principal*(1+(roi/cp))**(cp*years)\n",
    "    print(f'Output ➞ {ci:.2f}')\n",
    "\n",
    "compound_interest(100, 1, 0.05, 1)\n",
    "compound_interest(3500, 15, 0.1, 4)\n",
    "compound_interest(100000, 20, 0.15, 365)"
   ]
  },
  {
   "cell_type": "markdown",
   "id": "5c321d35",
   "metadata": {},
   "source": [
    "Question5\n",
    "Write a function that takes a list of elements and returns only the integers.\n",
    "Examples\n",
    "\n",
    "return_only_integer([9, 2, &quot;space&quot;, &quot;car&quot;, &quot;lion&quot;, 16]) ➞ [9, 2, 16]\n",
    "\n",
    "return_only_integer([&quot;hello&quot;, 81, &quot;basketball&quot;, 123, &quot;fox&quot;]) ➞ [81, 123]\n",
    "\n",
    "return_only_integer([10, &quot;121&quot;, 56, 20, &quot;car&quot;, 3, &quot;lion&quot;]) ➞ [10, 56, 20,3]\n",
    "\n",
    "return_only_integer([&quot;String&quot;, True, 3.3, 1]) ➞ [1]"
   ]
  },
  {
   "cell_type": "code",
   "execution_count": 3,
   "id": "c3d44b37",
   "metadata": {},
   "outputs": [
    {
     "name": "stdout",
     "output_type": "stream",
     "text": [
      "[9, 2, 'space', 'car', 'lion', 16] ➞ [9, 2, 16]\n",
      "['hello', 81, 'basketball', 123, 'fox'] ➞ [81, 123]\n",
      "[10, '121', 56, 20, 'car', 3, 'lion'] ➞ [10, 56, 20, 3]\n",
      "['String', True, 3.3, 1] ➞ [1]\n"
     ]
    }
   ],
   "source": [
    "def return_only_integer(in_list):\n",
    "    out_list = []\n",
    "    for ele in in_list:\n",
    "        if type(ele) == int:\n",
    "            out_list.append(ele)\n",
    "    print(f'{in_list} ➞ {out_list}')\n",
    "    \n",
    "return_only_integer([9, 2, \"space\", \"car\", \"lion\", 16])\n",
    "return_only_integer([\"hello\", 81, \"basketball\", 123, \"fox\"])\n",
    "return_only_integer([10, \"121\", 56, 20, \"car\", 3, \"lion\"]) \n",
    "return_only_integer([\"String\", True, 3.3, 1])"
   ]
  },
  {
   "cell_type": "code",
   "execution_count": null,
   "id": "e2b6e419",
   "metadata": {},
   "outputs": [],
   "source": []
  }
 ],
 "metadata": {
  "kernelspec": {
   "display_name": "Python 3 (ipykernel)",
   "language": "python",
   "name": "python3"
  },
  "language_info": {
   "codemirror_mode": {
    "name": "ipython",
    "version": 3
   },
   "file_extension": ".py",
   "mimetype": "text/x-python",
   "name": "python",
   "nbconvert_exporter": "python",
   "pygments_lexer": "ipython3",
   "version": "3.9.7"
  }
 },
 "nbformat": 4,
 "nbformat_minor": 5
}
