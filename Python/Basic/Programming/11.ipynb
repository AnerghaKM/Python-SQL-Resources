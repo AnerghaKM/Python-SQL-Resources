{
 "cells": [
  {
   "cell_type": "code",
   "execution_count": 7,
   "id": "83cae549",
   "metadata": {},
   "outputs": [
    {
     "name": "stdout",
     "output_type": "stream",
     "text": [
      "enter the limit6\n",
      "enter the elements\n",
      "abc\n",
      "abcd\n",
      "abc\n",
      "aa\n",
      "12\n",
      "34\n",
      "list is  ['abc', 'abcd', 'abc', 'aa', '12', '34']\n",
      "enter the length 4\n",
      "elements greater than length  4 are : \n",
      "abcd\n"
     ]
    }
   ],
   "source": [
    "#1. Write a Python program to find words which are greater than given length k?\n",
    "n=int(input(\"enter the limit\"))\n",
    "print(\"enter the elements\")\n",
    "l=[]\n",
    "for i in range(1,n+1):\n",
    "    ele=input()\n",
    "    l.append(ele)\n",
    "print(\"list is \",l)\n",
    "k=int(input(\"enter the length \"))\n",
    "print(\"elements greater than length \",k, \"are : \")\n",
    "for j in l:\n",
    "    if len(j)>=k:\n",
    "        print(j)"
   ]
  },
  {
   "cell_type": "code",
   "execution_count": 46,
   "id": "e8d79c76",
   "metadata": {},
   "outputs": [
    {
     "name": "stdout",
     "output_type": "stream",
     "text": [
      "enter the string : Python\n",
      "enter the character position to remove : 2\n"
     ]
    },
    {
     "data": {
      "text/plain": [
       "'Pyhon'"
      ]
     },
     "execution_count": 46,
     "metadata": {},
     "output_type": "execute_result"
    }
   ],
   "source": [
    "#2. Write a Python program for removing i-th character from a string?\n",
    "s=input(\"enter the string : \")\n",
    "c=int(input(\"enter the character position to remove : \"))\n",
    "s1=s[:c]+s[c+1:]\n",
    "s1"
   ]
  },
  {
   "cell_type": "code",
   "execution_count": 56,
   "id": "3f46fd6e",
   "metadata": {},
   "outputs": [
    {
     "name": "stdout",
     "output_type": "stream",
     "text": [
      "enter the string : this is a python program\n",
      "splitted string is  ['this', 'is', 'a', 'python', 'program']\n",
      "joined string is  this-is-a-python-program\n"
     ]
    }
   ],
   "source": [
    "#3. Write a Python program to split and join a string?\n",
    "s=input(\"enter the string : \")\n",
    "sp=s.split(' ')\n",
    "print(\"splitted string is \",sp)\n",
    "jo='-'.join(sp)\n",
    "print(\"joined string is \",jo)"
   ]
  },
  {
   "cell_type": "code",
   "execution_count": 81,
   "id": "38279841",
   "metadata": {},
   "outputs": [
    {
     "name": "stdout",
     "output_type": "stream",
     "text": [
      "enter the string : 01010000000001\n",
      "01010000000001\n",
      "its binary\n"
     ]
    }
   ],
   "source": [
    "#4. Write a Python to check if a given string is binary string or not?\n",
    "l=input(\"enter the string : \")\n",
    "print(l)\n",
    "ls=set(l)  \n",
    "s={'0','1'}\n",
    "if(ls==s)or(l=='0')or(l=='1'):\n",
    "        print(\"its binary\")\n",
    "else:\n",
    "        print(\"not binary\")        "
   ]
  },
  {
   "cell_type": "code",
   "execution_count": 94,
   "id": "f44bf0db",
   "metadata": {},
   "outputs": [
    {
     "name": "stdout",
     "output_type": "stream",
     "text": [
      "enter the string 1 : this is my first python string\n",
      "enter the string 2 : this is my second python string\n",
      "Uncommon words are :  ['first', 'second']\n"
     ]
    }
   ],
   "source": [
    "#5. Write a Python program to find uncommon words from two Strings?\n",
    "str1=input(\"enter the string 1 : \")\n",
    "str2=input(\"enter the string 2 : \")\n",
    "s1=str1.split(\" \")\n",
    "s2=str2.split(\" \")\n",
    "s4=[]\n",
    "for i in s1:\n",
    "    if i not in s2:\n",
    "        s4.append(i)\n",
    "for i in s2:\n",
    "    if i not in s1:\n",
    "        s4.append(i)\n",
    "print(\"Uncommon words are : \",s4)    "
   ]
  },
  {
   "cell_type": "code",
   "execution_count": 118,
   "id": "0901ce96",
   "metadata": {},
   "outputs": [
    {
     "name": "stdout",
     "output_type": "stream",
     "text": [
      "enter the string : this is my python string\n",
      "thisismypythonstring\n",
      "Duplicated characters are :  ['t', 'h', 'i', 's', 'y', 'n']\n"
     ]
    }
   ],
   "source": [
    "#6. Write a Python to find all duplicate characters in string?\n",
    "st=input(\"enter the string : \")\n",
    "s=st.replace(\" \",\"\")\n",
    "print(s)\n",
    "s1=[]\n",
    "for i in s:\n",
    "    if(s.count(i))>1:\n",
    "        if i not in s1:\n",
    "            s1.append(i)\n",
    "print(\"Duplicated characters are : \",s1)        "
   ]
  },
  {
   "cell_type": "code",
   "execution_count": 154,
   "id": "858affc0",
   "metadata": {},
   "outputs": [
    {
     "name": "stdout",
     "output_type": "stream",
     "text": [
      "enter the string : that's\n",
      "that's  - It has special characters\n"
     ]
    }
   ],
   "source": [
    "#7. Write a Python Program to check if a string contains any special character?\n",
    "s=input(\"enter the string : \")\n",
    "import re\n",
    "if(bool(re.search('^[a-zA-Z0-9]*$',s))==True):\n",
    "    print(s,\"- It has no special characters\")\n",
    "else:\n",
    "    print(s,\" - It has special characters\")"
   ]
  },
  {
   "cell_type": "code",
   "execution_count": null,
   "id": "5537e3f7",
   "metadata": {},
   "outputs": [],
   "source": []
  }
 ],
 "metadata": {
  "kernelspec": {
   "display_name": "Python 3 (ipykernel)",
   "language": "python",
   "name": "python3"
  },
  "language_info": {
   "codemirror_mode": {
    "name": "ipython",
    "version": 3
   },
   "file_extension": ".py",
   "mimetype": "text/x-python",
   "name": "python",
   "nbconvert_exporter": "python",
   "pygments_lexer": "ipython3",
   "version": "3.9.7"
  }
 },
 "nbformat": 4,
 "nbformat_minor": 5
}
