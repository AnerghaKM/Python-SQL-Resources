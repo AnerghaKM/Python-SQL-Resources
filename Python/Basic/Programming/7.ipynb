{
 "cells": [
  {
   "cell_type": "code",
   "execution_count": 6,
   "id": "0e9f2ef3",
   "metadata": {},
   "outputs": [
    {
     "name": "stdout",
     "output_type": "stream",
     "text": [
      "enter the limit5\n",
      "1\n",
      "3\n",
      "5\n",
      "7\n",
      "9\n",
      "[1, 3, 5, 7, 9]\n",
      "sum of array is  25\n"
     ]
    }
   ],
   "source": [
    "#1. Write a Python Program to find sum of array?\n",
    "n=int(input(\"enter the limit\"))\n",
    "l=[]\n",
    "for i in range(n):\n",
    "    a=int(input())\n",
    "    l.append(a)\n",
    "print(l)\n",
    "sum=0\n",
    "for j in l:\n",
    "    s=sum+j\n",
    "    sum=s\n",
    "print(\"sum of array is \",s)"
   ]
  },
  {
   "cell_type": "code",
   "execution_count": 19,
   "id": "59bb461a",
   "metadata": {},
   "outputs": [
    {
     "name": "stdout",
     "output_type": "stream",
     "text": [
      "enter the limit4\n",
      "12\n",
      "43\n",
      "65\n",
      "89\n",
      "largest element is  89\n"
     ]
    }
   ],
   "source": [
    "#2. Write a Python Program to find largest element in an array?\n",
    "n=int(input(\"enter the limit\"))\n",
    "l=[]\n",
    "for i in range(n):\n",
    "    a=int(input())\n",
    "    l.append(a)\n",
    "#print(l)\n",
    "large=0\n",
    "for j in l:\n",
    "    if j>large:\n",
    "        large=j\n",
    "        \n",
    "    else:\n",
    "        print(large)\n",
    "print(\"largest element is \",large)"
   ]
  },
  {
   "cell_type": "code",
   "execution_count": 3,
   "id": "bbe6fa7a",
   "metadata": {},
   "outputs": [
    {
     "name": "stdout",
     "output_type": "stream",
     "text": [
      "enter the limit5\n",
      "1\n",
      "2\n",
      "3\n",
      "4\n",
      "5\n",
      "after rotation :  [2, 3, 4, 5, 1]\n"
     ]
    }
   ],
   "source": [
    "#3. Write a Python Program for array rotation?\n",
    "n=int(input(\"enter the limit\"))\n",
    "l=[]\n",
    "for i in range(n):\n",
    "    a=int(input())\n",
    "    l.append(a)\n",
    "def rotateArray(arr,d):\n",
    "    m = []\n",
    "    for i in range(d,len(arr)):\n",
    "        m.append(arr[i])\n",
    "    i = 0\n",
    "    for i in range (0,d):\n",
    "        m.append(arr[i])\n",
    "    a=m.copy()\n",
    "    return a\n",
    "print(\"after rotation : \",rotateArray(l, 1))\n",
    " "
   ]
  },
  {
   "cell_type": "code",
   "execution_count": 4,
   "id": "0978b2bc",
   "metadata": {},
   "outputs": [
    {
     "name": "stdout",
     "output_type": "stream",
     "text": [
      "enter the limit5\n",
      "1\n",
      "2\n",
      "3\n",
      "4\n",
      "5\n",
      "[3, 4, 5, 1, 2]\n"
     ]
    }
   ],
   "source": [
    "n=int(input(\"enter the limit\"))\n",
    "l=[]\n",
    "for i in range(n):\n",
    "    a=int(input())\n",
    "    l.append(a)\n",
    "m=[]\n",
    "m[:]=l[2:len(l)]+l[0:2]\n",
    "print(m)"
   ]
  },
  {
   "cell_type": "code",
   "execution_count": 11,
   "id": "020ca36a",
   "metadata": {},
   "outputs": [
    {
     "name": "stdout",
     "output_type": "stream",
     "text": [
      "enter the limit6\n",
      "3\n",
      "4\n",
      "7\n",
      "9\n",
      "8\n",
      "2\n",
      "[9, 8, 2, 3, 4, 7]\n"
     ]
    }
   ],
   "source": [
    "# 4. Write a Python Program to Split the array and add the first part to the end?\n",
    "n=int(input(\"enter the limit\"))\n",
    "l=[]\n",
    "for i in range(n):\n",
    "    a=int(input())\n",
    "    l.append(a)\n",
    "mid=int(len(l)/2)\n",
    "m=[]\n",
    "m[:]=l[mid:len(l)]+l[0:mid]\n",
    "print(m)"
   ]
  },
  {
   "cell_type": "code",
   "execution_count": 19,
   "id": "9af0e216",
   "metadata": {},
   "outputs": [
    {
     "name": "stdout",
     "output_type": "stream",
     "text": [
      "enter the limit5\n",
      "1\n",
      "2\n",
      "3\n",
      "4\n",
      "5\n",
      "Array is Monotonic\n"
     ]
    }
   ],
   "source": [
    "#5. Write a Python Program to check if given array is Monotonic?\n",
    "n=int(input(\"enter the limit\"))\n",
    "l=[]\n",
    "for i in range(n):\n",
    "    a=int(input())\n",
    "    l.append(a)\n",
    "i=[]\n",
    "j=[]\n",
    "i.extend(l)\n",
    "j.extend(l)\n",
    "i.sort()\n",
    "j.sort(reverse=True)\n",
    "if(i==l)or(i==j):\n",
    "    print(\"Array is Monotonic\")\n",
    "else:\n",
    "    print(\"Array is not Monotonic\")"
   ]
  },
  {
   "cell_type": "code",
   "execution_count": null,
   "id": "29ea566f",
   "metadata": {},
   "outputs": [],
   "source": []
  }
 ],
 "metadata": {
  "kernelspec": {
   "display_name": "Python 3 (ipykernel)",
   "language": "python",
   "name": "python3"
  },
  "language_info": {
   "codemirror_mode": {
    "name": "ipython",
    "version": 3
   },
   "file_extension": ".py",
   "mimetype": "text/x-python",
   "name": "python",
   "nbconvert_exporter": "python",
   "pygments_lexer": "ipython3",
   "version": "3.9.7"
  }
 },
 "nbformat": 4,
 "nbformat_minor": 5
}
