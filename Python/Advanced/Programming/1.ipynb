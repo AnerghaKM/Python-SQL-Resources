{
 "cells": [
  {
   "cell_type": "markdown",
   "id": "3b23c6e6",
   "metadata": {},
   "source": [
    "1. Write a function that takes a list of lists and returns the value of all of the\n",
    "symbols in it, where each symbol adds or takes something from the total\n",
    "score. Symbol values:\n",
    "\n",
    "#= 5\n",
    "\n",
    "O = 3\n",
    "\n",
    "X = 1\n",
    "\n",
    "! = -1\n",
    "\n",
    "!! = -3\n",
    "\n",
    "!!! = -5\n",
    "\n",
    "A list of lists containing 2 #s, a O, and a !!! would equal (0 + 5 + 5 + 3 - 5) 8.\n",
    "\n",
    "If the final score is negative, return 0 (e.g. 3 #s, 3 !!s, 2 !!!s and a X would be (0 + 5 + 5 + 5 - 3 - 3 - 3 - 5 - 5 + 1) -3, so return 0.\n",
    "Examples\n",
    "\n",
    "check_score([\n",
    "[&quot;#&quot;, &quot;!&quot;],\n",
    "[&quot;!!&quot;, &quot;X&quot;]\n",
    "]) ➞ 2\n",
    "\n",
    "check_score([\n",
    "[&quot;!!!&quot;, &quot;O&quot;, &quot;!&quot;],\n",
    "[&quot;X&quot;, &quot;#&quot;, &quot;!!!&quot;],\n",
    "[&quot;!!&quot;, &quot;X&quot;, &quot;O&quot;]\n",
    "]) ➞ 0"
   ]
  },
  {
   "cell_type": "code",
   "execution_count": 32,
   "id": "ecee27e2",
   "metadata": {},
   "outputs": [
    {
     "name": "stdout",
     "output_type": "stream",
     "text": [
      "enter the number of lists : 3\n",
      "enter the number of elements in list : 3\n",
      "enter the elements : !!!\n",
      "enter the elements : O\n",
      "enter the elements : !\n",
      "enter the elements : X\n",
      "enter the elements : #\n",
      "enter the elements : !!!\n",
      "enter the elements : !!\n",
      "enter the elements : X\n",
      "enter the elements : O\n",
      "check_score([['!!!', 'O', '!'], ['X', '#', '!!!'], ['!!', 'X', 'O']]) ➞ 0\n"
     ]
    }
   ],
   "source": [
    "def val(l):\n",
    "    dict={'#':5,'O':3,'X':1,'!':-1,'!!':-3,'!!!':-5}\n",
    "    sum=0\n",
    "    for i in l:\n",
    "        for j in i:\n",
    "            if j in dict.keys():\n",
    "                sum+=dict[j]\n",
    "    if (sum>=0):\n",
    "        print(f\"check_score({l}) ➞ {sum}\")\n",
    "    else:\n",
    "        print(f\"check_score({l}) ➞ {0}\")\n",
    "                \n",
    "\n",
    "n=int(input(\"enter the number of lists : \"))\n",
    "e=int(input(\"enter the number of elements in list : \"))\n",
    "l=[]\n",
    "for i in range(n):\n",
    "    m=[]\n",
    "    for i in range(e):\n",
    "        num=input(\"enter the elements : \")\n",
    "        m.append(num)\n",
    "    l+=[m]\n",
    "#print(l)\n",
    "val(l)"
   ]
  },
  {
   "cell_type": "code",
   "execution_count": 28,
   "id": "5ee5cfd9",
   "metadata": {},
   "outputs": [
    {
     "name": "stdout",
     "output_type": "stream",
     "text": [
      "# : 5\n",
      "O : 3\n",
      "X : 1\n",
      "! : -1\n",
      "!! : -3\n",
      "!!! : -5\n"
     ]
    }
   ],
   "source": [
    "dict={'#':5,'O':3,'X':1,'!':-1,'!!':-3,'!!!':-5}\n",
    "#dict.keys()\n",
    "for i in dict:\n",
    "    print(i,\":\",dict[i])"
   ]
  },
  {
   "cell_type": "markdown",
   "id": "13dae85a",
   "metadata": {},
   "source": [
    "2. Create a function that takes a variable number of arguments, each\n",
    "argument representing the number of items in a group, and returns the\n",
    "number of permutations (combinations) of items that you could get by taking\n",
    "one item from each group.\n",
    "\n",
    "Examples\n",
    "combinations(2, 3) ➞ 6\n",
    "\n",
    "combinations(3, 7, 4) ➞ 84\n",
    "\n",
    "combinations(2, 3, 4, 5) ➞ 120"
   ]
  },
  {
   "cell_type": "code",
   "execution_count": 40,
   "id": "fe3e41f5",
   "metadata": {},
   "outputs": [
    {
     "name": "stdout",
     "output_type": "stream",
     "text": [
      "enter the number of elements in list : 4\n",
      "enter the elements : 2\n",
      "enter the elements : 3\n",
      "enter the elements : 4\n",
      "enter the elements : 5\n",
      "combinations(['2', '3', '4', '5']) ➞ 120\n"
     ]
    }
   ],
   "source": [
    "def per(l):\n",
    "    m=1\n",
    "    for i in l:\n",
    "        #print(i)\n",
    "        m*=int(i)\n",
    "    print(f\"combinations({l}) ➞ {m}\")\n",
    "        \n",
    "\n",
    "n=int(input(\"enter the number of elements in list : \"))\n",
    "l=[]\n",
    "for i in range(n):\n",
    "    num=input(\"enter the elements : \")\n",
    "    l.append(num)\n",
    "per(l)"
   ]
  },
  {
   "cell_type": "markdown",
   "id": "cf9d6c29",
   "metadata": {},
   "source": [
    "3. Create a function that takes a string as an argument and returns the Morse\n",
    "code equivalent.\n",
    "\n",
    "Examples\n",
    "\n",
    "encode_morse(&quot;EDABBIT CHALLENGE&quot;) ➞ &quot;. -.. .- -... -... .. - -.-. .... .- .-.. .-..\n",
    ". -. --. .&quot;\n",
    "\n",
    "encode_morse(&quot;HELP ME !&quot;) ➞ &quot;.... . .-.. .--. -- . -.-.--&quot;\n",
    "\n",
    "This dictionary can be used for coding:\n",
    "    \n",
    "char_to_dots = {\n",
    "&#39;A&#39;: &#39;.-&#39;, &#39;B&#39;: &#39;-...&#39;, &#39;C&#39;: &#39;-.-.&#39;, &#39;D&#39;: &#39;-..&#39;, &#39;E&#39;: &#39;.&#39;, &#39;F&#39;: &#39;..-.&#39;,\n",
    "&#39;G&#39;: &#39;--.&#39;, &#39;H&#39;: &#39;....&#39;, &#39;I&#39;: &#39;..&#39;, &#39;J&#39;: &#39;.---&#39;, &#39;K&#39;: &#39;-.-&#39;, &#39;L&#39;: &#39;.-..&#39;,\n",
    "&#39;M&#39;: &#39;--&#39;, &#39;N&#39;: &#39;-.&#39;, &#39;O&#39;: &#39;---&#39;, &#39;P&#39;: &#39;.--.&#39;, &#39;Q&#39;: &#39;--.-&#39;, &#39;R&#39;: &#39;.-.&#39;,\n",
    "&#39;S&#39;: &#39;...&#39;, &#39;T&#39;: &#39;-&#39;, &#39;U&#39;: &#39;..-&#39;, &#39;V&#39;: &#39;...-&#39;, &#39;W&#39;: &#39;.--&#39;, &#39;X&#39;: &#39;-..-&#39;,\n",
    "&#39;Y&#39;: &#39;-.--&#39;, &#39;Z&#39;: &#39;--..&#39;, &#39; &#39;: &#39; &#39;, &#39;0&#39;: &#39;-----&#39;,\n",
    "&#39;1&#39;: &#39;.----&#39;, &#39;2&#39;: &#39;..---&#39;, &#39;3&#39;: &#39;...--&#39;, &#39;4&#39;: &#39;....-&#39;, &#39;5&#39;: &#39;.....&#39;,\n",
    "&#39;6&#39;: &#39;-....&#39;, &#39;7&#39;: &#39;--...&#39;, &#39;8&#39;: &#39;---..&#39;, &#39;9&#39;: &#39;----.&#39;,\n",
    "&#39;&amp;&#39;: &#39;.-...&#39;, &quot;&#39;&quot;: &#39;.----.&#39;, &#39;@&#39;: &#39;.--.-.&#39;, &#39;)&#39;: &#39;-.--.-&#39;, &#39;(&#39;: &#39;-.--.&#39;,\n",
    "&#39;:&#39;: &#39;---...&#39;, &#39;,&#39;: &#39;--..--&#39;, &#39;=&#39;: &#39;-...-&#39;, &#39;!&#39;: &#39;-.-.--&#39;, &#39;.&#39;: &#39;.-.-.-&#39;,\n",
    "&#39;-&#39;: &#39;-....-&#39;, &#39;+&#39;: &#39;.-.-.&#39;, &#39;&quot;&#39;: &#39;.-..-.&#39;, &#39;?&#39;: &#39;..--..&#39;, &#39;/&#39;: &#39;-..-.&#39;\n",
    "}"
   ]
  },
  {
   "cell_type": "code",
   "execution_count": 53,
   "id": "c0678a31",
   "metadata": {},
   "outputs": [
    {
     "name": "stdout",
     "output_type": "stream",
     "text": [
      "enter the string : EDABBIT CHALLENGE\n",
      "encode_morse(EDABBIT CHALLENGE) ➞ .-...--...-.....- -.-......-.-...-...-.--..\n",
      "enter the string : HELP ME !\n",
      "encode_morse(HELP ME !) ➞ ......-...--. --. -.-.--\n"
     ]
    }
   ],
   "source": [
    "def mor(s):\n",
    "    p=\"\" \n",
    "    d = { 'A': '.-', 'B': '-...', 'C': '-.-.', 'D': '-..', 'E': '.', 'F': '..-.', 'G': '--.', 'H': '....', 'I': '..', 'J': '.---', 'K': '-.-', 'L': '.-..', 'M': '--', 'N': '-.', 'O': '---', 'P': '.--.', 'Q': '--.-', 'R': '.-.', 'S': '...', 'T': '-', 'U': '..-', 'V': '...-', 'W': '.--', 'X': '-..-', 'Y': '-.--', 'Z': '--..', ' ': ' ', '0': '-----', '1': '.----', '2': '..---', '3': '...--', '4': '....-', '5': '.....', '6': '-....', '7': '--...', '8': '---..', '9': '----.', '&': '.-...', \"'\": '.----.', '@': '.--.-.', ')': '-.--.-', '(': '-.--.', ':': '---...', ',': '--..--', '=': '-...-', '!': '-.-.--', '.': '.-.-.-', '-': '-....-', '+': '.-.-.', '\"': '.-..-.', '?': '..--..', '/': '-..-.' }\n",
    "    for i in s.upper():\n",
    "          \n",
    "        if i in d.keys():\n",
    "            p+=d[i]\n",
    "            \n",
    "    print(f\"encode_morse({s}) ➞ {p}\")\n",
    "for i in range(2):\n",
    "    s=input(\"enter the string : \")\n",
    "    mor(s)"
   ]
  },
  {
   "cell_type": "markdown",
   "id": "f98fa43c",
   "metadata": {},
   "source": [
    "4. Write a function that takes a number and returns True if it&#39;s a prime; False\n",
    "otherwise. The number can be 2^64-1 (2 to the power of 63, not XOR). With\n",
    "the standard technique it would be O(2^64-1), which is much too large for the\n",
    "10 second time limit.\n",
    "\n",
    "Examples\n",
    "\n",
    "prime(7) ➞ True\n",
    "\n",
    "prime(56963) ➞ True\n",
    "\n",
    "prime(5151512515524) ➞ False"
   ]
  },
  {
   "cell_type": "code",
   "execution_count": 54,
   "id": "5231ac1c",
   "metadata": {},
   "outputs": [
    {
     "name": "stdout",
     "output_type": "stream",
     "text": [
      "prime(7) ➞ True\n",
      "prime(56963) ➞ True\n",
      "prime(5151512515524) ➞ False\n"
     ]
    }
   ],
   "source": [
    "def prime(in_num):\n",
    "    out_bool = False\n",
    "    if ((in_num-1)%6 == 0) or ((in_num+1)%6 == 0):\n",
    "        out_bool = True\n",
    "    print(f'prime({in_num}) ➞ {out_bool}')\n",
    "\n",
    "prime(7)\n",
    "prime(56963)\n",
    "prime(5151512515524)"
   ]
  },
  {
   "cell_type": "markdown",
   "id": "466c735f",
   "metadata": {},
   "source": [
    "qstn5. Create a function that converts a word to a bitstring and then to a boolean\n",
    "list based on the following criteria:\n",
    "\n",
    "1. Locate the position of the letter in the English alphabet (from 1 to 26).\n",
    "\n",
    "2. Odd positions will be represented as 1 and 0 otherwise.\n",
    "\n",
    "3. Convert the represented positions to boolean values, 1 for True and 0 for False.\n",
    "\n",
    "4. Store the conversions into an array.\n",
    "\n",
    "Examples\n",
    "\n",
    "to_boolean_list(&quot;deep&quot;) ➞ [False, True, True, False]\n",
    "\n",
    "#deep converts to 0110\n",
    "\n",
    "#d is the 4th alphabet - 0\n",
    "\n",
    "#e is the 5th alphabet - 1\n",
    "\n",
    "#e is the 5th alphabet - 1\n",
    "\n",
    "#p is the 16th alphabet - 0\n",
    "\n",
    "to_boolean_list(&quot;loves&quot;) ➞ [False, True, False, True, True]\n",
    "\n",
    "to_boolean_list(&quot;tesh&quot;) ➞ [False, True, True, False]"
   ]
  },
  {
   "cell_type": "code",
   "execution_count": 25,
   "id": "52db45fd",
   "metadata": {},
   "outputs": [
    {
     "name": "stdout",
     "output_type": "stream",
     "text": [
      "enter the word : tesh\n",
      "[False, True, True, False]\n"
     ]
    }
   ],
   "source": [
    "import string\n",
    "def bs(s):\n",
    "    l=[]\n",
    "    alphabets = string.ascii_lowercase\n",
    "    for i in s:\n",
    "        if i in alphabets:\n",
    "            p=(alphabets.index(i)+1)\n",
    "            l.append(p)\n",
    "    h=[]    \n",
    "    for i in l:\n",
    "        if i%2==0:\n",
    "            h.append(0)\n",
    "        else:\n",
    "            h.append(1)\n",
    "    #print(h)\n",
    "    j=[]\n",
    "    for i in h:\n",
    "        j.append(bool(i))\n",
    "    print(j)\n",
    "s=input(\"enter the word : \")\n",
    "bs(s)"
   ]
  },
  {
   "cell_type": "code",
   "execution_count": 9,
   "id": "16cd5bc9",
   "metadata": {},
   "outputs": [
    {
     "data": {
      "text/plain": [
       "'a'"
      ]
     },
     "execution_count": 9,
     "metadata": {},
     "output_type": "execute_result"
    }
   ],
   "source": [
    "import string\n",
    "alphabets = string.ascii_lowercase\n",
    "alphabets[0]"
   ]
  },
  {
   "cell_type": "code",
   "execution_count": 28,
   "id": "e793eef1",
   "metadata": {},
   "outputs": [
    {
     "name": "stdout",
     "output_type": "stream",
     "text": [
      "to_boolean_list(deep) ➞ [False, True, True, False]\n",
      "to_boolean_list(loves) ➞ [False, True, False, True, True]\n",
      "to_boolean_list(tesh) ➞ [False, True, True, False]\n"
     ]
    }
   ],
   "source": [
    "def to_boolean_list(in_string):\n",
    "    alphabets = 'abcdefghijklmnopqrstuvwxyz'\n",
    "    out_list = []\n",
    "    for ele in in_string:\n",
    "        out_list.append(bool((alphabets.index(ele)+1)%2))\n",
    "    print(f'to_boolean_list({in_string}) ➞ {out_list}')\n",
    "    \n",
    "to_boolean_list(\"deep\")\n",
    "to_boolean_list(\"loves\")\n",
    "to_boolean_list(\"tesh\")"
   ]
  },
  {
   "cell_type": "code",
   "execution_count": null,
   "id": "966def9f",
   "metadata": {},
   "outputs": [],
   "source": []
  }
 ],
 "metadata": {
  "kernelspec": {
   "display_name": "Python 3 (ipykernel)",
   "language": "python",
   "name": "python3"
  },
  "language_info": {
   "codemirror_mode": {
    "name": "ipython",
    "version": 3
   },
   "file_extension": ".py",
   "mimetype": "text/x-python",
   "name": "python",
   "nbconvert_exporter": "python",
   "pygments_lexer": "ipython3",
   "version": "3.9.7"
  }
 },
 "nbformat": 4,
 "nbformat_minor": 5
}
