{
 "cells": [
  {
   "cell_type": "markdown",
   "id": "ed164d7f",
   "metadata": {},
   "source": [
    "\n",
    "1.Write a function that stutters a word as if someone is struggling to read it. The first two letters are repeated twice with an ellipsis ... and space after each, and then the word is pronounced with a question mark ?\n",
    "\n",
    "\n",
    "\n",
    "Examples: stutter(\"incredible\") ➞ \"in... in... incredible?\"\n",
    "\n",
    "\n",
    "stutter(\"enthusiastic\") ➞ \"en... en... enthusiastic?\"\n",
    "\n",
    "\n",
    "stutter(\"outstanding\") ➞ \"ou... ou... outstanding?\"\n",
    "\n",
    "\n",
    "\n",
    "Hint :- Assume all input is in lower case and at least two characters long.\n"
   ]
  },
  {
   "cell_type": "code",
   "execution_count": 17,
   "id": "4a6c808f",
   "metadata": {},
   "outputs": [
    {
     "name": "stdout",
     "output_type": "stream",
     "text": [
      "enter the word : incredible\n",
      "in...in...incredible?\n",
      "enter the word : enthusiastic\n",
      "en...en...enthusiastic?\n",
      "enter the word : outstanding\n",
      "ou...ou...outstanding?\n"
     ]
    }
   ],
   "source": [
    "def stutter(word):\n",
    "        print(word[:2]+'...'+word[:2]+\"...\"+word+\"?\")\n",
    "for i in range(3):\n",
    "    word=input(\"enter the word : \")\n",
    "    stutter(word)"
   ]
  },
  {
   "cell_type": "markdown",
   "id": "37a8ad62",
   "metadata": {},
   "source": [
    "Question 2.Create a function that takes an angle in radians and returns the corresponding angle in degrees rounded to one decimal place.\n",
    "\n",
    "Examples\n",
    "\n",
    "radians_to_degrees(1) ➞ 57.3\n",
    "\n",
    "radians_to_degrees(20) ➞ 1145.9\n",
    "\n",
    "radians_to_degrees(50) ➞ 2864.8\n"
   ]
  },
  {
   "cell_type": "code",
   "execution_count": 1,
   "id": "f40bb2d9",
   "metadata": {},
   "outputs": [
    {
     "name": "stdout",
     "output_type": "stream",
     "text": [
      "enter the angle in radians : 1\n",
      "1 radians  ➞ 57.3\n",
      "enter the angle in radians : 20\n",
      "20 radians  ➞ 1145.9\n",
      "enter the angle in radians : 50\n",
      "50 radians  ➞ 2864.8\n"
     ]
    }
   ],
   "source": [
    "import math\n",
    "def angle(r):\n",
    "    d=((r*180)/math.pi)\n",
    "    print(r,\"radians \",\"➞\",round(d,1))\n",
    "\n",
    "for i in range(3):\n",
    "    r=int(input(\"enter the angle in radians : \"))\n",
    "    angle(r)    "
   ]
  },
  {
   "cell_type": "markdown",
   "id": "86fcbaa9",
   "metadata": {},
   "source": [
    "Question 3. In this challenge, establish if a given integer num is a Curzon number. If 1 plus\n",
    "2 elevated to num is exactly divisible by 1 plus 2 multiplied by num, then num is a Curzon\n",
    "number.\n",
    "\n",
    "\n",
    "Given a non-negative integer num, implement a function that returns True if num is a Curzon\n",
    "number, or False otherwise.\n",
    "Examples\n",
    "\n",
    "is_curzon(5) ➞ True\n",
    "\n",
    " 2 ** 5 + 1 = 33\n",
    "\n",
    " 2 * 5 + 1 = 11\n",
    "\n",
    " 33 is a multiple of 11\n",
    "\n",
    "is_curzon(10) ➞ False\n",
    "\n",
    " 2 ** 10 + 1 = 1025\n",
    "\n",
    " 2 * 10 + 1 = 21\n",
    "\n",
    " 1025 is not a multiple of 21\n",
    "\n",
    "is_curzon(14) ➞ True\n",
    "\n",
    " 2 ** 14 + 1 = 16385\n",
    "\n",
    " 2 * 14 + 1 = 29\n",
    "\n",
    " 16385 is a multiple of 29"
   ]
  },
  {
   "cell_type": "code",
   "execution_count": 7,
   "id": "959b0a07",
   "metadata": {},
   "outputs": [
    {
     "name": "stdout",
     "output_type": "stream",
     "text": [
      "enter the number : 5\n",
      "True 5 is a Curzon number\n",
      "enter the number : 10\n",
      "False 10 is not a Curzon number\n",
      "enter the number : 14\n",
      "True 14 is a Curzon number\n"
     ]
    }
   ],
   "source": [
    "def chk():\n",
    "    num=int(input(\"enter the number : \"))\n",
    "    a=pow(2,num)+1\n",
    "    b=(2*num)+1\n",
    "    if a%b==0:\n",
    "        print(\"True\",num,\"is a Curzon number\")\n",
    "    else:\n",
    "        print(\"False\",num,\"is not a Curzon number\")\n",
    "for i in range(3):\n",
    "    chk()"
   ]
  },
  {
   "cell_type": "markdown",
   "id": "2aaeec2d",
   "metadata": {},
   "source": [
    "Question 4.Given the side length x find the area of a hexagon.\n",
    "Examples\n",
    "\n",
    "area_of_hexagon(1) ➞ 2.6\n",
    "\n",
    "area_of_hexagon(2) ➞ 10.4\n",
    "\n",
    "area_of_hexagon(3) ➞ 23.4"
   ]
  },
  {
   "cell_type": "code",
   "execution_count": 5,
   "id": "43fd120e",
   "metadata": {},
   "outputs": [
    {
     "name": "stdout",
     "output_type": "stream",
     "text": [
      "enter the length1\n",
      "area_of_hexagon( 1 ) ➞  2.6\n",
      "enter the length2\n",
      "area_of_hexagon( 2 ) ➞  10.4\n",
      "enter the length3\n",
      "area_of_hexagon( 3 ) ➞  23.4\n"
     ]
    }
   ],
   "source": [
    "import math\n",
    "def area():\n",
    "    a=(3*pow(l,2)*math.sqrt(3))/2\n",
    "    print(\"area_of_hexagon(\",l,\")\",\"➞ \",round(a,1))\n",
    "for i in range(3):\n",
    "    l=int(input(\"enter the length\"))\n",
    "    area()"
   ]
  },
  {
   "cell_type": "markdown",
   "id": "392ebf93",
   "metadata": {},
   "source": [
    " 5.Create a function that returns a base-2 (binary) representation of a base-10 (decimal) string number. To convert is simple:\n",
    "\n",
    "((2) means base-2 and (10) means base-10)\n",
    "\n",
    "010101001(2) = 1 + 8 + 32 + 128.\n",
    "\n",
    "Going from right to left, the value of the most right bit is 1, now from that every bit to the left will be x2 the value, value of an 8 bit binary numbers are (256, 128, 64, 32, 16, 8, 4, 2, 1).\n",
    "\n",
    "Examples:\n",
    "\n",
    "binary(1) ➞ \"1\" # 1* 1 = 1 \n",
    "\n",
    "binary(5) ➞ \"101\" # 1 1 + 1 4 = 5 \n",
    "\n",
    "binary(10) ➞ \"1010\" # 1 2 + 1 8 = 10\n"
   ]
  },
  {
   "cell_type": "code",
   "execution_count": 2,
   "id": "6c702367",
   "metadata": {},
   "outputs": [
    {
     "name": "stdout",
     "output_type": "stream",
     "text": [
      "enter the number : 1\n",
      "Binary of 1 ➞ 1\n",
      "enter the number : 5\n",
      "Binary of 5 ➞ 101\n",
      "enter the number : 10\n",
      "Binary of 10 ➞ 1010\n"
     ]
    }
   ],
   "source": [
    "def binary(num):\n",
    "    n=bin(num).replace(\"0b\",\"\")\n",
    "    print(f'Binary of {num} ➞ {n}') \n",
    "for i in range(3):\n",
    "    num=int(input(\"enter the number : \"))\n",
    "    binary(num)        "
   ]
  },
  {
   "cell_type": "code",
   "execution_count": null,
   "id": "9808bb8b",
   "metadata": {},
   "outputs": [],
   "source": []
  }
 ],
 "metadata": {
  "kernelspec": {
   "display_name": "Python 3 (ipykernel)",
   "language": "python",
   "name": "python3"
  },
  "language_info": {
   "codemirror_mode": {
    "name": "ipython",
    "version": 3
   },
   "file_extension": ".py",
   "mimetype": "text/x-python",
   "name": "python",
   "nbconvert_exporter": "python",
   "pygments_lexer": "ipython3",
   "version": "3.9.7"
  }
 },
 "nbformat": 4,
 "nbformat_minor": 5
}
