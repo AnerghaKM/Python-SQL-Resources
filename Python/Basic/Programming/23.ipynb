{
 "cells": [
  {
   "cell_type": "markdown",
   "id": "d0f8f435",
   "metadata": {},
   "source": [
    "Question 1\n",
    "Create a function that takes a number as an argument and returns True or False depending\n",
    "on whether the number is symmetrical or not. A number is symmetrical when it is the same as\n",
    "its reverse.\n",
    "Examples\n",
    "\n",
    "is_symmetrical(7227) ➞ True\n",
    "\n",
    "is_symmetrical(12567) ➞ False\n",
    "\n",
    "is_symmetrical(44444444) ➞ True\n",
    "\n",
    "is_symmetrical(9939) ➞ False\n",
    "\n",
    "is_symmetrical(1112111) ➞ True"
   ]
  },
  {
   "cell_type": "code",
   "execution_count": 8,
   "id": "c2d050cf",
   "metadata": {},
   "outputs": [
    {
     "name": "stdout",
     "output_type": "stream",
     "text": [
      "enter the number : 7227\n",
      "7227 7227\n",
      "is_symmetrical(7227) ➞ True\n",
      "enter the number : 12567\n",
      "76521 12567\n",
      "is_symmetrical(12567) ➞ False\n",
      "enter the number : 444444\n",
      "444444 444444\n",
      "is_symmetrical(444444) ➞ True\n",
      "enter the number : 9939\n",
      "9399 9939\n",
      "is_symmetrical(9939) ➞ False\n",
      "enter the number : 1112111\n",
      "1112111 1112111\n",
      "is_symmetrical(1112111) ➞ True\n"
     ]
    }
   ],
   "source": [
    "def symm(num):\n",
    "    num=str(num)\n",
    "    s=num[::-1]\n",
    "    print(s,num)\n",
    "    if s==num:\n",
    "        print(f\"is_symmetrical({num}) ➞ True\")\n",
    "    else:\n",
    "        print(f\"is_symmetrical({num}) ➞ False\")\n",
    "        \n",
    "for i in range(5):   \n",
    "    num=int(input(\"enter the number : \"))\n",
    "    symm(num)"
   ]
  },
  {
   "cell_type": "markdown",
   "id": "d947ae17",
   "metadata": {},
   "source": [
    "Question 2\n",
    "Given a string of numbers separated by a comma and space, return the product of the\n",
    "numbers.\n",
    "Examples\n",
    "\n",
    "multiply_nums(&quot;2, 3&quot;) ➞ 6\n",
    "\n",
    "multiply_nums(&quot;1, 2, 3, 4&quot;) ➞ 24\n",
    "\n",
    "multiply_nums(&quot;54, 75, 453, 0&quot;) ➞ 0\n",
    "\n",
    "multiply_nums(&quot;10, -2&quot;) ➞ -20"
   ]
  },
  {
   "cell_type": "code",
   "execution_count": 39,
   "id": "49077baf",
   "metadata": {},
   "outputs": [
    {
     "name": "stdout",
     "output_type": "stream",
     "text": [
      "enter the count of numbers : 2\n",
      "enter the numbers : 2, \n",
      "enter the numbers : 3\n",
      "multiply_nums(2, 3) ➞ 6\n"
     ]
    }
   ],
   "source": [
    "p=\"\"\n",
    "c=int(input(\"enter the count of numbers : \"))\n",
    "for i in range(c):\n",
    "    s=input(\"enter the numbers : \")\n",
    "    p+=s\n",
    "    #p+=\"\"\n",
    "list(p)\n",
    "l=[]\n",
    "for i in p:\n",
    "    if i.isdigit():\n",
    "        i=int(i)\n",
    "        l.append(i)\n",
    "m=1\n",
    "for i in l:\n",
    "    m*=i\n",
    "print(f\"multiply_nums({p}) ➞ {m}\")"
   ]
  },
  {
   "cell_type": "code",
   "execution_count": 42,
   "id": "ec34aa42",
   "metadata": {},
   "outputs": [
    {
     "name": "stdout",
     "output_type": "stream",
     "text": [
      "2, 3 ➞ 6\n",
      "1, 2, 3, 4 ➞ 24\n",
      "54, 75, 453, 0 ➞ 0\n",
      "10, -2 ➞ -20\n"
     ]
    }
   ],
   "source": [
    "def multiply_nums(s):\n",
    "    o = s.replace(' ','').split(',')\n",
    "    m = 1\n",
    "    for ele in o:\n",
    "        m *= int(ele)\n",
    "    print(f'{s} ➞ {m}')\n",
    "    \n",
    "multiply_nums(\"2, 3\")\n",
    "multiply_nums(\"1, 2, 3, 4\")\n",
    "multiply_nums(\"54, 75, 453, 0\")\n",
    "multiply_nums(\"10, -2\")"
   ]
  },
  {
   "cell_type": "markdown",
   "id": "d909e04a",
   "metadata": {},
   "source": [
    "## Question 3\n",
    "Create a function that squares every digit of a number.\n",
    "Examples\n",
    "\n",
    "square_digits(9119) ➞ 811181\n",
    "\n",
    "square_digits(2483) ➞ 416649\n",
    "\n",
    "square_digits(3212) ➞ 9414\n",
    "\n",
    "Notes\n",
    "The function receives an integer and must return an integer."
   ]
  },
  {
   "cell_type": "code",
   "execution_count": 67,
   "id": "a4d49c41",
   "metadata": {},
   "outputs": [
    {
     "name": "stdout",
     "output_type": "stream",
     "text": [
      "enter the number : 9119\n",
      "square_digits(9119) ➞ 811181\n",
      "enter the number : 2483\n",
      "square_digits(2483) ➞ 416649\n",
      "enter the number : 3212\n",
      "square_digits(3212) ➞ 9414\n"
     ]
    }
   ],
   "source": [
    "def sqr(n):\n",
    "    s=str(n)\n",
    "    a=\"\"\n",
    "    for i in s:\n",
    "        i=int(i)\n",
    "        sq=pow(i,2)\n",
    "        sq=str(sq)\n",
    "        a+=sq\n",
    "    print(f\"square_digits({n}) ➞ {a}\") \n",
    "for i in range(3):\n",
    "    n=int(input(\"enter the number : \"))\n",
    "    sqr(n)"
   ]
  },
  {
   "cell_type": "code",
   "execution_count": 65,
   "id": "ff5d8d49",
   "metadata": {},
   "outputs": [
    {
     "name": "stdout",
     "output_type": "stream",
     "text": [
      "9119 ➞ 811181\n",
      "2483 ➞ 416649\n",
      "3212 ➞ 9414\n"
     ]
    }
   ],
   "source": [
    "def square_digits(num):\n",
    "    l = [str(int(ele)**2) for ele in str(num)]\n",
    "    o = ''.join(l)\n",
    "    print(f'{num} ➞ {int(o)}')\n",
    "\n",
    "square_digits(9119)\n",
    "square_digits(2483)\n",
    "square_digits(3212)"
   ]
  },
  {
   "cell_type": "markdown",
   "id": "90c9f39f",
   "metadata": {},
   "source": [
    "Question 4\n",
    "Create a function that sorts a list and removes all duplicate items from it.\n",
    "Examples\n",
    "\n",
    "setify([1, 3, 3, 5, 5]) ➞ [1, 3, 5]\n",
    "\n",
    "setify([4, 4, 4, 4]) ➞ [4]\n",
    "\n",
    "setify([5, 7, 8, 9, 10, 15]) ➞ [5, 7, 8, 9, 10, 15]\n",
    "\n",
    "setify([3, 3, 3, 2, 1]) ➞ [1, 2, 3]"
   ]
  },
  {
   "cell_type": "code",
   "execution_count": 15,
   "id": "c4dbb33f",
   "metadata": {},
   "outputs": [
    {
     "name": "stdout",
     "output_type": "stream",
     "text": [
      "enter the count of numbers : 5\n",
      "enter the numbers : 1\n",
      "enter the numbers : 5\n",
      "enter the numbers : 3\n",
      "enter the numbers : 3\n",
      "enter the numbers : 5\n",
      "setify(['1', '5', '3', '3', '5']) ➞ ['1', '3', '5']\n"
     ]
    }
   ],
   "source": [
    "def sort(l):\n",
    "    m=l\n",
    "    o=sorted(set(l))\n",
    "    #print(o)\n",
    "    print(f\"setify({m}) ➞ {o}\")\n",
    "l=[]\n",
    "c=int(input(\"enter the count of numbers : \"))\n",
    "for i in range(c):\n",
    "    s=input(\"enter the numbers : \")\n",
    "    l.append(s)\n",
    "#print(type(l))\n",
    "#print(l)\n",
    "sort(l)"
   ]
  },
  {
   "cell_type": "code",
   "execution_count": 13,
   "id": "696f07a5",
   "metadata": {},
   "outputs": [
    {
     "name": "stdout",
     "output_type": "stream",
     "text": [
      "[5, 7, 8, 9, 10, 15]\n"
     ]
    },
    {
     "data": {
      "text/plain": [
       "[2, 3, 4]"
      ]
     },
     "execution_count": 13,
     "metadata": {},
     "output_type": "execute_result"
    }
   ],
   "source": [
    "def setify(lst):\n",
    "    return list(set(lst))\n",
    "print(setify([5, 7, 8, 9, 10, 15]))\n",
    "setify([3,2,4])"
   ]
  },
  {
   "cell_type": "code",
   "execution_count": 83,
   "id": "3f4516ea",
   "metadata": {},
   "outputs": [
    {
     "name": "stdout",
     "output_type": "stream",
     "text": [
      "[1, 3, 3, 5, 5] ➞ [1, 3, 5]\n",
      "[4, 4, 4, 4] ➞ [4]\n",
      "[5, 7, 10, 8, 9, 15] ➞ [5, 7, 8, 9, 10, 15]\n",
      "[3, 3, 3, 2, 1] ➞ [1, 2, 3]\n"
     ]
    }
   ],
   "source": [
    "def setify(in_list):\n",
    "    out_list = sorted(set(in_list))\n",
    "    print(f'{in_list} ➞ {out_list}')\n",
    "    \n",
    "setify([1, 3, 3, 5, 5]) \n",
    "setify([4, 4, 4, 4])\n",
    "setify([5, 7,10, 8, 9,  15])\n",
    "setify([3, 3, 3, 2, 1])"
   ]
  },
  {
   "cell_type": "markdown",
   "id": "fa8d7fde",
   "metadata": {},
   "source": [
    "Question 5\n",
    "Create a function that returns the mean of all digits.\n",
    "Examples\n",
    "\n",
    "mean(42) ➞ 3\n",
    "\n",
    "mean(12345) ➞ 3\n",
    "\n",
    "mean(666) ➞ 6\n",
    "\n",
    "Notes\n",
    "- The mean of all digits is the sum of digits / how many digits there are (e.g. mean of digits in\n",
    "512 is (5+1+2)/3(number of digits) = 8/3=2).\n",
    "- The mean will always be an integer."
   ]
  },
  {
   "cell_type": "code",
   "execution_count": 24,
   "id": "0b48074b",
   "metadata": {},
   "outputs": [
    {
     "name": "stdout",
     "output_type": "stream",
     "text": [
      "enter the number : 23\n",
      "2.5\n"
     ]
    }
   ],
   "source": [
    "def mean(n):\n",
    "    s=str(n)\n",
    "    length=len(s)\n",
    "    sum=0\n",
    "    for i in s:\n",
    "        i=int(i)\n",
    "        sum+=i\n",
    "    mean=sum/length\n",
    "    print(round(mean))\n",
    "n=int(input(\"enter the number : \"))\n",
    "mean(n)"
   ]
  },
  {
   "cell_type": "code",
   "execution_count": 25,
   "id": "8f7f3936",
   "metadata": {},
   "outputs": [
    {
     "name": "stdout",
     "output_type": "stream",
     "text": [
      "enter the number : 23\n",
      "2\n"
     ]
    }
   ],
   "source": [
    "def mean(n):\n",
    "    lst=[int(ele) for ele in str(n)]\n",
    "    mean=sum(lst)/len(str(n))\n",
    "    print(round(mean))\n",
    "n=int(input(\"enter the number : \"))\n",
    "mean(n)"
   ]
  },
  {
   "cell_type": "code",
   "execution_count": 26,
   "id": "30305079",
   "metadata": {},
   "outputs": [
    {
     "name": "stdout",
     "output_type": "stream",
     "text": [
      "Mean of 42  ➞ 3\n",
      "Mean of 12345  ➞ 3\n",
      "Mean of 666  ➞ 6\n"
     ]
    }
   ],
   "source": [
    "def mean(in_num):\n",
    "    in_list = [int(ele) for ele in str(in_num)]\n",
    "    out_num = sum(in_list)/len(str(in_num))\n",
    "    print(f'Mean of {in_num}  ➞ {out_num:.0f}')\n",
    "    \n",
    "mean(42)\n",
    "mean(12345)\n",
    "mean(666)"
   ]
  },
  {
   "cell_type": "code",
   "execution_count": null,
   "id": "16687997",
   "metadata": {},
   "outputs": [],
   "source": []
  }
 ],
 "metadata": {
  "kernelspec": {
   "display_name": "Python 3 (ipykernel)",
   "language": "python",
   "name": "python3"
  },
  "language_info": {
   "codemirror_mode": {
    "name": "ipython",
    "version": 3
   },
   "file_extension": ".py",
   "mimetype": "text/x-python",
   "name": "python",
   "nbconvert_exporter": "python",
   "pygments_lexer": "ipython3",
   "version": "3.9.7"
  }
 },
 "nbformat": 4,
 "nbformat_minor": 5
}
