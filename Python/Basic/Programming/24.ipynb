{
 "cells": [
  {
   "cell_type": "markdown",
   "id": "168c40ab",
   "metadata": {},
   "source": [
    "Question1\n",
    "Create a function that takes an integer and returns a list from 1 to the given number, where:\n",
    "\n",
    "1. If the number can be divided evenly by 4, amplify it by 10 (i.e. return 10 times the number).\n",
    "\n",
    "2. If the number cannot be divided evenly by 4, simply return the number.\n",
    "\n",
    "Examples\n",
    "\n",
    "amplify(4) ➞ [1, 2, 3, 40]\n",
    "\n",
    "amplify(3) ➞ [1, 2, 3]\n",
    "\n",
    "amplify(25) ➞ [1, 2, 3, 40, 5, 6, 7, 80, 9, 10, 11, 120, 13, 14, 15, 160, 17, 18, 19, 200, 21, 22, 23, 240, 25]\n",
    "\n",
    "Notes\n",
    "- The given integer will always be equal to or greater than 1.\n",
    "- Include the number (see example above).\n",
    "- To perform this problem with its intended purpose, try doing it with list comprehensions. If that&#39;s too difficult, just solve the challenge any way you can."
   ]
  },
  {
   "cell_type": "code",
   "execution_count": 11,
   "id": "cfca1958",
   "metadata": {},
   "outputs": [
    {
     "name": "stdout",
     "output_type": "stream",
     "text": [
      "enter the number : 4\n",
      "amplify(4) ➞ [1, 2, 3, 40]\n",
      "enter the number : 3\n",
      "amplify(3) ➞ [1, 2, 3]\n",
      "enter the number : 25\n",
      "amplify(25) ➞ [1, 2, 3, 40, 5, 6, 7, 80, 9, 10, 11, 120, 13, 14, 15, 160, 17, 18, 19, 200, 21, 22, 23, 240, 25]\n"
     ]
    }
   ],
   "source": [
    "def list_num(num):\n",
    "    l=[i if (i%4!=0) else i*10 for i in range(1,num+1)]\n",
    "    print(f\"amplify({num}) ➞ {l}\") \n",
    "for i in range(3):\n",
    "    num=int(input(\"enter the number : \"))\n",
    "    list_num(num)"
   ]
  },
  {
   "cell_type": "markdown",
   "id": "2dbfafa4",
   "metadata": {},
   "source": [
    "Question2\n",
    "Create a function that takes a list of numbers and return the number that&#39;s unique.\n",
    "Examples\n",
    "\n",
    "unique([3, 3, 3, 7, 3, 3]) ➞ 7\n",
    "\n",
    "unique([0, 0, 0.77, 0, 0]) ➞ 0.77\n",
    "\n",
    "unique([0, 1, 1, 1, 1, 1, 1, 1]) ➞ 0\n",
    "\n",
    "Notes\n",
    "Test cases will always have exactly one unique number while all others are the same."
   ]
  },
  {
   "cell_type": "code",
   "execution_count": 25,
   "id": "5e29f6d5",
   "metadata": {},
   "outputs": [
    {
     "name": "stdout",
     "output_type": "stream",
     "text": [
      "enter the count of elements in array : 6\n",
      "enter the element : 3\n",
      "enter the element : 3\n",
      "enter the element : 3\n",
      "enter the element : 7\n",
      "enter the element : 3\n",
      "enter the element : 3\n",
      "unique(['3', '3', '3', '7', '3', '3']) ➞ 7\n",
      "enter the count of elements in array : 5\n",
      "enter the element : 0\n",
      "enter the element : 0\n",
      "enter the element : 0.77\n",
      "enter the element : 0\n",
      "enter the element : 0\n",
      "unique(['0', '0', '0.77', '0', '0']) ➞ 0.77\n",
      "enter the count of elements in array : 8\n",
      "enter the element : 0\n",
      "enter the element : 1\n",
      "enter the element : 1\n",
      "enter the element : 1\n",
      "enter the element : 1\n",
      "enter the element : 1\n",
      "enter the element : 1\n",
      "enter the element : 1\n",
      "unique(['0', '1', '1', '1', '1', '1', '1', '1']) ➞ 0\n"
     ]
    }
   ],
   "source": [
    "def uni(l):\n",
    "    d={}\n",
    "    for i in l:\n",
    "        if i not in d:\n",
    "            d[i]=1\n",
    "        else:\n",
    "            d[i]+=1\n",
    "    #print(d)\n",
    "    for i in d:\n",
    "        if d[i]==1:\n",
    "            print(f\"unique({l}) ➞ {i}\")\n",
    "for i in range(3):\n",
    "    lim=int(input(\"enter the count of elements in array : \"))\n",
    "    l=[]\n",
    "    for i in range(lim):\n",
    "        ele=input(\"enter the element : \")\n",
    "        l.append(ele)\n",
    "\n",
    "    uni(l)"
   ]
  },
  {
   "cell_type": "code",
   "execution_count": 7,
   "id": "784d1585",
   "metadata": {},
   "outputs": [
    {
     "name": "stdout",
     "output_type": "stream",
     "text": [
      "enter the count of elements in array : 5\n",
      "enter the element : 3\n",
      "enter the element : 3\n",
      "enter the element : 0.77\n",
      "enter the element : 3\n",
      "enter the element : 3\n",
      "unique(['3', '3', '0.77', '3', '3']) ➞ 0.77\n"
     ]
    }
   ],
   "source": [
    "def uni(l):\n",
    "    o=\"\"\n",
    "    for ele in l:\n",
    "        if l.count(ele)==1:\n",
    "            o=ele\n",
    "    print(f\"unique({l}) ➞ {o}\")\n",
    "for i in range(1):\n",
    "    lim=int(input(\"enter the count of elements in array : \"))\n",
    "    l=[]\n",
    "    for i in range(lim):\n",
    "        ele=input(\"enter the element : \")\n",
    "        l.append(ele)\n",
    "\n",
    "    uni(l)"
   ]
  },
  {
   "cell_type": "markdown",
   "id": "4ba7ec4d",
   "metadata": {},
   "source": [
    " Question3\n",
    "Your task is to create a Circle constructor that creates a circle with a radius provided by an\n",
    "argument. The circles constructed must have two getters getArea() (PIr^2) and\n",
    "getPerimeter() (2PI*r) which give both respective areas and perimeter (circumference).\n",
    "\n",
    "For help with this class, I have provided you with a Rectangle constructor which you can use\n",
    "as a base example.\n",
    "\n",
    "Examples\n",
    "\n",
    "circy = Circle(11)\n",
    "\n",
    "circy.getArea()\n",
    "\n",
    "#Should return 380.132711084365\n",
    "\n",
    "circy = Circle(4.44)\n",
    "\n",
    "circy.getPerimeter()\n",
    "\n",
    "#Should return 27.897342763877365\n",
    "\n",
    "Notes\n",
    "Round results up to the nearest integer."
   ]
  },
  {
   "cell_type": "code",
   "execution_count": 18,
   "id": "355156bd",
   "metadata": {},
   "outputs": [
    {
     "data": {
      "text/plain": [
       "380"
      ]
     },
     "execution_count": 18,
     "metadata": {},
     "output_type": "execute_result"
    }
   ],
   "source": [
    "import math\n",
    "class Circle:\n",
    "    def __init__(self,r):\n",
    "        self.r=r\n",
    "    def getArea(self):\n",
    "        return round(math.pi*pow(self.r,2))\n",
    "    def getPerimeter(self):\n",
    "        return round(2*math.pi*self.r)\n",
    "circy=Circle(11)\n",
    "circy.getArea()"
   ]
  },
  {
   "cell_type": "code",
   "execution_count": 19,
   "id": "2febe91c",
   "metadata": {},
   "outputs": [
    {
     "data": {
      "text/plain": [
       "28"
      ]
     },
     "execution_count": 19,
     "metadata": {},
     "output_type": "execute_result"
    }
   ],
   "source": [
    "circy=Circle(4.44)\n",
    "circy.getPerimeter()"
   ]
  },
  {
   "cell_type": "markdown",
   "id": "872e5263",
   "metadata": {},
   "source": [
    "Question4\n",
    "Create a function that takes a list of strings and return a list, sorted from shortest to longest.\n",
    "Examples\n",
    "\n",
    "sort_by_length([&quot;Google&quot;, &quot;Apple&quot;, &quot;Microsoft&quot;])\n",
    "➞ [&quot;Apple&quot;, &quot;Google&quot;, &quot;Microsoft&quot;]\n",
    "\n",
    "sort_by_length([&quot;Leonardo&quot;, &quot;Michelangelo&quot;, &quot;Raphael&quot;, &quot;Donatello&quot;])\n",
    "➞ [&quot;Raphael&quot;, &quot;Leonardo&quot;, &quot;Donatello&quot;, &quot;Michelangelo&quot;]\n",
    "\n",
    "sort_by_length([&quot;Turing&quot;, &quot;Einstein&quot;, &quot;Jung&quot;])\n",
    "➞ [&quot;Jung&quot;, &quot;Turing&quot;, &quot;Einstein&quot;]\n",
    "\n",
    "Notes\n",
    "All test cases contain lists with strings of different lengths, so you won&#39;t have to deal with\n",
    "multiple strings of the same length."
   ]
  },
  {
   "cell_type": "code",
   "execution_count": 34,
   "id": "f764c0fd",
   "metadata": {},
   "outputs": [
    {
     "name": "stdout",
     "output_type": "stream",
     "text": [
      "enter the count of elements in array : 3\n",
      "enter the element : google\n",
      "enter the element : apple\n",
      "enter the element : microsoft\n",
      "sort_by_length(['google', 'apple', 'microsoft']) ➞ ['apple', 'google', 'microsoft']\n"
     ]
    }
   ],
   "source": [
    "def short(l):\n",
    "    \n",
    "    c=sorted(l,key=len)\n",
    "    print(f\"sort_by_length({l}) ➞ {c}\")\n",
    "\n",
    "lim=int(input(\"enter the count of elements in array : \"))\n",
    "l=[]\n",
    "for i in range(lim):\n",
    "    ele=input(\"enter the element : \")\n",
    "    l.append(ele)\n",
    "short(l)"
   ]
  },
  {
   "cell_type": "code",
   "execution_count": 26,
   "id": "a5f38294",
   "metadata": {},
   "outputs": [
    {
     "data": {
      "text/plain": [
       "['aa', 'abc']"
      ]
     },
     "execution_count": 26,
     "metadata": {},
     "output_type": "execute_result"
    }
   ],
   "source": [
    "l=[\"abc\",\"aa\"]\n",
    "sorted(l)"
   ]
  },
  {
   "cell_type": "markdown",
   "id": "ef80946f",
   "metadata": {},
   "source": [
    "Question5\n",
    "Create a function that validates whether three given integers form a Pythagorean triplet. The\n",
    "sum of the squares of the two smallest integers must equal the square of the largest number to\n",
    "be validated.\n",
    "\n",
    "Examples\n",
    "\n",
    "is_triplet(3, 4, 5) ➞ True\n",
    "\n",
    "##3² + 4² = 25\n",
    "##5² = 25\n",
    "\n",
    "is_triplet(13, 5, 12) ➞ True\n",
    "\n",
    "##5² + 12² = 169\n",
    "##13² = 169\n",
    "\n",
    "is_triplet(1, 2, 3) ➞ False\n",
    "\n",
    "##1² + 2² = 5\n",
    "##3² = 9\n",
    "\n",
    "Notes\n",
    "Numbers may not be given in a sorted order."
   ]
  },
  {
   "cell_type": "code",
   "execution_count": 47,
   "id": "72e079e4",
   "metadata": {},
   "outputs": [
    {
     "name": "stdout",
     "output_type": "stream",
     "text": [
      "enter the numbers : 13\n",
      "enter the numbers : 5\n",
      "enter the numbers : 12\n",
      "is_triplet([13, 5, 12]) ➞ True\n"
     ]
    }
   ],
   "source": [
    "def pyt(l):\n",
    "    if (pow(l[0],2)+pow(l[1],2)==pow(l[2],2)):\n",
    "        print(f\"is_triplet({n}) ➞ True\")\n",
    "    else:\n",
    "        print(f\"is_triplet({n}) ➞ False\")\n",
    "n=[]\n",
    "for i in range(3):\n",
    "    num=int(input(\"enter the numbers : \"))\n",
    "    n.append(num)    \n",
    "l=sorted(n)\n",
    "pyt(l)"
   ]
  },
  {
   "cell_type": "code",
   "execution_count": null,
   "id": "30c7bc36",
   "metadata": {},
   "outputs": [],
   "source": []
  }
 ],
 "metadata": {
  "kernelspec": {
   "display_name": "Python 3 (ipykernel)",
   "language": "python",
   "name": "python3"
  },
  "language_info": {
   "codemirror_mode": {
    "name": "ipython",
    "version": 3
   },
   "file_extension": ".py",
   "mimetype": "text/x-python",
   "name": "python",
   "nbconvert_exporter": "python",
   "pygments_lexer": "ipython3",
   "version": "3.9.7"
  }
 },
 "nbformat": 4,
 "nbformat_minor": 5
}
