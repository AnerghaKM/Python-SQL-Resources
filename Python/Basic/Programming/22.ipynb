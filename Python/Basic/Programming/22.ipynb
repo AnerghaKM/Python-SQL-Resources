{
 "cells": [
  {
   "cell_type": "markdown",
   "id": "f1da9b94",
   "metadata": {},
   "source": [
    "Question1\n",
    "Create a function that takes three parameters where:\n",
    "\n",
    "- x is the start of the range (inclusive).\n",
    "- y is the end of the range (inclusive).\n",
    "- n is the divisor to be checked against.\n",
    "\n",
    "Return an ordered list with numbers in the range that are divisible by the third parameter n.\n",
    "Return an empty list if there are no numbers that are divisible by n.\n",
    "Examples\n",
    "\n",
    "list_operation(1, 10, 3) ➞ [3, 6, 9]\n",
    "\n",
    "list_operation(7, 9, 2) ➞ [8]\n",
    "\n",
    "list_operation(15, 20, 7) ➞ []"
   ]
  },
  {
   "cell_type": "code",
   "execution_count": 1,
   "id": "fa4ed718",
   "metadata": {},
   "outputs": [
    {
     "name": "stdout",
     "output_type": "stream",
     "text": [
      "Output: ➞ [3, 6, 9]\n",
      "Output: ➞ [8]\n",
      "Output: ➞ []\n"
     ]
    }
   ],
   "source": [
    "def list_operation(start,end,divisor):\n",
    "    out_list = []\n",
    "    for ele in range(start,end+1):\n",
    "        if ele%divisor == 0:\n",
    "            out_list.append(ele)\n",
    "    print(f'Output: ➞ {out_list}')\n",
    "\n",
    "list_operation(1, 10, 3)\n",
    "list_operation(7, 9, 2)\n",
    "list_operation(15, 20, 7)"
   ]
  },
  {
   "cell_type": "markdown",
   "id": "46125475",
   "metadata": {},
   "source": [
    "Question2\n",
    "Create a function that takes in two lists and returns True if the second list follows the first list\n",
    "by one element, and False otherwise. In other words, determine if the second list is the first\n",
    "list shifted to the right by 1.\n",
    "Examples\n",
    "\n",
    "simon_says([1, 2], [5, 1]) ➞ True\n",
    "\n",
    "simon_says([1, 2], [5, 5]) ➞ False\n",
    "\n",
    "simon_says([1, 2, 3, 4, 5], [0, 1, 2, 3, 4]) ➞ True\n",
    "\n",
    "simon_says([1, 2, 3, 4, 5], [5, 5, 1, 2, 3]) ➞ False\n",
    "\n",
    "Notes\n",
    "- Both input lists will be of the same length, and will have a minimum length of 2.\n",
    "- The values of the 0-indexed element in the second list and the n-1th indexed element\n",
    "in the first list do not matter."
   ]
  },
  {
   "cell_type": "code",
   "execution_count": 4,
   "id": "844965a7",
   "metadata": {},
   "outputs": [
    {
     "name": "stdout",
     "output_type": "stream",
     "text": [
      "enter the size of list : 5\n",
      "enter the elemets to list 1 : 1\n",
      "enter the elemets to list 1 : 2\n",
      "enter the elemets to list 1 : 3\n",
      "enter the elemets to list 1 : 4\n",
      "enter the elemets to list 1 : 5\n",
      "enter the elemets to list 2 : 0\n",
      "enter the elemets to list 2 : 1\n",
      "enter the elemets to list 2 : 2\n",
      "enter the elemets to list 2 : 3\n",
      "enter the elemets to list 2 : 4\n",
      "simon_says([1, 2, 3, 4, 5],[0, 1, 2, 3, 4]) ➞ True\n"
     ]
    }
   ],
   "source": [
    "def test(l1,l2):\n",
    "    \n",
    "    if (len(l1)==len(l2)) :\n",
    "        \n",
    "        if len(l1)>=2 and len(l2)>=2:\n",
    "                   \n",
    "            if(l1[:-1]==l2[1:]):\n",
    "                print(f\"simon_says({l1},{l2}) ➞ True\")\n",
    "                \n",
    "            else:\n",
    "                print(f\"simon_says({l1},{l2}) ➞ False\")\n",
    "\n",
    "limit=int(input(\"enter the size of list : \"))\n",
    "l1=[]\n",
    "l2=[]\n",
    "for i in range(limit):\n",
    "    e=int(input(\"enter the elemets to list 1 : \"))\n",
    "    l1.append(e)\n",
    "for i in range(limit):\n",
    "    e=int(input(\"enter the elemets to list 2 : \"))\n",
    "    l2.append(e)\n",
    "test(l1,l2)"
   ]
  },
  {
   "cell_type": "markdown",
   "id": "58766dc6",
   "metadata": {},
   "source": [
    " Question3\n",
    "A group of friends have decided to start a secret society. The name will be the first letter of\n",
    "each of their names, sorted in alphabetical order.\n",
    "Create a function that takes in a list of names and returns the name of the secret society.\n",
    "\n",
    "Examples\n",
    "\n",
    "society_name([&quot;Adam&quot;, &quot;Sarah&quot;, &quot;Malcolm&quot;]) ➞ &quot;AMS&quot;\n",
    "\n",
    "society_name([&quot;Harry&quot;, &quot;Newt&quot;, &quot;Luna&quot;, &quot;Cho&quot;]) ➞ &quot;CHLN&quot;\n",
    "\n",
    "society_name([&quot;Phoebe&quot;, &quot;Chandler&quot;, &quot;Rachel&quot;, &quot;Ross&quot;, &quot;Monica&quot;, &quot;Joey&quot;])"
   ]
  },
  {
   "cell_type": "code",
   "execution_count": 37,
   "id": "6d93ab8e",
   "metadata": {},
   "outputs": [
    {
     "name": "stdout",
     "output_type": "stream",
     "text": [
      "enter the number of names : 3\n",
      "enter the name - 1 : Adam\n",
      "enter the name - 2 : Sarah\n",
      "enter the name - 3 : Malcolm\n",
      "society_name(['Adam', 'Sarah', 'Malcolm']) ➞ AMS\n"
     ]
    }
   ],
   "source": [
    "def name(s):\n",
    "    a=[]\n",
    "    for i in s:\n",
    "        a.append(i[0])\n",
    "        b=\"\".join(sorted(a))\n",
    "        \n",
    "    print(f\"society_name({s}) ➞ {b}\")\n",
    "\n",
    "s=[]\n",
    "l=int(input(\"enter the number of names : \"))\n",
    "for i in range(l):\n",
    "    n=input(f\"enter the name - {i+1} : \")\n",
    "    s.append(n)\n",
    "#print(s)\n",
    "name(s)"
   ]
  },
  {
   "cell_type": "code",
   "execution_count": 30,
   "id": "220a3104",
   "metadata": {},
   "outputs": [
    {
     "data": {
      "text/plain": [
       "\"['A', 'B', 'I']\""
      ]
     },
     "execution_count": 30,
     "metadata": {},
     "output_type": "execute_result"
    }
   ],
   "source": [
    "a=\"AIB\"\n",
    "sorted(a)"
   ]
  },
  {
   "cell_type": "code",
   "execution_count": 19,
   "id": "3bc803e4",
   "metadata": {},
   "outputs": [
    {
     "name": "stdout",
     "output_type": "stream",
     "text": [
      "enter the number of names : 2\n",
      "enter the name - 1 : ann\n",
      "enter the name - 2 : kku\n",
      "ann,kku,\n"
     ]
    }
   ],
   "source": [
    "s=\"\"\n",
    "l=int(input(\"enter the number of names : \"))\n",
    "for i in range(l):\n",
    "    n=input(f\"enter the name - {i+1} : \")\n",
    "    s+=n\n",
    "    s+=\",\"\n",
    "print(s)"
   ]
  },
  {
   "cell_type": "markdown",
   "id": "298a1fdd",
   "metadata": {},
   "source": [
    "Question4\n",
    "An isogram is a word that has no duplicate letters. Create a function that takes a string and\n",
    "returns either True or False depending on whether or not it&#39;s an &quot;isogram&quot;.\n",
    "\n",
    "Examples\n",
    "is_isogram(&quot;Algorism&quot;) ➞ True\n",
    "\n",
    "is_isogram(&quot;PasSword&quot;) ➞ False\n",
    "\n",
    "#Not case sensitive.\n",
    " \n",
    "is_isogram(&quot;Consecutive&quot;) ➞ False\n",
    "\n",
    "Notes\n",
    "- Ignore letter case (should not be case sensitive).\n",
    "- All test cases contain valid one word strings."
   ]
  },
  {
   "cell_type": "code",
   "execution_count": 1,
   "id": "abfa3a38",
   "metadata": {},
   "outputs": [
    {
     "name": "stdout",
     "output_type": "stream",
     "text": [
      "enter the string : Algorism\n",
      "is_isogram(algorism) ➞ True\n",
      "enter the string : PasSword\n",
      "is_isogram(password) ➞ False\n",
      "enter the string : Consecutive\n",
      "is_isogram(consecutive) ➞ False\n"
     ]
    }
   ],
   "source": [
    "for i in range(3):\n",
    "    s=input(\"enter the string : \")\n",
    "    s=s.lower()\n",
    "    d=s\n",
    "    a=set(d)\n",
    "    #print(a)\n",
    "    if len(s)==len(a):\n",
    "        print(f\"is_isogram({s}) ➞ True\")\n",
    "    else:\n",
    "        print(f\"is_isogram({s}) ➞ False\")"
   ]
  },
  {
   "cell_type": "markdown",
   "id": "7174deaa",
   "metadata": {},
   "source": [
    "Question5\n",
    "Create a function that takes a string and returns True or False, depending on whether the\n",
    "characters are in order or not.\n",
    "Examples\n",
    "\n",
    "is_in_order(&quot;abc&quot;) ➞ True\n",
    "\n",
    "is_in_order(&quot;edabit&quot;) ➞ False\n",
    "\n",
    "is_in_order(&quot;123&quot;) ➞ True\n",
    "\n",
    "is_in_order(&quot;xyzz&quot;) ➞ True\n",
    "\n",
    "Notes\n",
    "You don&#39;t have to handle empty strings."
   ]
  },
  {
   "cell_type": "code",
   "execution_count": 4,
   "id": "81625962",
   "metadata": {},
   "outputs": [
    {
     "name": "stdout",
     "output_type": "stream",
     "text": [
      "enter the string : abc\n",
      "is_in_order(abc) ➞ True\n",
      "enter the string : edabit\n",
      "is_in_order(edabit) ➞ False\n",
      "enter the string : 123\n",
      "is_in_order(123) ➞ True\n",
      "enter the string : xyzz\n",
      "is_in_order(xyzz) ➞ True\n"
     ]
    }
   ],
   "source": [
    "def order(s):\n",
    "    so=sorted(s)\n",
    "    l=\"\".join(so)\n",
    "    if s==l:\n",
    "        print(f\"is_in_order({s}) ➞ True\")\n",
    "    else:\n",
    "        print(f\"is_in_order({s}) ➞ False\")   \n",
    "for i in range(4):\n",
    "    s=input(\"enter the string : \")\n",
    "    order(s)  "
   ]
  },
  {
   "cell_type": "code",
   "execution_count": null,
   "id": "bf85c15c",
   "metadata": {},
   "outputs": [],
   "source": []
  }
 ],
 "metadata": {
  "kernelspec": {
   "display_name": "Python 3 (ipykernel)",
   "language": "python",
   "name": "python3"
  },
  "language_info": {
   "codemirror_mode": {
    "name": "ipython",
    "version": 3
   },
   "file_extension": ".py",
   "mimetype": "text/x-python",
   "name": "python",
   "nbconvert_exporter": "python",
   "pygments_lexer": "ipython3",
   "version": "3.9.7"
  }
 },
 "nbformat": 4,
 "nbformat_minor": 5
}
