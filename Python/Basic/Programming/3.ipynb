{
 "cells": [
  {
   "cell_type": "code",
   "execution_count": 11,
   "id": "762c45d8",
   "metadata": {},
   "outputs": [
    {
     "name": "stdout",
     "output_type": "stream",
     "text": [
      "enter the number : -2\n",
      "-2  is a negative integer\n"
     ]
    }
   ],
   "source": [
    "#1.\tWrite a Python Program to Check if a Number is Positive, Negative or Zero?\n",
    "n=int(input(\"enter the number : \"))\n",
    "if n==0:\n",
    "    print(n ,\"is zero\")\n",
    "elif n<0:\n",
    "    print(n,\" is a negative integer\")\n",
    "else:\n",
    "    print(n,\" is a positive interger\")"
   ]
  },
  {
   "cell_type": "code",
   "execution_count": 8,
   "id": "bb95807a",
   "metadata": {},
   "outputs": [
    {
     "name": "stdout",
     "output_type": "stream",
     "text": [
      "enter the number : 5\n",
      "5  is odd number\n"
     ]
    }
   ],
   "source": [
    "#2.\tWrite a Python Program to Check if a Number is Odd or Even?\n",
    "n=int(input(\"enter the number : \"))\n",
    "if n%2==0:\n",
    "    print(n,\" is even number\")\n",
    "else:\n",
    "    print(n,\" is odd number\")"
   ]
  },
  {
   "cell_type": "code",
   "execution_count": 14,
   "id": "d403c7c0",
   "metadata": {},
   "outputs": [
    {
     "name": "stdout",
     "output_type": "stream",
     "text": [
      "enter the year : 2012\n",
      "Its a leap year\n"
     ]
    }
   ],
   "source": [
    "#3.\tWrite a Python Program to Check Leap Year?\n",
    "y=int(input(\"enter the year : \"))\n",
    "if y%4==0:\n",
    "    print(\"Its a leap year\")\n",
    "else:\n",
    "    print(\"Its not a leap year\")"
   ]
  },
  {
   "cell_type": "code",
   "execution_count": 51,
   "id": "3c80d2bc",
   "metadata": {},
   "outputs": [
    {
     "name": "stdout",
     "output_type": "stream",
     "text": [
      "enter the number2\n",
      "2  is a prime number\n"
     ]
    }
   ],
   "source": [
    "#4.\tWrite a Python Program to Check Prime Number?\n",
    "\n",
    "n=int(input(\"enter the number\"))\n",
    "c=0\n",
    "if n==1:\n",
    "    print(n,\" is neither prime or composite number\")\n",
    "elif(n>1):\n",
    "    for i in range(2,n):\n",
    "        if(n%i==0):\n",
    "            c=c+1\n",
    "            break\n",
    "        \n",
    "    if(c==0):\n",
    "        print(n,\" is a prime number\")\n",
    "    else:\n",
    "        print(n,\" is not a prime number\")        "
   ]
  },
  {
   "cell_type": "code",
   "execution_count": 94,
   "id": "0f960049",
   "metadata": {},
   "outputs": [
    {
     "name": "stdout",
     "output_type": "stream",
     "text": [
      "Enter lower range number: 6\n",
      "Enter upper range number: 20\n",
      "7\n",
      "11\n",
      "13\n",
      "17\n",
      "19\n"
     ]
    }
   ],
   "source": [
    "#5.\tWrite a Python Program to Print all Prime Numbers in an Interval of 1-10000?\n",
    "lower = int(input(\"Enter lower range number: \"))\n",
    "upper = int(input(\"Enter upper range number: \"))\n",
    "if(upper==1)or(upper==0):\n",
    "        print(\"neither prime nor composite number\")\n",
    "for num in range(lower,upper + 1):\n",
    "    if num > 1:\n",
    "        for i in range(2,num):\n",
    "            if (num % i) == 0:\n",
    "                break\n",
    "        else:\n",
    "                print(num)  \n",
    "\n",
    "    "
   ]
  },
  {
   "cell_type": "code",
   "execution_count": 112,
   "id": "f3e13e25",
   "metadata": {},
   "outputs": [
    {
     "name": "stdout",
     "output_type": "stream",
     "text": [
      "enter the limit : 9\n",
      "Prime numbers till 9 are \n",
      "2\n",
      "3\n",
      "5\n",
      "7\n"
     ]
    }
   ],
   "source": [
    "#Program to Print all Prime Numbers till the specified limit\n",
    "n=int(input(\"enter the limit : \"))  \n",
    "if(n==1)or(n==0):\n",
    "        print(\"neither prime nor composite number\")\n",
    "if n>1:        \n",
    "    print(\"Prime numbers till\",n,\"are \") \n",
    "for i in range (2,n+1):\n",
    "    \n",
    "    if n>1:\n",
    "        for j in range(2,i):\n",
    "                if(i%j==0):\n",
    "                    break\n",
    "        else:\n",
    "                print(i)                           "
   ]
  },
  {
   "cell_type": "code",
   "execution_count": null,
   "id": "2c1cb770",
   "metadata": {},
   "outputs": [],
   "source": []
  }
 ],
 "metadata": {
  "kernelspec": {
   "display_name": "Python 3 (ipykernel)",
   "language": "python",
   "name": "python3"
  },
  "language_info": {
   "codemirror_mode": {
    "name": "ipython",
    "version": 3
   },
   "file_extension": ".py",
   "mimetype": "text/x-python",
   "name": "python",
   "nbconvert_exporter": "python",
   "pygments_lexer": "ipython3",
   "version": "3.9.7"
  }
 },
 "nbformat": 4,
 "nbformat_minor": 5
}
