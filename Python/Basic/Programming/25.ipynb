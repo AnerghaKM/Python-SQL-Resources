{
 "cells": [
  {
   "cell_type": "markdown",
   "id": "1d4f6053",
   "metadata": {},
   "source": [
    "Question1\n",
    "Create a function that takes three integer arguments (a, b, c) and returns the amount of\n",
    "integers which are of equal value.\n",
    "Examples\n",
    "\n",
    "equal(3, 4, 3) ➞ 2\n",
    "\n",
    "equal(1, 1, 1) ➞ 3\n",
    "\n",
    "equal(3, 4, 1) ➞ 0\n",
    "\n",
    "Notes\n",
    "Your function must return 0, 2 or 3."
   ]
  },
  {
   "cell_type": "code",
   "execution_count": 2,
   "id": "1b445f17",
   "metadata": {},
   "outputs": [
    {
     "name": "stdout",
     "output_type": "stream",
     "text": [
      "enter the elements : 3\n",
      "enter the elements : 4\n",
      "enter the elements : 3\n",
      "equal([3, 4, 3]) ➞ 2\n",
      "enter the elements : 1\n",
      "enter the elements : 1\n",
      "enter the elements : 1\n",
      "equal([1, 1, 1]) ➞ 3\n",
      "enter the elements : 3\n",
      "enter the elements : 4\n",
      "enter the elements : 1\n",
      "equal([3, 4, 1]) ➞ 0\n"
     ]
    }
   ],
   "source": [
    "def check(l):\n",
    "    m={}\n",
    "    for i in l:\n",
    "        if i not in m:\n",
    "            m[i]=1\n",
    "        else:\n",
    "            m[i]+=1\n",
    "    #print(m)\n",
    "    for i in m:\n",
    "        if (m[i]>= 2):\n",
    "            print(f\"equal({l}) ➞ {m[i]}\")\n",
    "            break\n",
    "        elif(m[i]== 1):\n",
    "            print(f\"equal({l}) ➞ {0}\")\n",
    "            break\n",
    "for i in range(3):\n",
    "    l=[]\n",
    "    for i in range(3):\n",
    "        ele=int(input(\"enter the elements : \"))\n",
    "        l.append(ele)\n",
    "    check(l)"
   ]
  },
  {
   "cell_type": "markdown",
   "id": "1d26e9a3",
   "metadata": {},
   "source": [
    "Question2\n",
    "Write a function that converts a dictionary into a list of keys-values tuples.\n",
    "Examples\n",
    "\n",
    "dict_to_list({\n",
    "\n",
    "&quot;D&quot;: 1,\n",
    "\n",
    "&quot;B&quot;: 2,\n",
    "\n",
    "&quot;C&quot;: 3\n",
    "\n",
    "}) ➞ [(&quot;B&quot;, 2), (&quot;C&quot;, 3), (&quot;D&quot;, 1)]\n",
    "\n",
    "dict_to_list({\n",
    "\n",
    "&quot;likes&quot;: 2,\n",
    "\n",
    "&quot;dislikes&quot;: 3,\n",
    "\n",
    "&quot;followers&quot;: 10\n",
    "\n",
    "}) ➞ [(&quot;dislikes&quot;, 3), (&quot;followers&quot;, 10), (&quot;likes&quot;, 2)]\n",
    "\n",
    "Notes\n",
    "Return the elements in the list in alphabetical order."
   ]
  },
  {
   "cell_type": "code",
   "execution_count": 11,
   "id": "80904946",
   "metadata": {},
   "outputs": [
    {
     "name": "stdout",
     "output_type": "stream",
     "text": [
      "enter the count of kv pairs : 3\n",
      "enter the key 1 : D\n",
      "enter the value 2: 1\n",
      "enter the key 2 : B\n",
      "enter the value 3: 2\n",
      "enter the key 3 : C\n",
      "enter the value 4: 3\n",
      "dict_to_list({'D': '1', 'B': '2', 'C': '3'}) ➞ [('B', '2'), ('C', '3'), ('D', '1')]\n",
      "enter the count of kv pairs : 3\n",
      "enter the key 1 : likes\n",
      "enter the value 2: 2\n",
      "enter the key 2 : dislikes\n",
      "enter the value 3: 3\n",
      "enter the key 3 : followers\n",
      "enter the value 4: 10\n",
      "dict_to_list({'likes': '2', 'dislikes': '3', 'followers': '10'}) ➞ [('dislikes', '3'), ('followers', '10'), ('likes', '2')]\n"
     ]
    }
   ],
   "source": [
    "def tup(d):\n",
    "    t=[(k,v) for k,v in d.items()]\n",
    "    #print(t)\n",
    "    s=sorted(t)\n",
    "    print(f\"dict_to_list({d}) ➞ {s}\")\n",
    "for i in range(2):    \n",
    "    p=int(input(\"enter the count of kv pairs : \"))\n",
    "    d={}\n",
    "    for i in range(p):\n",
    "        k=input(f\"enter the key {i+1} : \")\n",
    "        v=input(f\"enter the value {i+2}: \")\n",
    "        d[k]=v\n",
    "    tup(d)"
   ]
  },
  {
   "cell_type": "markdown",
   "id": "cf937348",
   "metadata": {},
   "source": [
    "Question3\n",
    "Write a function that creates a dictionary with each (key, value) pair being the (lower case,\n",
    "upper case) versions of a letter, respectively.\n",
    "Examples\n",
    "\n",
    "mapping([&quot;p&quot;, &quot;s&quot;]) ➞ { &quot;p&quot;: &quot;P&quot;, &quot;s&quot;: &quot;S&quot; }\n",
    "\n",
    "mapping([&quot;a&quot;, &quot;b&quot;, &quot;c&quot;]) ➞ { &quot;a&quot;: &quot;A&quot;, &quot;b&quot;: &quot;B&quot;,&quot;c&quot;: &quot;C&quot; }\n",
    "\n",
    "mapping([&quot;a&quot;, &quot;v&quot;, &quot;y&quot;, &quot;z&quot;]) ➞ { &quot;a&quot;: &quot;A&quot;, &quot;v&quot;: &quot;V&quot;, &quot;y&quot;: &quot;Y&quot;, &quot;z&quot;: &quot;Z&quot; }\n",
    "\n",
    "Notes\n",
    "\n",
    "All of the letters in the input list will always be lowercase."
   ]
  },
  {
   "cell_type": "code",
   "execution_count": 21,
   "id": "892c5e43",
   "metadata": {},
   "outputs": [
    {
     "name": "stdout",
     "output_type": "stream",
     "text": [
      "enter the count of elements : 2\n",
      "enter the elements : p\n",
      "enter the elements : s\n",
      "mapping(['p', 's']) ➞ {'p': 'P', 's': 'S'}\n",
      "enter the count of elements : 3\n",
      "enter the elements : a\n",
      "enter the elements : b\n",
      "enter the elements : c\n",
      "mapping(['a', 'b', 'c']) ➞ {'a': 'A', 'b': 'B', 'c': 'C'}\n",
      "enter the count of elements : 4\n",
      "enter the elements : a\n",
      "enter the elements : v\n",
      "enter the elements : y\n",
      "enter the elements : z\n",
      "mapping(['a', 'v', 'y', 'z']) ➞ {'a': 'A', 'v': 'V', 'y': 'Y', 'z': 'Z'}\n"
     ]
    }
   ],
   "source": [
    "def dic(l):\n",
    "    d={}\n",
    "    for i in l:\n",
    "        d[i]=i.upper()\n",
    "    print(f\"mapping({l}) ➞ {d}\")\n",
    "for i in range(3):\n",
    "    c=int(input(\"enter the count of elements : \"))\n",
    "    l=[]\n",
    "    for i in range(c):\n",
    "        ele=input(\"enter the elements : \")\n",
    "        l.append(ele)\n",
    "    dic(l)"
   ]
  },
  {
   "cell_type": "markdown",
   "id": "d75b625a",
   "metadata": {},
   "source": [
    "Question4\n",
    "Write a function, that replaces all vowels in a string with a specified vowel.\n",
    "\n",
    "Examples\n",
    "\n",
    "vow_replace(&quot;apples and bananas&quot;, &quot;u&quot;) ➞ &quot;upplus und bununus&quot;\n",
    "\n",
    "vow_replace(&quot;cheese casserole&quot;, &quot;o&quot;) ➞ &quot;chooso cossorolo&quot;\n",
    "\n",
    "vow_replace(&quot;stuffed jalapeno poppers&quot;, &quot;e&quot;) ➞ &quot;steffed jelepene peppers&quot;\n",
    "\n",
    "Notes\n",
    "All words will be lowercase. Y is not considered a vowel."
   ]
  },
  {
   "cell_type": "code",
   "execution_count": 60,
   "id": "566cb71f",
   "metadata": {},
   "outputs": [
    {
     "name": "stdout",
     "output_type": "stream",
     "text": [
      "enter the string : apples and bananas\n",
      "enter the character to replace : u\n",
      "vow_replace(apples and bananas, u) ➞ upplus und bununus\n",
      "enter the string : cheese casserole\n",
      "enter the character to replace : o\n",
      "vow_replace(cheese casserole, o) ➞ chooso cossorolo\n",
      "enter the string : stuffed jalapeno poppers\n",
      "enter the character to replace : e\n",
      "vow_replace(stuffed jalapeno poppers, e) ➞ steffed jelepene peppers\n"
     ]
    }
   ],
   "source": [
    "def vow(s):\n",
    "    \n",
    "    p=\"\"\n",
    "    for i in s:\n",
    "        for j in i:\n",
    "            if j in \"aeiouAEIOU\":\n",
    "                p+=c\n",
    "            else:\n",
    "                p+=j             \n",
    "    print(f\"vow_replace({s}, {c}) ➞ {p}\")\n",
    "for i in range(3):\n",
    "    s=input(\"enter the string : \")\n",
    "    c=input(\"enter the character to replace : \")\n",
    "    vow(s)"
   ]
  },
  {
   "cell_type": "markdown",
   "id": "738894c4",
   "metadata": {},
   "source": [
    "Question5\n",
    "Create a function that takes a string as input and capitalizes a letter if its ASCII code is even\n",
    "and returns its lower case version if its ASCII code is odd.\n",
    "Examples\n",
    "\n",
    "ascii_capitalize(&quot;to be or not to be!&quot;) ➞ &quot;To Be oR NoT To Be!&quot;\n",
    "\n",
    "ascii_capitalize(&quot;THE LITTLE MERMAID&quot;) ➞ &quot;THe LiTTLe meRmaiD&quot;\n",
    "\n",
    "ascii_capitalize(&quot;Oh what a beautiful morning.&quot;) ➞ &quot;oH wHaT a BeauTiFuL moRNiNg.&quot;"
   ]
  },
  {
   "cell_type": "code",
   "execution_count": 66,
   "id": "63205f5b",
   "metadata": {},
   "outputs": [
    {
     "name": "stdout",
     "output_type": "stream",
     "text": [
      "enter the string : to be or not to be!\n",
      "ascii_capitalize(to be or not to be!) ➞ To Be oR NoT To Be!\n",
      "enter the string : THE LITTLE MERMAID\n",
      "ascii_capitalize(THE LITTLE MERMAID) ➞ THe LiTTLe meRmaiD\n",
      "enter the string : Oh what a beautiful morning.\n",
      "ascii_capitalize(Oh what a beautiful morning.) ➞ oH wHaT a BeauTiFuL moRNiNg.\n"
     ]
    }
   ],
   "source": [
    "def asci(s):\n",
    "    p=\"\"\n",
    "    for i in s:\n",
    "        if (ord(i)%2==0):\n",
    "            p+=i.upper()\n",
    "        else:\n",
    "            p+=i.lower()\n",
    "    print(f\"ascii_capitalize({s}) ➞ {p}\")\n",
    "for i in range(3):\n",
    "    s=input(\"enter the string : \")\n",
    "    asci(s)"
   ]
  },
  {
   "cell_type": "code",
   "execution_count": null,
   "id": "66a98626",
   "metadata": {},
   "outputs": [],
   "source": []
  }
 ],
 "metadata": {
  "kernelspec": {
   "display_name": "Python 3 (ipykernel)",
   "language": "python",
   "name": "python3"
  },
  "language_info": {
   "codemirror_mode": {
    "name": "ipython",
    "version": 3
   },
   "file_extension": ".py",
   "mimetype": "text/x-python",
   "name": "python",
   "nbconvert_exporter": "python",
   "pygments_lexer": "ipython3",
   "version": "3.9.7"
  }
 },
 "nbformat": 4,
 "nbformat_minor": 5
}
