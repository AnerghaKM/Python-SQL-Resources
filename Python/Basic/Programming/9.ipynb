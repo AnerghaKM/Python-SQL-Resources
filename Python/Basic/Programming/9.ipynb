{
 "cells": [
  {
   "cell_type": "code",
   "execution_count": 95,
   "id": "925300c7",
   "metadata": {},
   "outputs": [
    {
     "name": "stdout",
     "output_type": "stream",
     "text": [
      "enter the number : 598\n",
      "sum of numbers is  598\n",
      "Its a disarium number\n"
     ]
    }
   ],
   "source": [
    "#1. Write a Python program to check if the given number is a Disarium Number?\n",
    "\n",
    "n=input(\"enter the number : \")\n",
    "#print(len(n))\n",
    "l=[]\n",
    "testnum=int(n)\n",
    "num=int(n)\n",
    "while(num>=1):\n",
    "    s=num%10\n",
    "    l.append(s)\n",
    "    num=num//10\n",
    "#print(l)\n",
    "k=[]\n",
    "k[:]=l[::-1]\n",
    "#print(k)\n",
    "sum=0\n",
    "for a in k:\n",
    "    #print(a)\n",
    "    index1=k.index(a)+1\n",
    "    #print(a,index1)\n",
    "    s=sum+a**index1\n",
    "    sum=s\n",
    "print(\"sum of numbers is \",sum)\n",
    "#print(testnum)\n",
    "if(sum==testnum):\n",
    "    print(\"Its a disarium number\")\n",
    "else:\n",
    "    print(\"Its not a disarium number\")"
   ]
  },
  {
   "cell_type": "code",
   "execution_count": 96,
   "id": "0861c35f",
   "metadata": {},
   "outputs": [
    {
     "name": "stdout",
     "output_type": "stream",
     "text": [
      "Disarium numbers between 1 and 100 are\n",
      "1\n",
      "2\n",
      "3\n",
      "4\n",
      "5\n",
      "6\n",
      "7\n",
      "8\n",
      "9\n",
      "89\n"
     ]
    }
   ],
   "source": [
    "#2. Write a Python program to print all disarium numbers between 1 to 100?\n",
    "\n",
    "#calculateLength() will count the digits present in a number    \n",
    "def calculateLength(n):    \n",
    "    length = 0;    \n",
    "    while(n != 0):    \n",
    "        length = length + 1;    \n",
    "        n = n//10;    \n",
    "    return length;    \n",
    "         \n",
    "#sumOfDigits() will calculates the sum of digits powered with their respective position    \n",
    "def sumOfDigits(num):    \n",
    "    rem = sum = 0;    \n",
    "    len = calculateLength(num);    \n",
    "            \n",
    "    while(num > 0):    \n",
    "        rem = num%10;    \n",
    "        sum = sum + (rem**len);    \n",
    "        num = num//10;    \n",
    "        len = len - 1;    \n",
    "    return sum;    \n",
    "          \n",
    "result = 0;    \n",
    "         \n",
    "#Displays all disarium numbers between 1 and 100    \n",
    "print(\"Disarium numbers between 1 and 100 are\");    \n",
    "for i in range(1, 101):    \n",
    "    result = sumOfDigits(i);    \n",
    "            \n",
    "    if(result == i):    \n",
    "        print(i),    "
   ]
  },
  {
   "cell_type": "code",
   "execution_count": 91,
   "id": "ca6c8376",
   "metadata": {},
   "outputs": [
    {
     "name": "stdout",
     "output_type": "stream",
     "text": [
      "enter the number : 13\n",
      "sum is 1\n",
      "13  is a happy number\n"
     ]
    }
   ],
   "source": [
    "# 3. Write a Python program to check if the given number is Happy Number?\n",
    "\n",
    "\n",
    "def happy(num):\n",
    "    sum=0\n",
    "    while num>=1:\n",
    "        s=num%10\n",
    "        sum=sum+(s**2)\n",
    "        num=num//10\n",
    "    #print(\"sum is\",sum)\n",
    "    a=sum\n",
    "    #print(\"a is\",a)\n",
    "    st=str(sum)\n",
    "    l=(len(st))\n",
    "    if (l>1):\n",
    "        happy(sum)\n",
    "    else:\n",
    "        print(\"sum is\",a)\n",
    "        if(a==1):\n",
    "            print(t,\" is a happy number\")\n",
    "        else:\n",
    "            print(t,\" is not a happy number\")\n",
    "    \n",
    "        \n",
    "num=int(input(\"enter the number : \"))\n",
    "t=num\n",
    "happy(num)\n",
    "\n",
    "\n"
   ]
  },
  {
   "cell_type": "code",
   "execution_count": 94,
   "id": "e7c9b189",
   "metadata": {},
   "outputs": [
    {
     "name": "stdout",
     "output_type": "stream",
     "text": [
      "1\n",
      "7\n",
      "10\n",
      "13\n",
      "19\n",
      "23\n",
      "28\n",
      "31\n",
      "32\n",
      "44\n",
      "49\n",
      "68\n",
      "70\n",
      "79\n",
      "82\n",
      "86\n",
      "91\n",
      "94\n",
      "97\n",
      "100\n"
     ]
    }
   ],
   "source": [
    "#4. Write a Python program to print all happy numbers between 1 and 100?\n",
    "\n",
    "def happy(num):\n",
    "    sum=0\n",
    "    while num>=1:\n",
    "        s=num%10\n",
    "        sum=sum+(s**2)\n",
    "        num=num//10\n",
    "    #print(\"sum is\",sum)\n",
    "    a=sum\n",
    "    #print(\"a is\",a)\n",
    "    st=str(sum)\n",
    "    l=(len(st))\n",
    "    if (l>1):\n",
    "        happy(sum)\n",
    "    else:\n",
    "        #print(\"sum is\",a)\n",
    "        if(a==1):\n",
    "            print(t)\n",
    "    \n",
    "        \n",
    "for i in range(1,101):\n",
    "    num=i\n",
    "    t=num\n",
    "    happy(num)"
   ]
  },
  {
   "cell_type": "code",
   "execution_count": 13,
   "id": "b2960db8",
   "metadata": {},
   "outputs": [
    {
     "name": "stdout",
     "output_type": "stream",
     "text": [
      "enter the number : 54\n",
      "Its a harshad number\n"
     ]
    }
   ],
   "source": [
    "#5. Write a Python program to determine whether the given number is a Harshad Number?\n",
    "\n",
    "def summ(num):\n",
    "    sum=0\n",
    "    while(num>=1):\n",
    "        s=num%10\n",
    "        sum=sum+s\n",
    "        num=num//10\n",
    "    a=sum\n",
    "    #print(\"a is\",a)\n",
    "    #print(\"sum is\",sum)\n",
    "    \n",
    "    if(n%a==0):\n",
    "        print(\"Its a harshad number\")\n",
    "    else:\n",
    "        print(\"Its not a harshad number\")\n",
    "n=int(input(\"enter the number : \"))\n",
    "summ(n)   \n"
   ]
  },
  {
   "cell_type": "code",
   "execution_count": 8,
   "id": "49e54686",
   "metadata": {},
   "outputs": [
    {
     "name": "stdout",
     "output_type": "stream",
     "text": [
      "Pronic numbers between 1 and 100 are \n",
      "2\n",
      "6\n",
      "12\n",
      "20\n",
      "30\n",
      "42\n",
      "56\n",
      "72\n",
      "90\n",
      "110\n"
     ]
    }
   ],
   "source": [
    "# 6. Write a Python program to print all pronic numbers between 1 and 100?\n",
    "print(\"Pronic numbers between 1 and 100 are \")\n",
    "j=2\n",
    "for i in range(1,101):\n",
    "    \n",
    "        #print(\"i is \",i)\n",
    "        #print(\"j is \",j)\n",
    "        c=i*j\n",
    "        print(c)\n",
    "        j+=1\n",
    "        if(c>101):\n",
    "            break\n",
    "            \n",
    "    "
   ]
  },
  {
   "cell_type": "code",
   "execution_count": null,
   "id": "0a170a55",
   "metadata": {},
   "outputs": [],
   "source": []
  }
 ],
 "metadata": {
  "kernelspec": {
   "display_name": "Python 3 (ipykernel)",
   "language": "python",
   "name": "python3"
  },
  "language_info": {
   "codemirror_mode": {
    "name": "ipython",
    "version": 3
   },
   "file_extension": ".py",
   "mimetype": "text/x-python",
   "name": "python",
   "nbconvert_exporter": "python",
   "pygments_lexer": "ipython3",
   "version": "3.9.7"
  }
 },
 "nbformat": 4,
 "nbformat_minor": 5
}
