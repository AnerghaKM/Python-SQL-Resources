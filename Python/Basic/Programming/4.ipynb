{
 "cells": [
  {
   "cell_type": "code",
   "execution_count": 9,
   "id": "33584400",
   "metadata": {},
   "outputs": [
    {
     "name": "stdout",
     "output_type": "stream",
     "text": [
      "enter the number5\n",
      "120\n"
     ]
    }
   ],
   "source": [
    "#1.\tWrite a Python Program to Find the Factorial of a Number?\n",
    "n=int(input(\"enter the number\"))\n",
    "if n < 0:\n",
    "    print(\"factorial does not exist for negative numbers\")\n",
    "elif n == 0:\n",
    "    print(\"The factorial of 0 is 1\")\n",
    "else:\n",
    "    f=1\n",
    "    for i in range(1,n+1):\n",
    "        f=f*i\n",
    "    print(f)"
   ]
  },
  {
   "cell_type": "code",
   "execution_count": 14,
   "id": "bd2cc250",
   "metadata": {},
   "outputs": [
    {
     "name": "stdout",
     "output_type": "stream",
     "text": [
      "enter the number9\n",
      "9  *  1    =  9\n",
      "9  *  2    =  18\n",
      "9  *  3    =  27\n",
      "9  *  4    =  36\n",
      "9  *  5    =  45\n",
      "9  *  6    =  54\n",
      "9  *  7    =  63\n",
      "9  *  8    =  72\n",
      "9  *  9    =  81\n",
      "9  *  10    =  90\n"
     ]
    }
   ],
   "source": [
    "#2.\tWrite a Python Program to Display the multiplication Table?\n",
    "n=int(input(\"enter the number\"))\n",
    "for i in range(1,11): \n",
    "    print(n,\" * \", i ,\"   = \",n*i)\n",
    "    \n"
   ]
  },
  {
   "cell_type": "code",
   "execution_count": 66,
   "id": "61554066",
   "metadata": {},
   "outputs": [
    {
     "name": "stdout",
     "output_type": "stream",
     "text": [
      "enter the number5\n",
      "The fibonacci sequence of the numbers is:\n",
      "0\n",
      "1\n",
      "1\n",
      "2\n",
      "3\n"
     ]
    }
   ],
   "source": [
    "#3.\tWrite a Python Program to Print the Fibonacci sequence?\n",
    "\n",
    "n=int(input(\"enter the number\"))\n",
    "f1=0\n",
    "f2=1\n",
    "if n<=0:\n",
    "    print(\"Please enter a positive integer greater than 0\")\n",
    "elif n==1:\n",
    "    print(\"The Fibonacci sequence of the numbers up to\",n,\": \")\n",
    "    print(f1)\n",
    "else:\n",
    "    print(\"The fibonacci sequence of the numbers is:\")\n",
    "    for i in range(1,n+1):\n",
    "        print(f1)\n",
    "        f=f1+f2\n",
    "        f1=f2\n",
    "        f2=f       "
   ]
  },
  {
   "cell_type": "code",
   "execution_count": 3,
   "id": "490c73c7",
   "metadata": {},
   "outputs": [
    {
     "name": "stdout",
     "output_type": "stream",
     "text": [
      "enter the number407\n",
      "Given number is an Armstrong Number\n"
     ]
    }
   ],
   "source": [
    "#4.\tWrite a Python Program to Check Armstrong Number?\n",
    "number = int(input(\"enter the number\"))\n",
    "digits = len(str(number))\n",
    "temp = number\n",
    "add_sum = 0\n",
    "while temp != 0:\n",
    "    k = temp % 10\n",
    "    add_sum += k**digits\n",
    "    temp = temp//10\n",
    "if add_sum == number:\n",
    "    print('Given number is an Armstrong Number')\n",
    "else:\n",
    "    print('Given number is not a Armstrong Number')"
   ]
  },
  {
   "cell_type": "code",
   "execution_count": 9,
   "id": "c488fa25",
   "metadata": {},
   "outputs": [
    {
     "name": "stdout",
     "output_type": "stream",
     "text": [
      "enter the lower limit1\n",
      "enter the upper limit93085\n",
      "1\n",
      "2\n",
      "3\n",
      "4\n",
      "5\n",
      "6\n",
      "7\n",
      "8\n",
      "9\n",
      "153\n",
      "370\n",
      "371\n",
      "407\n",
      "1634\n",
      "8208\n",
      "9474\n",
      "54748\n",
      "92727\n",
      "93084\n"
     ]
    }
   ],
   "source": [
    "# 5.\tWrite a Python Program to Find Armstrong Number in an Interval?\n",
    "lower = int(input(\"enter the lower limit\"))\n",
    "upper = int(input(\"enter the upper limit\"))\n",
    "for i in range(lower,upper+1):\n",
    "    digits = len(str(i))\n",
    "    temp = i\n",
    "    add_sum = 0\n",
    "    while temp != 0:\n",
    "        k = temp % 10\n",
    "        add_sum += k**digits\n",
    "        temp = temp//10\n",
    "    if add_sum == i:\n",
    "        print(i)   "
   ]
  },
  {
   "cell_type": "code",
   "execution_count": 4,
   "id": "cd763784",
   "metadata": {},
   "outputs": [
    {
     "name": "stdout",
     "output_type": "stream",
     "text": [
      "enter the limit5\n",
      "sum of numbers is  15\n"
     ]
    }
   ],
   "source": [
    "#6.\tWrite a Python Program to Find the Sum of Natural Numbers?\n",
    "limit = int(input(\"enter the limit\"))\n",
    "summ=0\n",
    "for i in range(0,limit+1):    \n",
    "    summ += i\n",
    "print(\"sum of numbers is \",summ)"
   ]
  },
  {
   "cell_type": "code",
   "execution_count": 2,
   "id": "a2b2d25e",
   "metadata": {},
   "outputs": [
    {
     "name": "stdout",
     "output_type": "stream",
     "text": [
      "enter the count of numbers to find sum5\n",
      "12\n",
      "34\n",
      "56\n",
      "78\n",
      "90\n",
      "list of numbers entered  [12, 34, 56, 78, 90]\n",
      "sum of numbers collected is  270\n"
     ]
    }
   ],
   "source": [
    "#\tWrite a Python Program to Find the Sum of Natural Numbers collected from user?\n",
    "limit = int(input(\"enter the count of numbers to find sum\"))\n",
    "a=[]\n",
    "for i in range(0,limit):\n",
    "    num=int(input())\n",
    "    a.append(num)\n",
    "print(\"list of numbers entered \",a)\n",
    "summ=0\n",
    "for i in a:\n",
    "    summ += i\n",
    "print(\"sum of numbers collected is \",summ)"
   ]
  },
  {
   "cell_type": "code",
   "execution_count": 19,
   "id": "6f570c2e",
   "metadata": {},
   "outputs": [
    {
     "name": "stdout",
     "output_type": "stream",
     "text": [
      "enter the number1234567\n",
      "sum of digits of the number  1234567 is =  28\n"
     ]
    }
   ],
   "source": [
    "#7.\tWrite a Python Program to Find the Sum of digits?\n",
    "number = int(input(\"enter the number\"))\n",
    "temp = number\n",
    "add_sum = 0\n",
    "while temp != 0:\n",
    "    k = temp % 10\n",
    "    add_sum += k\n",
    "    temp = temp//10\n",
    "print(\"sum of digits of the number \",number,\"is = \",add_sum)\n"
   ]
  },
  {
   "cell_type": "code",
   "execution_count": null,
   "id": "04d5928e",
   "metadata": {},
   "outputs": [],
   "source": []
  }
 ],
 "metadata": {
  "kernelspec": {
   "display_name": "Python 3 (ipykernel)",
   "language": "python",
   "name": "python3"
  },
  "language_info": {
   "codemirror_mode": {
    "name": "ipython",
    "version": 3
   },
   "file_extension": ".py",
   "mimetype": "text/x-python",
   "name": "python",
   "nbconvert_exporter": "python",
   "pygments_lexer": "ipython3",
   "version": "3.9.7"
  }
 },
 "nbformat": 4,
 "nbformat_minor": 5
}
