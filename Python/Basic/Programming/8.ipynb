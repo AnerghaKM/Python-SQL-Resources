{
 "cells": [
  {
   "cell_type": "code",
   "execution_count": 7,
   "id": "16052cde",
   "metadata": {},
   "outputs": [
    {
     "data": {
      "text/plain": [
       "array([[ 7,  9],\n",
       "       [11, 13]])"
      ]
     },
     "execution_count": 7,
     "metadata": {},
     "output_type": "execute_result"
    }
   ],
   "source": [
    "#1. Write a Python Program to Add Two Matrices?\n",
    "\n",
    "import numpy as np\n",
    "a=np.array([[1,2],[3,4]])\n",
    "a\n",
    "b=np.array([[6,7],[8,9]])\n",
    "b\n",
    "s=a+b\n",
    "s"
   ]
  },
  {
   "cell_type": "code",
   "execution_count": 8,
   "id": "9e4145d1",
   "metadata": {},
   "outputs": [
    {
     "data": {
      "text/plain": [
       "array([[ 6, 14],\n",
       "       [24, 36]])"
      ]
     },
     "execution_count": 8,
     "metadata": {},
     "output_type": "execute_result"
    }
   ],
   "source": [
    "#2. Write a Python Program to Multiply Two Matrices?\n",
    "import numpy as np\n",
    "a=np.array([[1,2],[3,4]])\n",
    "a\n",
    "b=np.array([[6,7],[8,9]])\n",
    "b\n",
    "s=a*b\n",
    "s"
   ]
  },
  {
   "cell_type": "code",
   "execution_count": 13,
   "id": "21e538f3",
   "metadata": {},
   "outputs": [
    {
     "name": "stdout",
     "output_type": "stream",
     "text": [
      "matrix is  [[1 2]\n",
      " [3 4]]\n",
      "transpose matrix is  [[1 3]\n",
      " [2 4]]\n"
     ]
    }
   ],
   "source": [
    "#3. Write a Python Program to Transpose a Matrix?\n",
    "import numpy as np\n",
    "a=np.array([[1,2],[3,4]])\n",
    "print(\"matrix is \",a)\n",
    "for i in range(len(a)):\n",
    "    for j in range(len(a[0])):\n",
    "        s[j][i]=a[i][j]\n",
    "print(\"transpose matrix is \",s)"
   ]
  },
  {
   "cell_type": "code",
   "execution_count": 29,
   "id": "90a0d834",
   "metadata": {},
   "outputs": [
    {
     "name": "stdout",
     "output_type": "stream",
     "text": [
      "enter the string :  this is my python program\n",
      "is\n",
      "my\n",
      "program\n",
      "python\n",
      "this\n"
     ]
    }
   ],
   "source": [
    "# 4. Write a Python Program to Sort Words in Alphabetic Order?\n",
    "w=input(\"enter the string :  \")\n",
    "l=[i.lower() for i in w.split()]\n",
    "l.sort()\n",
    "for i in l:\n",
    "    print(i)"
   ]
  },
  {
   "cell_type": "code",
   "execution_count": 35,
   "id": "69fe93e3",
   "metadata": {},
   "outputs": [
    {
     "name": "stdout",
     "output_type": "stream",
     "text": [
      "enter the stringthis is & $% a python ` program\n",
      " this is a python program\n"
     ]
    }
   ],
   "source": [
    "#5. Write a Python Program to Remove Punctuation From a String?\n",
    "\n",
    "\n",
    "punctuations = '''!()-[]{};:'\"\\,<>.`/?@#$%^&*_~'''\n",
    "non_punct=\"\"\n",
    "string=input(\"enter the string\")\n",
    "l=[i for i in string.split()]\n",
    "for i in l:\n",
    "    if i not in punctuations:\n",
    "        non_punct = non_punct + \" \" + i\n",
    "print(non_punct)        "
   ]
  },
  {
   "cell_type": "code",
   "execution_count": null,
   "id": "00d562ed",
   "metadata": {},
   "outputs": [],
   "source": []
  }
 ],
 "metadata": {
  "kernelspec": {
   "display_name": "Python 3 (ipykernel)",
   "language": "python",
   "name": "python3"
  },
  "language_info": {
   "codemirror_mode": {
    "name": "ipython",
    "version": 3
   },
   "file_extension": ".py",
   "mimetype": "text/x-python",
   "name": "python",
   "nbconvert_exporter": "python",
   "pygments_lexer": "ipython3",
   "version": "3.9.7"
  }
 },
 "nbformat": 4,
 "nbformat_minor": 5
}
