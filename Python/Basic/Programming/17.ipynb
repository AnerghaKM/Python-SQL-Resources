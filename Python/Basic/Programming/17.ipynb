{
 "cells": [
  {
   "cell_type": "markdown",
   "id": "7c343237",
   "metadata": {},
   "source": [
    "Question1. Create a function that takes three arguments a, b, c and returns the sum of the\n",
    "numbers that are evenly divided by c from the range a, b inclusive.\n",
    "Examples\n",
    "\n",
    "evenly_divisible(1, 10, 20) ➞ 0\n",
    "\n",
    " No number between 1 and 10 can be evenly divided by 20.\n",
    " \n",
    "evenly_divisible(1, 10, 2) ➞ 30\n",
    "\n",
    " 2 + 4 + 6 + 8 + 10 = 30\n",
    " \n",
    "evenly_divisible(1, 10, 3) ➞ 18\n",
    "\n",
    " 3 + 6 + 9 = 18"
   ]
  },
  {
   "cell_type": "code",
   "execution_count": 12,
   "id": "4fb5f077",
   "metadata": {},
   "outputs": [
    {
     "name": "stdout",
     "output_type": "stream",
     "text": [
      "enter num 1 : 1\n",
      "enter num 2 : 10\n",
      "enter num 3 : 20\n",
      "evenly_divisible(1,10,20) ➞ 0\n",
      "enter num 1 : 1\n",
      "enter num 2 : 10\n",
      "enter num 3 : 2\n",
      "evenly_divisible(1,10,2) ➞ 30\n",
      "enter num 1 : 1\n",
      "enter num 2 : 10\n",
      "enter num 3 : 3\n",
      "evenly_divisible(1,10,3) ➞ 18\n"
     ]
    }
   ],
   "source": [
    "def sumnum(a,b,c):\n",
    "    l=[]\n",
    "    for i in range(a,b+1):\n",
    "        if(i%c==0):\n",
    "            l.append(i)\n",
    "    sum=0\n",
    "    for j in l:\n",
    "        sum+=j\n",
    "    print(f\"evenly_divisible({a},{b},{c}) ➞ {sum}\")\n",
    "        \n",
    "for i in range(3):\n",
    "    a=int(input(\"enter num 1 : \"))\n",
    "    b=int(input(\"enter num 2 : \"))\n",
    "    c=int(input(\"enter num 3 : \"))\n",
    "    sumnum(a,b,c)\n",
    "    "
   ]
  },
  {
   "cell_type": "markdown",
   "id": "5be9c2f8",
   "metadata": {},
   "source": [
    "\n",
    "Question2. Create a function that returns True if a given inequality expression is correct and\n",
    "False otherwise.\n",
    "Examples\n",
    "\n",
    "correct_signs(&quot;3 &lt; 7 &lt; 11&quot;) ➞ True\n",
    "\n",
    "correct_signs(&quot;13 &gt; 44 &gt; 33 &gt; 1&quot;) ➞ False\n",
    "\n",
    "correct_signs(&quot;1 &lt; 2 &lt; 6 &lt; 9 &gt; 3&quot;) ➞ True\n"
   ]
  },
  {
   "cell_type": "code",
   "execution_count": 14,
   "id": "ae4f36cb",
   "metadata": {},
   "outputs": [
    {
     "name": "stdout",
     "output_type": "stream",
     "text": [
      "enter the values : 3 < 7 < 11\n",
      "3 < 7 < 11 ➞ True\n",
      "enter the values : 13 > 44 > 33 > 1\n",
      "13 > 44 > 33 > 1 ➞ False\n",
      "enter the values : 1 < 2 < 6 < 9 > 3\n",
      "1 < 2 < 6 < 9 > 3 ➞ True\n"
     ]
    }
   ],
   "source": [
    "def check(n):\n",
    "    test=eval(n)\n",
    "    print(f'{n} ➞ {test}')\n",
    "for i in range(3):   \n",
    "    n=input(\"enter the values : \")\n",
    "    check(n)"
   ]
  },
  {
   "cell_type": "markdown",
   "id": "d43ed104",
   "metadata": {},
   "source": [
    "Question3. Create a function that replaces all the vowels in a string with a specified character.\n",
    "Examples\n",
    "\n",
    "replace_vowels(&quot;the aardvark&quot;, &quot;#&quot;) ➞ &quot;th# ##rdv#rk&quot;\n",
    "               \n",
    "replace_vowels(&quot;minnie mouse&quot;, &quot;?&quot;) ➞ &quot;m?nn?? m??s?&quot;\n",
    "               \n",
    "replace_vowels(&quot;shakespeare&quot;, &quot;*&quot;) ➞ &quot;sh*k*sp**r*&quot; "
   ]
  },
  {
   "cell_type": "code",
   "execution_count": 4,
   "id": "1afc2285",
   "metadata": {},
   "outputs": [
    {
     "name": "stdout",
     "output_type": "stream",
     "text": [
      "enter the string : the aardvark\n",
      "enter the replacement character : #\n",
      "replace_vowels(the aardvark, #) ➞ th# ##rdv#rk\n",
      "enter the string : minnie mouse\n",
      "enter the replacement character : ?\n",
      "replace_vowels(minnie mouse, ?) ➞ m?nn?? m??s?\n",
      "enter the string : shakespeare\n",
      "enter the replacement character : *\n",
      "replace_vowels(shakespeare, *) ➞ sh*k*sp**r*\n"
     ]
    }
   ],
   "source": [
    "def vow(s,r):\n",
    "    for j in s:\n",
    "        if j in \"aeiouAEIOU\":\n",
    "            s=s.replace(j,r)\n",
    "    print(f\"replace_vowels({x}, {r}) ➞ {s}\")\n",
    "for i in range(3):\n",
    "    s=input(\"enter the string : \")\n",
    "    x=s\n",
    "    r=input(\"enter the replacement character : \")\n",
    "    vow(s,r)"
   ]
  },
  {
   "cell_type": "markdown",
   "id": "885c726a",
   "metadata": {},
   "source": [
    "Question4. Write a function that calculates the factorial of a number recursively.\n",
    "Examples\n",
    "\n",
    "factorial(5) ➞ 120\n",
    "\n",
    "factorial(3) ➞ 6\n",
    "\n",
    "factorial(1) ➞ 1\n",
    "\n",
    "factorial(0) ➞ 1"
   ]
  },
  {
   "cell_type": "code",
   "execution_count": 3,
   "id": "5eb58855",
   "metadata": {},
   "outputs": [
    {
     "name": "stdout",
     "output_type": "stream",
     "text": [
      "enter the number : 5\n",
      "factorial(5) ➞ 120\n",
      "enter the number : 3\n",
      "factorial(3) ➞ 6\n",
      "enter the number : 1\n",
      "factorial(1) ➞ 1\n",
      "enter the number : 0\n",
      "factorial(0) ➞ 1\n"
     ]
    }
   ],
   "source": [
    "def fact(n):\n",
    "    if n==0:\n",
    "        return 1\n",
    "    return n*fact(n-1)\n",
    "for i in range(4):\n",
    "    num=int(input(\"enter the number : \"))\n",
    "    #fact(num)\n",
    "    print(f\"factorial({num}) ➞ {fact(num)}\")"
   ]
  },
  {
   "cell_type": "code",
   "execution_count": 12,
   "id": "6a0362fe",
   "metadata": {},
   "outputs": [
    {
     "name": "stdout",
     "output_type": "stream",
     "text": [
      "enter the number : 5\n",
      "120\n"
     ]
    }
   ],
   "source": [
    " def fact(n):\n",
    "    f=1\n",
    "    for i in range(1,n+1):\n",
    "        f=f*i\n",
    "    print(f)\n",
    "num=int(input(\"enter the number : \"))\n",
    "fact(num)"
   ]
  },
  {
   "cell_type": "markdown",
   "id": "73ad4db0",
   "metadata": {},
   "source": [
    "Question 5\n",
    "Hamming distance is the number of characters that differ between two strings ?\n",
    "\n",
    "To illustrate:\n",
    "\n",
    "String1: \"abcbba\"\n",
    "\n",
    "String2: \"abcbda\"\n",
    "\n",
    "Hamming Distance: 1 - \"b\" vs. \"d\" is the only difference.\n",
    "Create a function that computes the hamming distance between two strings.\n",
    "Examples:\n",
    "\n",
    "hamming_distance(\"abcde\", \"bcdef\") ➞ 5\n",
    "\n",
    "hamming_distance(\"abcde\", \"abcde\") ➞ 0\n",
    "\n",
    "hamming_distance(\"strong\", \"strung\") ➞ 1"
   ]
  },
  {
   "cell_type": "code",
   "execution_count": 30,
   "id": "ecc775b0",
   "metadata": {},
   "outputs": [
    {
     "name": "stdout",
     "output_type": "stream",
     "text": [
      "enter the string 1 : abcde\n",
      "enter the string 2 : bcdef\n",
      "hamming_distance(abcde, bcdef) ➞ 5\n",
      "enter the string 1 : abcde\n",
      "enter the string 2 : abcde\n",
      "hamming_distance(abcde, abcde) ➞ 0\n",
      "enter the string 1 : strong\n",
      "enter the string 2 : strung\n",
      "hamming_distance(strong, strung) ➞ 1\n"
     ]
    }
   ],
   "source": [
    "def ham_check(s1,s2):\n",
    "    if len(s1)==len(s2):\n",
    "        count=0\n",
    "        for i in range(len(s1)):\n",
    "            if s1[i]!=s2[i]:\n",
    "                count+=1\n",
    "        print(f\"hamming_distance({s1}, {s2}) ➞ {count}\")\n",
    "for i in range(3):\n",
    "    s1=input(\"enter the string 1 : \")\n",
    "    s2=input(\"enter the string 2 : \")\n",
    "    ham_check(s1,s2)"
   ]
  },
  {
   "cell_type": "code",
   "execution_count": null,
   "id": "159c8dcb",
   "metadata": {},
   "outputs": [],
   "source": []
  }
 ],
 "metadata": {
  "kernelspec": {
   "display_name": "Python 3 (ipykernel)",
   "language": "python",
   "name": "python3"
  },
  "language_info": {
   "codemirror_mode": {
    "name": "ipython",
    "version": 3
   },
   "file_extension": ".py",
   "mimetype": "text/x-python",
   "name": "python",
   "nbconvert_exporter": "python",
   "pygments_lexer": "ipython3",
   "version": "3.9.7"
  }
 },
 "nbformat": 4,
 "nbformat_minor": 5
}
