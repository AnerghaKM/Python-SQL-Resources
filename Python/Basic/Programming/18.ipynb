{
 "cells": [
  {
   "cell_type": "markdown",
   "id": "c5ed003b",
   "metadata": {},
   "source": [
    "Question 1\n",
    "Create a function that takes a list of non-negative integers and strings and return a new list\n",
    "without the strings.\n",
    "Examples\n",
    "\n",
    "filter_list([1, 2, &quot;a&quot;, &quot;b&quot;]) ➞ [1, 2]\n",
    "\n",
    "filter_list([1, &quot;a&quot;, &quot;b&quot;, 0, 15]) ➞ [1, 0, 15]\n",
    "\n",
    "filter_list([1, 2, &quot;aasf&quot;, &quot;1&quot;, &quot;123&quot;, 123]) ➞ [1, 2, 123]"
   ]
  },
  {
   "cell_type": "code",
   "execution_count": 9,
   "id": "013f33dd",
   "metadata": {},
   "outputs": [
    {
     "name": "stdout",
     "output_type": "stream",
     "text": [
      "enter the limit : 6\n",
      "enter the elements : 1\n",
      "enter the elements : 2\n",
      "enter the elements : aasf\n",
      "enter the elements : \"1\"\n",
      "enter the elements : \"123\"\n",
      "enter the elements : 123\n",
      "['1', '2', 'aasf', '\"1\"', '\"123\"', '123']\n",
      "filter_list(['1', '2', 'aasf', '\"1\"', '\"123\"', '123']) ➞ ['1', '2', '123']\n"
     ]
    }
   ],
   "source": [
    "lim=int(input(\"enter the limit : \"))\n",
    "l=[]\n",
    "for i in range (0,lim):\n",
    "    e=input(\"enter the elements : \")\n",
    "    l.append(e)\n",
    "print(l)\n",
    "o=[]\n",
    "for i in l:\n",
    "    if i.isdigit() and int(i)>=0:\n",
    "        o.append(i)\n",
    "print(f\"filter_list({l}) ➞ {o}\")    "
   ]
  },
  {
   "cell_type": "markdown",
   "id": "7fd6c8e6",
   "metadata": {},
   "source": [
    "Question 2\n",
    "The &quot;Reverser&quot; takes a string as input and returns that string in reverse order, with the\n",
    "opposite case.\n",
    "Examples\n",
    "\n",
    "reverse(&quot;Hello World&quot;) ➞ &quot;DLROw OLLEh&quot;\n",
    "\n",
    "reverse(&quot;ReVeRsE&quot;) ➞ &quot;eSrEvEr&quot;\n",
    "\n",
    "reverse(&quot;Radar&quot;) ➞ &quot;RADAr&quot;"
   ]
  },
  {
   "cell_type": "code",
   "execution_count": 3,
   "id": "a6b12f97",
   "metadata": {},
   "outputs": [
    {
     "name": "stdout",
     "output_type": "stream",
     "text": [
      "enter the string : Hello World\n",
      "reverse(Hello World) ➞ DLROw OLLEh\n",
      "enter the string : ReVeRsE\n",
      "reverse(ReVeRsE) ➞ eSrEvEr\n",
      "enter the string : Radar\n",
      "reverse(Radar) ➞ RADAr\n"
     ]
    }
   ],
   "source": [
    "for i in range(3):\n",
    "    r=input(\"enter the string : \")\n",
    "    case_change=r.swapcase()\n",
    "    print(f\"reverse({r}) ➞ {case_change[-1::-1]}\")\n",
    "    #print(f\"reverse({r}) ➞ {case_change[::-1]}\")"
   ]
  },
  {
   "cell_type": "markdown",
   "id": "6bfa41fb",
   "metadata": {},
   "source": [
    "Question 3\n",
    "You can assign variables from lists like this:\n",
    "\n",
    "lst = [1, 2, 3, 4, 5, 6]\n",
    "\n",
    "first = lst[0]\n",
    "\n",
    "middle = lst[1:-1]\n",
    "\n",
    "last = lst[-1]\n",
    "\n",
    "print(first) ➞ outputs 1\n",
    "\n",
    "print(middle) ➞ outputs [2, 3, 4, 5]\n",
    "\n",
    "print(last) ➞ outputs 6\n",
    "\n",
    "With Python 3, you can assign variables from lists in a much more succinct way. Create\n",
    "variables first, middle and last from the given list using destructuring assignment\n",
    "(check the Resources tab for some examples), where:\n",
    "\n",
    "first ➞ 1\n",
    "\n",
    "middle ➞ [2, 3, 4, 5]\n",
    "\n",
    "last ➞ 6\n",
    "\n",
    "Your task is to unpack the list writeyourcodehere into three variables, being first,\n",
    "middle, and last, with middle being everything in between the first and last element. Then\n",
    "print all three variables."
   ]
  },
  {
   "cell_type": "code",
   "execution_count": 8,
   "id": "a1ff7af4",
   "metadata": {},
   "outputs": [
    {
     "name": "stdout",
     "output_type": "stream",
     "text": [
      "first ➞ 1\n",
      "middle ➞ [2, 3, 4, 5]\n",
      "last ➞ 6\n"
     ]
    }
   ],
   "source": [
    "first, *middle, last = [1,2,3,4,5,6]\n",
    "print(f'first ➞ {first}')\n",
    "print(f'middle ➞ {middle}')\n",
    "print(f'last ➞ {last}')"
   ]
  },
  {
   "cell_type": "markdown",
   "id": "210a6cc3",
   "metadata": {},
   "source": [
    "Question 4\n",
    "Write a function that calculates the factorial of a number recursively.\n",
    "Examples\n",
    "\n",
    "factorial(5) ➞ 120\n",
    "\n",
    "factorial(3) ➞ 6\n",
    "\n",
    "factorial(1) ➞ 1\n",
    "\n",
    "factorial(0) ➞ 1"
   ]
  },
  {
   "cell_type": "code",
   "execution_count": 7,
   "id": "51baf60a",
   "metadata": {},
   "outputs": [
    {
     "name": "stdout",
     "output_type": "stream",
     "text": [
      "enter the number : 5\n"
     ]
    },
    {
     "data": {
      "text/plain": [
       "120"
      ]
     },
     "execution_count": 7,
     "metadata": {},
     "output_type": "execute_result"
    }
   ],
   "source": [
    "def fact(n):\n",
    "    if n==0:\n",
    "        return 1\n",
    "    else:\n",
    "        return fact(n-1)*n\n",
    "n=int(input(\"enter the number : \"))\n",
    "fact(n)    "
   ]
  },
  {
   "cell_type": "markdown",
   "id": "f9c566eb",
   "metadata": {},
   "source": [
    "Question 5\n",
    "Write a function that moves all elements of one type to the end of the list.\n",
    "Examples\n",
    "\n",
    "move_to_end([1, 3, 2, 4, 4, 1], 1) ➞ [3, 2, 4, 4, 1, 1]\n",
    "\n",
    "#Move all the 1s to the end of the array.\n",
    "\n",
    "move_to_end([7, 8, 9, 1, 2, 3, 4], 9) ➞ [7, 8, 1, 2, 3, 4, 9]\n",
    "\n",
    "move_to_end([&quot;a&quot;, &quot;a&quot;, &quot;a&quot;, &quot;b&quot;], &quot;a&quot;) ➞ [&quot;b&quot;, &quot;a&quot;, &quot;a&quot;, &quot;a&quot;]"
   ]
  },
  {
   "cell_type": "code",
   "execution_count": 11,
   "id": "b771e9be",
   "metadata": {},
   "outputs": [
    {
     "name": "stdout",
     "output_type": "stream",
     "text": [
      "enter the limit : 4\n",
      "enter the elements : a\n",
      "enter the elements : a\n",
      "enter the elements : a\n",
      "enter the elements : b\n",
      "enter the element to move : a\n",
      "move_to_end([['a', 'a', 'a', 'b']], m) ➞ [['b', 'a', 'a', 'a']]\n"
     ]
    }
   ],
   "source": [
    "lim=int(input(\"enter the limit : \"))\n",
    "l=[]\n",
    "for i in range (0,lim):\n",
    "    e=input(\"enter the elements : \")\n",
    "    l.append(e)\n",
    "m=input(\"enter the element to move : \")\n",
    "#print(l)\n",
    "l1=[]\n",
    "l2=[]\n",
    "for i in l:\n",
    "    if i==m:\n",
    "        l2.append(i)\n",
    "    else:\n",
    "        l1.append(i)\n",
    "l3=l1+l2\n",
    "print(f\"move_to_end([{l}], m) ➞ [{l3}]\")"
   ]
  },
  {
   "cell_type": "code",
   "execution_count": 16,
   "id": "ba94d17a",
   "metadata": {},
   "outputs": [
    {
     "name": "stdout",
     "output_type": "stream",
     "text": [
      "enter the limit : 5\n",
      "enter the elements : 1\n",
      "enter the elements : 2\n",
      "enter the elements : 1\n",
      "enter the elements : 3\n",
      "enter the elements : 1\n",
      "enter the element to move : 1\n",
      "move_to_end([['1', '2', '1', '3', '1']], 1) ➞ [['2', '3', '1', '1', '1']]\n"
     ]
    }
   ],
   "source": [
    "lim=int(input(\"enter the limit : \"))\n",
    "l=[]\n",
    "for i in range (0,lim):\n",
    "    e=input(\"enter the elements : \")\n",
    "    l.append(e)\n",
    "m=input(\"enter the element to move : \")\n",
    "#print(l)\n",
    "l1=[]\n",
    "l2=[]\n",
    "for i in l:\n",
    "    if i==m:\n",
    "        l2.append(i)\n",
    "    else:\n",
    "        l1.append(i)\n",
    "l1.extend(l2)\n",
    "#print(l1)\n",
    "print(f\"move_to_end([{l}], {m}) ➞ [{l1}]\")"
   ]
  },
  {
   "cell_type": "code",
   "execution_count": null,
   "id": "ddde9d1c",
   "metadata": {},
   "outputs": [],
   "source": []
  }
 ],
 "metadata": {
  "kernelspec": {
   "display_name": "Python 3 (ipykernel)",
   "language": "python",
   "name": "python3"
  },
  "language_info": {
   "codemirror_mode": {
    "name": "ipython",
    "version": 3
   },
   "file_extension": ".py",
   "mimetype": "text/x-python",
   "name": "python",
   "nbconvert_exporter": "python",
   "pygments_lexer": "ipython3",
   "version": "3.9.7"
  }
 },
 "nbformat": 4,
 "nbformat_minor": 5
}
